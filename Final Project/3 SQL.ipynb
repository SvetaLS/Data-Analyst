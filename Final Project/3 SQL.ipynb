{
 "cells": [
  {
   "cell_type": "markdown",
   "id": "dd77a835",
   "metadata": {},
   "source": [
    "# SQL"
   ]
  },
  {
   "cell_type": "markdown",
   "id": "ddcced6f",
   "metadata": {},
   "source": [
    "Коронавирус застал мир врасплох, изменив привычный порядок вещей. В свободное время жители городов больше не выходят на улицу, не посещают кафе и торговые центры. Зато стало больше времени для книг. Это заметили стартаперы — и бросились создавать приложения для тех, кто любит читать.\n",
    "\n",
    "Ваша компания решила быть на волне и купила крупный сервис для чтения книг по подписке. Ваша первая задача как аналитика — проанализировать базу данных.\n",
    "В ней — информация о книгах, издательствах, авторах, а также пользовательские обзоры книг. Эти данные помогут сформулировать ценностное предложение для нового продукта."
   ]
  },
  {
   "cell_type": "markdown",
   "id": "20b9641f",
   "metadata": {},
   "source": [
    "### Описание данных\n",
    "\n",
    "**Таблица `books`**\n",
    "\n",
    "Содержит данные о книгах:\n",
    "\n",
    "- `book_id` — идентификатор книги;\n",
    "- `author_id` — идентификатор автора;\n",
    "- `title` — название книги;\n",
    "- `num_pages` — количество страниц;\n",
    "- `publication_date` — дата публикации книги;\n",
    "- `publisher_id` — идентификатор издателя.\n",
    "\n",
    "**Таблица `authors`**\n",
    "\n",
    "Содержит данные об авторах:\n",
    "\n",
    "- `author_id` — идентификатор автора;\n",
    "- `author` — имя автора.\n",
    "\n",
    "**Таблица `publishers`**\n",
    "\n",
    "Содержит данные об издательствах:\n",
    "\n",
    "- `publisher_id` — идентификатор издательства;\n",
    "- `publisher` — название издательства;\n",
    "\n",
    "**Таблица `ratings`**\n",
    "\n",
    "Содержит данные о пользовательских оценках книг:\n",
    "\n",
    "- `rating_id` — идентификатор оценки;\n",
    "- `book_id` — идентификатор книги;\n",
    "- `username` — имя пользователя, оставившего оценку;\n",
    "- `rating` — оценка книги.\n",
    "\n",
    "**Таблица `reviews`**\n",
    "\n",
    "Содержит данные о пользовательских обзорах на книги:\n",
    "\n",
    "- `review_id` — идентификатор обзора;\n",
    "- `book_id` — идентификатор книги;\n",
    "- `username` — имя пользователя, написавшего обзор;\n",
    "- `text` — текст обзора."
   ]
  },
  {
   "cell_type": "markdown",
   "id": "4d52a0bb",
   "metadata": {},
   "source": [
    "### Задания\n",
    "\n",
    "- Посчитайте, сколько книг вышло после 1 января 2000 года;\n",
    "- Для каждой книги посчитайте количество обзоров и среднюю оценку;\n",
    "- Определите издательство, которое выпустило наибольшее число книг толще 50 страниц — так вы исключите из анализа брошюры;\n",
    "- Определите автора с самой высокой средней оценкой книг — учитывайте только книги с 50 и более оценками;\n",
    "- Посчитайте среднее количество обзоров от пользователей, которые поставили больше 48 оценок."
   ]
  },
  {
   "cell_type": "code",
   "execution_count": 1,
   "id": "a43c89a0",
   "metadata": {},
   "outputs": [],
   "source": [
    "# импортируем библиотеки\n",
    "import pandas as pd\n",
    "from sqlalchemy import text, create_engine"
   ]
  },
  {
   "cell_type": "code",
   "execution_count": 2,
   "id": "4ff47a99",
   "metadata": {},
   "outputs": [
    {
     "data": {
      "text/html": [
       "<div>\n",
       "<style scoped>\n",
       "    .dataframe tbody tr th:only-of-type {\n",
       "        vertical-align: middle;\n",
       "    }\n",
       "\n",
       "    .dataframe tbody tr th {\n",
       "        vertical-align: top;\n",
       "    }\n",
       "\n",
       "    .dataframe thead th {\n",
       "        text-align: right;\n",
       "    }\n",
       "</style>\n",
       "<table border=\"1\" class=\"dataframe\">\n",
       "  <thead>\n",
       "    <tr style=\"text-align: right;\">\n",
       "      <th></th>\n",
       "      <th>book_id</th>\n",
       "      <th>author_id</th>\n",
       "      <th>title</th>\n",
       "      <th>num_pages</th>\n",
       "      <th>publication_date</th>\n",
       "      <th>publisher_id</th>\n",
       "    </tr>\n",
       "  </thead>\n",
       "  <tbody>\n",
       "    <tr>\n",
       "      <th>0</th>\n",
       "      <td>1</td>\n",
       "      <td>546</td>\n",
       "      <td>'Salem's Lot</td>\n",
       "      <td>594</td>\n",
       "      <td>2005-11-01</td>\n",
       "      <td>93</td>\n",
       "    </tr>\n",
       "    <tr>\n",
       "      <th>1</th>\n",
       "      <td>2</td>\n",
       "      <td>465</td>\n",
       "      <td>1 000 Places to See Before You Die</td>\n",
       "      <td>992</td>\n",
       "      <td>2003-05-22</td>\n",
       "      <td>336</td>\n",
       "    </tr>\n",
       "    <tr>\n",
       "      <th>2</th>\n",
       "      <td>3</td>\n",
       "      <td>407</td>\n",
       "      <td>13 Little Blue Envelopes (Little Blue Envelope...</td>\n",
       "      <td>322</td>\n",
       "      <td>2010-12-21</td>\n",
       "      <td>135</td>\n",
       "    </tr>\n",
       "    <tr>\n",
       "      <th>3</th>\n",
       "      <td>4</td>\n",
       "      <td>82</td>\n",
       "      <td>1491: New Revelations of the Americas Before C...</td>\n",
       "      <td>541</td>\n",
       "      <td>2006-10-10</td>\n",
       "      <td>309</td>\n",
       "    </tr>\n",
       "    <tr>\n",
       "      <th>4</th>\n",
       "      <td>5</td>\n",
       "      <td>125</td>\n",
       "      <td>1776</td>\n",
       "      <td>386</td>\n",
       "      <td>2006-07-04</td>\n",
       "      <td>268</td>\n",
       "    </tr>\n",
       "  </tbody>\n",
       "</table>\n",
       "</div>"
      ],
      "text/plain": [
       "   book_id  author_id                                              title  \\\n",
       "0        1        546                                       'Salem's Lot   \n",
       "1        2        465                 1 000 Places to See Before You Die   \n",
       "2        3        407  13 Little Blue Envelopes (Little Blue Envelope...   \n",
       "3        4         82  1491: New Revelations of the Americas Before C...   \n",
       "4        5        125                                               1776   \n",
       "\n",
       "   num_pages publication_date  publisher_id  \n",
       "0        594       2005-11-01            93  \n",
       "1        992       2003-05-22           336  \n",
       "2        322       2010-12-21           135  \n",
       "3        541       2006-10-10           309  \n",
       "4        386       2006-07-04           268  "
      ]
     },
     "execution_count": 2,
     "metadata": {},
     "output_type": "execute_result"
    }
   ],
   "source": [
    "# устанавливаем параметры\n",
    "db_config = {'user': 'praktikum_student', # имя пользователя\n",
    "'pwd': 'Sdf4$2;d-d30pp', # пароль\n",
    "'host': 'rc1b-wcoijxj3yxfsf3fs.mdb.yandexcloud.net',\n",
    "'port': 6432, # порт подключения\n",
    "'db': 'data-analyst-final-project-db'} # название базы данных\n",
    "connection_string = 'postgresql://{user}:{pwd}@{host}:{port}/{db}'.format(**db_config)\n",
    "\n",
    "# сохраняем коннектор\n",
    "engine = create_engine(connection_string, connect_args={'sslmode':'require'})\n",
    "\n",
    "# чтобы выполнить SQL-запрос, используем Pandas\n",
    "query = '''SELECT * FROM books LIMIT 5'''\n",
    "\n",
    "con=engine.connect()\n",
    "\n",
    "pd.io.sql.read_sql(sql=text(query), con = con)"
   ]
  },
  {
   "cell_type": "markdown",
   "id": "5ad9921a",
   "metadata": {},
   "source": [
    "Изучим данные в каждой таблице"
   ]
  },
  {
   "cell_type": "markdown",
   "id": "e71bf911",
   "metadata": {},
   "source": [
    "Таблица `books`"
   ]
  },
  {
   "cell_type": "code",
   "execution_count": 3,
   "id": "f9ec951d",
   "metadata": {},
   "outputs": [
    {
     "data": {
      "text/html": [
       "<div>\n",
       "<style scoped>\n",
       "    .dataframe tbody tr th:only-of-type {\n",
       "        vertical-align: middle;\n",
       "    }\n",
       "\n",
       "    .dataframe tbody tr th {\n",
       "        vertical-align: top;\n",
       "    }\n",
       "\n",
       "    .dataframe thead th {\n",
       "        text-align: right;\n",
       "    }\n",
       "</style>\n",
       "<table border=\"1\" class=\"dataframe\">\n",
       "  <thead>\n",
       "    <tr style=\"text-align: right;\">\n",
       "      <th></th>\n",
       "      <th>book_id</th>\n",
       "      <th>author_id</th>\n",
       "      <th>title</th>\n",
       "      <th>num_pages</th>\n",
       "      <th>publication_date</th>\n",
       "      <th>publisher_id</th>\n",
       "    </tr>\n",
       "  </thead>\n",
       "  <tbody>\n",
       "    <tr>\n",
       "      <th>0</th>\n",
       "      <td>1</td>\n",
       "      <td>546</td>\n",
       "      <td>'Salem's Lot</td>\n",
       "      <td>594</td>\n",
       "      <td>2005-11-01</td>\n",
       "      <td>93</td>\n",
       "    </tr>\n",
       "    <tr>\n",
       "      <th>1</th>\n",
       "      <td>2</td>\n",
       "      <td>465</td>\n",
       "      <td>1 000 Places to See Before You Die</td>\n",
       "      <td>992</td>\n",
       "      <td>2003-05-22</td>\n",
       "      <td>336</td>\n",
       "    </tr>\n",
       "    <tr>\n",
       "      <th>2</th>\n",
       "      <td>3</td>\n",
       "      <td>407</td>\n",
       "      <td>13 Little Blue Envelopes (Little Blue Envelope...</td>\n",
       "      <td>322</td>\n",
       "      <td>2010-12-21</td>\n",
       "      <td>135</td>\n",
       "    </tr>\n",
       "    <tr>\n",
       "      <th>3</th>\n",
       "      <td>4</td>\n",
       "      <td>82</td>\n",
       "      <td>1491: New Revelations of the Americas Before C...</td>\n",
       "      <td>541</td>\n",
       "      <td>2006-10-10</td>\n",
       "      <td>309</td>\n",
       "    </tr>\n",
       "    <tr>\n",
       "      <th>4</th>\n",
       "      <td>5</td>\n",
       "      <td>125</td>\n",
       "      <td>1776</td>\n",
       "      <td>386</td>\n",
       "      <td>2006-07-04</td>\n",
       "      <td>268</td>\n",
       "    </tr>\n",
       "  </tbody>\n",
       "</table>\n",
       "</div>"
      ],
      "text/plain": [
       "   book_id  author_id                                              title  \\\n",
       "0        1        546                                       'Salem's Lot   \n",
       "1        2        465                 1 000 Places to See Before You Die   \n",
       "2        3        407  13 Little Blue Envelopes (Little Blue Envelope...   \n",
       "3        4         82  1491: New Revelations of the Americas Before C...   \n",
       "4        5        125                                               1776   \n",
       "\n",
       "   num_pages publication_date  publisher_id  \n",
       "0        594       2005-11-01            93  \n",
       "1        992       2003-05-22           336  \n",
       "2        322       2010-12-21           135  \n",
       "3        541       2006-10-10           309  \n",
       "4        386       2006-07-04           268  "
      ]
     },
     "metadata": {},
     "output_type": "display_data"
    },
    {
     "name": "stdout",
     "output_type": "stream",
     "text": [
      "\n",
      "<class 'pandas.core.frame.DataFrame'>\n",
      "RangeIndex: 5 entries, 0 to 4\n",
      "Data columns (total 6 columns):\n",
      " #   Column            Non-Null Count  Dtype \n",
      "---  ------            --------------  ----- \n",
      " 0   book_id           5 non-null      int64 \n",
      " 1   author_id         5 non-null      int64 \n",
      " 2   title             5 non-null      object\n",
      " 3   num_pages         5 non-null      int64 \n",
      " 4   publication_date  5 non-null      object\n",
      " 5   publisher_id      5 non-null      int64 \n",
      "dtypes: int64(4), object(2)\n",
      "memory usage: 368.0+ bytes\n"
     ]
    },
    {
     "data": {
      "text/plain": [
       "None"
      ]
     },
     "metadata": {},
     "output_type": "display_data"
    }
   ],
   "source": [
    "query = '''SELECT * FROM books LIMIT 5'''\n",
    "\n",
    "books = pd.io.sql.read_sql(query, con = engine)\n",
    "\n",
    "display(books.head())\n",
    "print()\n",
    "display(books.info())"
   ]
  },
  {
   "cell_type": "markdown",
   "id": "83fa97f1",
   "metadata": {},
   "source": [
    "Таблица `ratings`"
   ]
  },
  {
   "cell_type": "code",
   "execution_count": 4,
   "id": "3af708c4",
   "metadata": {},
   "outputs": [
    {
     "data": {
      "text/html": [
       "<div>\n",
       "<style scoped>\n",
       "    .dataframe tbody tr th:only-of-type {\n",
       "        vertical-align: middle;\n",
       "    }\n",
       "\n",
       "    .dataframe tbody tr th {\n",
       "        vertical-align: top;\n",
       "    }\n",
       "\n",
       "    .dataframe thead th {\n",
       "        text-align: right;\n",
       "    }\n",
       "</style>\n",
       "<table border=\"1\" class=\"dataframe\">\n",
       "  <thead>\n",
       "    <tr style=\"text-align: right;\">\n",
       "      <th></th>\n",
       "      <th>rating_id</th>\n",
       "      <th>book_id</th>\n",
       "      <th>username</th>\n",
       "      <th>rating</th>\n",
       "    </tr>\n",
       "  </thead>\n",
       "  <tbody>\n",
       "    <tr>\n",
       "      <th>0</th>\n",
       "      <td>1</td>\n",
       "      <td>1</td>\n",
       "      <td>ryanfranco</td>\n",
       "      <td>4</td>\n",
       "    </tr>\n",
       "    <tr>\n",
       "      <th>1</th>\n",
       "      <td>2</td>\n",
       "      <td>1</td>\n",
       "      <td>grantpatricia</td>\n",
       "      <td>2</td>\n",
       "    </tr>\n",
       "    <tr>\n",
       "      <th>2</th>\n",
       "      <td>3</td>\n",
       "      <td>1</td>\n",
       "      <td>brandtandrea</td>\n",
       "      <td>5</td>\n",
       "    </tr>\n",
       "    <tr>\n",
       "      <th>3</th>\n",
       "      <td>4</td>\n",
       "      <td>2</td>\n",
       "      <td>lorichen</td>\n",
       "      <td>3</td>\n",
       "    </tr>\n",
       "    <tr>\n",
       "      <th>4</th>\n",
       "      <td>5</td>\n",
       "      <td>2</td>\n",
       "      <td>mariokeller</td>\n",
       "      <td>2</td>\n",
       "    </tr>\n",
       "  </tbody>\n",
       "</table>\n",
       "</div>"
      ],
      "text/plain": [
       "   rating_id  book_id       username  rating\n",
       "0          1        1     ryanfranco       4\n",
       "1          2        1  grantpatricia       2\n",
       "2          3        1   brandtandrea       5\n",
       "3          4        2       lorichen       3\n",
       "4          5        2    mariokeller       2"
      ]
     },
     "metadata": {},
     "output_type": "display_data"
    },
    {
     "name": "stdout",
     "output_type": "stream",
     "text": [
      "\n",
      "<class 'pandas.core.frame.DataFrame'>\n",
      "RangeIndex: 6456 entries, 0 to 6455\n",
      "Data columns (total 4 columns):\n",
      " #   Column     Non-Null Count  Dtype \n",
      "---  ------     --------------  ----- \n",
      " 0   rating_id  6456 non-null   int64 \n",
      " 1   book_id    6456 non-null   int64 \n",
      " 2   username   6456 non-null   object\n",
      " 3   rating     6456 non-null   int64 \n",
      "dtypes: int64(3), object(1)\n",
      "memory usage: 201.9+ KB\n"
     ]
    },
    {
     "data": {
      "text/plain": [
       "None"
      ]
     },
     "metadata": {},
     "output_type": "display_data"
    }
   ],
   "source": [
    "query = '''SELECT * FROM ratings'''\n",
    "\n",
    "ratings = pd.io.sql.read_sql(query, con = engine)\n",
    "\n",
    "display(ratings.head())\n",
    "print()\n",
    "display(ratings.info())"
   ]
  },
  {
   "cell_type": "markdown",
   "id": "9bb7e742",
   "metadata": {},
   "source": [
    "Таблица `authors`"
   ]
  },
  {
   "cell_type": "code",
   "execution_count": 5,
   "id": "ff622804",
   "metadata": {},
   "outputs": [
    {
     "data": {
      "text/html": [
       "<div>\n",
       "<style scoped>\n",
       "    .dataframe tbody tr th:only-of-type {\n",
       "        vertical-align: middle;\n",
       "    }\n",
       "\n",
       "    .dataframe tbody tr th {\n",
       "        vertical-align: top;\n",
       "    }\n",
       "\n",
       "    .dataframe thead th {\n",
       "        text-align: right;\n",
       "    }\n",
       "</style>\n",
       "<table border=\"1\" class=\"dataframe\">\n",
       "  <thead>\n",
       "    <tr style=\"text-align: right;\">\n",
       "      <th></th>\n",
       "      <th>author_id</th>\n",
       "      <th>author</th>\n",
       "    </tr>\n",
       "  </thead>\n",
       "  <tbody>\n",
       "    <tr>\n",
       "      <th>0</th>\n",
       "      <td>1</td>\n",
       "      <td>A.S. Byatt</td>\n",
       "    </tr>\n",
       "    <tr>\n",
       "      <th>1</th>\n",
       "      <td>2</td>\n",
       "      <td>Aesop/Laura Harris/Laura Gibbs</td>\n",
       "    </tr>\n",
       "    <tr>\n",
       "      <th>2</th>\n",
       "      <td>3</td>\n",
       "      <td>Agatha Christie</td>\n",
       "    </tr>\n",
       "    <tr>\n",
       "      <th>3</th>\n",
       "      <td>4</td>\n",
       "      <td>Alan Brennert</td>\n",
       "    </tr>\n",
       "    <tr>\n",
       "      <th>4</th>\n",
       "      <td>5</td>\n",
       "      <td>Alan Moore/David   Lloyd</td>\n",
       "    </tr>\n",
       "  </tbody>\n",
       "</table>\n",
       "</div>"
      ],
      "text/plain": [
       "   author_id                          author\n",
       "0          1                      A.S. Byatt\n",
       "1          2  Aesop/Laura Harris/Laura Gibbs\n",
       "2          3                 Agatha Christie\n",
       "3          4                   Alan Brennert\n",
       "4          5        Alan Moore/David   Lloyd"
      ]
     },
     "metadata": {},
     "output_type": "display_data"
    },
    {
     "name": "stdout",
     "output_type": "stream",
     "text": [
      "\n",
      "<class 'pandas.core.frame.DataFrame'>\n",
      "RangeIndex: 636 entries, 0 to 635\n",
      "Data columns (total 2 columns):\n",
      " #   Column     Non-Null Count  Dtype \n",
      "---  ------     --------------  ----- \n",
      " 0   author_id  636 non-null    int64 \n",
      " 1   author     636 non-null    object\n",
      "dtypes: int64(1), object(1)\n",
      "memory usage: 10.1+ KB\n"
     ]
    },
    {
     "data": {
      "text/plain": [
       "None"
      ]
     },
     "metadata": {},
     "output_type": "display_data"
    }
   ],
   "source": [
    "query = '''SELECT * FROM authors'''\n",
    "\n",
    "authors = pd.io.sql.read_sql(query, con = engine)\n",
    "\n",
    "display(authors.head())\n",
    "print()\n",
    "display(authors.info())"
   ]
  },
  {
   "cell_type": "markdown",
   "id": "4355c1d9",
   "metadata": {},
   "source": [
    "Таблица `reviews`"
   ]
  },
  {
   "cell_type": "code",
   "execution_count": 6,
   "id": "57b6deb0",
   "metadata": {},
   "outputs": [
    {
     "data": {
      "text/html": [
       "<div>\n",
       "<style scoped>\n",
       "    .dataframe tbody tr th:only-of-type {\n",
       "        vertical-align: middle;\n",
       "    }\n",
       "\n",
       "    .dataframe tbody tr th {\n",
       "        vertical-align: top;\n",
       "    }\n",
       "\n",
       "    .dataframe thead th {\n",
       "        text-align: right;\n",
       "    }\n",
       "</style>\n",
       "<table border=\"1\" class=\"dataframe\">\n",
       "  <thead>\n",
       "    <tr style=\"text-align: right;\">\n",
       "      <th></th>\n",
       "      <th>review_id</th>\n",
       "      <th>book_id</th>\n",
       "      <th>username</th>\n",
       "      <th>text</th>\n",
       "    </tr>\n",
       "  </thead>\n",
       "  <tbody>\n",
       "    <tr>\n",
       "      <th>0</th>\n",
       "      <td>1</td>\n",
       "      <td>1</td>\n",
       "      <td>brandtandrea</td>\n",
       "      <td>Mention society tell send professor analysis. ...</td>\n",
       "    </tr>\n",
       "    <tr>\n",
       "      <th>1</th>\n",
       "      <td>2</td>\n",
       "      <td>1</td>\n",
       "      <td>ryanfranco</td>\n",
       "      <td>Foot glass pretty audience hit themselves. Amo...</td>\n",
       "    </tr>\n",
       "    <tr>\n",
       "      <th>2</th>\n",
       "      <td>3</td>\n",
       "      <td>2</td>\n",
       "      <td>lorichen</td>\n",
       "      <td>Listen treat keep worry. Miss husband tax but ...</td>\n",
       "    </tr>\n",
       "    <tr>\n",
       "      <th>3</th>\n",
       "      <td>4</td>\n",
       "      <td>3</td>\n",
       "      <td>johnsonamanda</td>\n",
       "      <td>Finally month interesting blue could nature cu...</td>\n",
       "    </tr>\n",
       "    <tr>\n",
       "      <th>4</th>\n",
       "      <td>5</td>\n",
       "      <td>3</td>\n",
       "      <td>scotttamara</td>\n",
       "      <td>Nation purpose heavy give wait song will. List...</td>\n",
       "    </tr>\n",
       "  </tbody>\n",
       "</table>\n",
       "</div>"
      ],
      "text/plain": [
       "   review_id  book_id       username  \\\n",
       "0          1        1   brandtandrea   \n",
       "1          2        1     ryanfranco   \n",
       "2          3        2       lorichen   \n",
       "3          4        3  johnsonamanda   \n",
       "4          5        3    scotttamara   \n",
       "\n",
       "                                                text  \n",
       "0  Mention society tell send professor analysis. ...  \n",
       "1  Foot glass pretty audience hit themselves. Amo...  \n",
       "2  Listen treat keep worry. Miss husband tax but ...  \n",
       "3  Finally month interesting blue could nature cu...  \n",
       "4  Nation purpose heavy give wait song will. List...  "
      ]
     },
     "metadata": {},
     "output_type": "display_data"
    },
    {
     "name": "stdout",
     "output_type": "stream",
     "text": [
      "\n",
      "<class 'pandas.core.frame.DataFrame'>\n",
      "RangeIndex: 2793 entries, 0 to 2792\n",
      "Data columns (total 4 columns):\n",
      " #   Column     Non-Null Count  Dtype \n",
      "---  ------     --------------  ----- \n",
      " 0   review_id  2793 non-null   int64 \n",
      " 1   book_id    2793 non-null   int64 \n",
      " 2   username   2793 non-null   object\n",
      " 3   text       2793 non-null   object\n",
      "dtypes: int64(2), object(2)\n",
      "memory usage: 87.4+ KB\n"
     ]
    },
    {
     "data": {
      "text/plain": [
       "None"
      ]
     },
     "metadata": {},
     "output_type": "display_data"
    }
   ],
   "source": [
    "query = '''SELECT * FROM reviews'''\n",
    "\n",
    "reviews = pd.io.sql.read_sql(query, con = engine)\n",
    "\n",
    "display(reviews.head())\n",
    "print()\n",
    "display(reviews.info())"
   ]
  },
  {
   "cell_type": "markdown",
   "id": "4a994b61",
   "metadata": {},
   "source": [
    "### Задание 1: Посчитайте, сколько книг вышло после 1 января 2000 года."
   ]
  },
  {
   "cell_type": "code",
   "execution_count": 7,
   "id": "26225348",
   "metadata": {
    "scrolled": true
   },
   "outputs": [
    {
     "data": {
      "text/html": [
       "<div>\n",
       "<style scoped>\n",
       "    .dataframe tbody tr th:only-of-type {\n",
       "        vertical-align: middle;\n",
       "    }\n",
       "\n",
       "    .dataframe tbody tr th {\n",
       "        vertical-align: top;\n",
       "    }\n",
       "\n",
       "    .dataframe thead th {\n",
       "        text-align: right;\n",
       "    }\n",
       "</style>\n",
       "<table border=\"1\" class=\"dataframe\">\n",
       "  <thead>\n",
       "    <tr style=\"text-align: right;\">\n",
       "      <th></th>\n",
       "      <th>count</th>\n",
       "    </tr>\n",
       "  </thead>\n",
       "  <tbody>\n",
       "    <tr>\n",
       "      <th>0</th>\n",
       "      <td>819</td>\n",
       "    </tr>\n",
       "  </tbody>\n",
       "</table>\n",
       "</div>"
      ],
      "text/plain": [
       "   count\n",
       "0    819"
      ]
     },
     "execution_count": 7,
     "metadata": {},
     "output_type": "execute_result"
    }
   ],
   "source": [
    "query = '''SELECT COUNT(DISTINCT book_id)\n",
    "FROM books \n",
    "WHERE publication_date > '2000-01-01'\n",
    "    '''\n",
    "pd.io.sql.read_sql(query, con = engine)"
   ]
  },
  {
   "cell_type": "markdown",
   "id": "5b93fe00",
   "metadata": {},
   "source": [
    "### Задание 2: Для каждой книги посчитайте количество обзоров и среднюю оценку."
   ]
  },
  {
   "cell_type": "code",
   "execution_count": 8,
   "id": "7f696419",
   "metadata": {},
   "outputs": [
    {
     "data": {
      "text/html": [
       "<div>\n",
       "<style scoped>\n",
       "    .dataframe tbody tr th:only-of-type {\n",
       "        vertical-align: middle;\n",
       "    }\n",
       "\n",
       "    .dataframe tbody tr th {\n",
       "        vertical-align: top;\n",
       "    }\n",
       "\n",
       "    .dataframe thead th {\n",
       "        text-align: right;\n",
       "    }\n",
       "</style>\n",
       "<table border=\"1\" class=\"dataframe\">\n",
       "  <thead>\n",
       "    <tr style=\"text-align: right;\">\n",
       "      <th></th>\n",
       "      <th>book_id</th>\n",
       "      <th>title</th>\n",
       "      <th>count</th>\n",
       "      <th>avg_rating</th>\n",
       "    </tr>\n",
       "  </thead>\n",
       "  <tbody>\n",
       "    <tr>\n",
       "      <th>0</th>\n",
       "      <td>672</td>\n",
       "      <td>The Cat in the Hat and Other Dr. Seuss Favorites</td>\n",
       "      <td>0</td>\n",
       "      <td>5.00</td>\n",
       "    </tr>\n",
       "    <tr>\n",
       "      <th>1</th>\n",
       "      <td>732</td>\n",
       "      <td>The Ghost Map: The Story of London's Most Terr...</td>\n",
       "      <td>1</td>\n",
       "      <td>5.00</td>\n",
       "    </tr>\n",
       "    <tr>\n",
       "      <th>2</th>\n",
       "      <td>182</td>\n",
       "      <td>Dead Souls</td>\n",
       "      <td>1</td>\n",
       "      <td>5.00</td>\n",
       "    </tr>\n",
       "    <tr>\n",
       "      <th>3</th>\n",
       "      <td>169</td>\n",
       "      <td>Crucial Conversations: Tools for Talking When ...</td>\n",
       "      <td>1</td>\n",
       "      <td>5.00</td>\n",
       "    </tr>\n",
       "    <tr>\n",
       "      <th>4</th>\n",
       "      <td>321</td>\n",
       "      <td>Homage to Catalonia</td>\n",
       "      <td>1</td>\n",
       "      <td>5.00</td>\n",
       "    </tr>\n",
       "    <tr>\n",
       "      <th>...</th>\n",
       "      <td>...</td>\n",
       "      <td>...</td>\n",
       "      <td>...</td>\n",
       "      <td>...</td>\n",
       "    </tr>\n",
       "    <tr>\n",
       "      <th>995</th>\n",
       "      <td>915</td>\n",
       "      <td>The World Is Flat: A Brief History of the Twen...</td>\n",
       "      <td>1</td>\n",
       "      <td>2.25</td>\n",
       "    </tr>\n",
       "    <tr>\n",
       "      <th>996</th>\n",
       "      <td>202</td>\n",
       "      <td>Drowning Ruth</td>\n",
       "      <td>1</td>\n",
       "      <td>2.00</td>\n",
       "    </tr>\n",
       "    <tr>\n",
       "      <th>997</th>\n",
       "      <td>371</td>\n",
       "      <td>Junky</td>\n",
       "      <td>1</td>\n",
       "      <td>2.00</td>\n",
       "    </tr>\n",
       "    <tr>\n",
       "      <th>998</th>\n",
       "      <td>316</td>\n",
       "      <td>His Excellency: George Washington</td>\n",
       "      <td>1</td>\n",
       "      <td>2.00</td>\n",
       "    </tr>\n",
       "    <tr>\n",
       "      <th>999</th>\n",
       "      <td>303</td>\n",
       "      <td>Harvesting the Heart</td>\n",
       "      <td>1</td>\n",
       "      <td>1.50</td>\n",
       "    </tr>\n",
       "  </tbody>\n",
       "</table>\n",
       "<p>1000 rows × 4 columns</p>\n",
       "</div>"
      ],
      "text/plain": [
       "     book_id                                              title  count  \\\n",
       "0        672   The Cat in the Hat and Other Dr. Seuss Favorites      0   \n",
       "1        732  The Ghost Map: The Story of London's Most Terr...      1   \n",
       "2        182                                         Dead Souls      1   \n",
       "3        169  Crucial Conversations: Tools for Talking When ...      1   \n",
       "4        321                                Homage to Catalonia      1   \n",
       "..       ...                                                ...    ...   \n",
       "995      915  The World Is Flat: A Brief History of the Twen...      1   \n",
       "996      202                                      Drowning Ruth      1   \n",
       "997      371                                              Junky      1   \n",
       "998      316                  His Excellency: George Washington      1   \n",
       "999      303                               Harvesting the Heart      1   \n",
       "\n",
       "     avg_rating  \n",
       "0          5.00  \n",
       "1          5.00  \n",
       "2          5.00  \n",
       "3          5.00  \n",
       "4          5.00  \n",
       "..          ...  \n",
       "995        2.25  \n",
       "996        2.00  \n",
       "997        2.00  \n",
       "998        2.00  \n",
       "999        1.50  \n",
       "\n",
       "[1000 rows x 4 columns]"
      ]
     },
     "execution_count": 8,
     "metadata": {},
     "output_type": "execute_result"
    }
   ],
   "source": [
    "query = '''SELECT books.book_id, title, COUNT(DISTINCT reviews.book_id), ROUND(AVG(rating),2) AS avg_rating\n",
    "FROM books \n",
    "LEFT JOIN reviews ON books.book_id = reviews.book_id\n",
    "LEFT JOIN ratings ON books.book_id = ratings.book_id\n",
    "GROUP BY books.book_id\n",
    "ORDER BY avg_rating DESC , count\n",
    "'''\n",
    "\n",
    "pd.io.sql.read_sql(query, con = engine)\n"
   ]
  },
  {
   "cell_type": "markdown",
   "id": "a6adcfa5",
   "metadata": {},
   "source": [
    "### Задача 3: Определите издательство, которое выпустило наибольшее число книг толще 50 страниц — так вы исключите из анализа брошюры."
   ]
  },
  {
   "cell_type": "code",
   "execution_count": 9,
   "id": "5ed4aba5",
   "metadata": {},
   "outputs": [
    {
     "data": {
      "text/html": [
       "<div>\n",
       "<style scoped>\n",
       "    .dataframe tbody tr th:only-of-type {\n",
       "        vertical-align: middle;\n",
       "    }\n",
       "\n",
       "    .dataframe tbody tr th {\n",
       "        vertical-align: top;\n",
       "    }\n",
       "\n",
       "    .dataframe thead th {\n",
       "        text-align: right;\n",
       "    }\n",
       "</style>\n",
       "<table border=\"1\" class=\"dataframe\">\n",
       "  <thead>\n",
       "    <tr style=\"text-align: right;\">\n",
       "      <th></th>\n",
       "      <th>count_books</th>\n",
       "      <th>publisher</th>\n",
       "    </tr>\n",
       "  </thead>\n",
       "  <tbody>\n",
       "    <tr>\n",
       "      <th>0</th>\n",
       "      <td>42</td>\n",
       "      <td>Penguin Books</td>\n",
       "    </tr>\n",
       "    <tr>\n",
       "      <th>1</th>\n",
       "      <td>31</td>\n",
       "      <td>Vintage</td>\n",
       "    </tr>\n",
       "    <tr>\n",
       "      <th>2</th>\n",
       "      <td>25</td>\n",
       "      <td>Grand Central Publishing</td>\n",
       "    </tr>\n",
       "    <tr>\n",
       "      <th>3</th>\n",
       "      <td>24</td>\n",
       "      <td>Penguin Classics</td>\n",
       "    </tr>\n",
       "    <tr>\n",
       "      <th>4</th>\n",
       "      <td>19</td>\n",
       "      <td>Ballantine Books</td>\n",
       "    </tr>\n",
       "    <tr>\n",
       "      <th>5</th>\n",
       "      <td>19</td>\n",
       "      <td>Bantam</td>\n",
       "    </tr>\n",
       "    <tr>\n",
       "      <th>6</th>\n",
       "      <td>17</td>\n",
       "      <td>Berkley</td>\n",
       "    </tr>\n",
       "    <tr>\n",
       "      <th>7</th>\n",
       "      <td>14</td>\n",
       "      <td>St. Martin's Press</td>\n",
       "    </tr>\n",
       "    <tr>\n",
       "      <th>8</th>\n",
       "      <td>14</td>\n",
       "      <td>Berkley Books</td>\n",
       "    </tr>\n",
       "    <tr>\n",
       "      <th>9</th>\n",
       "      <td>13</td>\n",
       "      <td>William Morrow Paperbacks</td>\n",
       "    </tr>\n",
       "  </tbody>\n",
       "</table>\n",
       "</div>"
      ],
      "text/plain": [
       "   count_books                  publisher\n",
       "0           42              Penguin Books\n",
       "1           31                    Vintage\n",
       "2           25   Grand Central Publishing\n",
       "3           24           Penguin Classics\n",
       "4           19           Ballantine Books\n",
       "5           19                     Bantam\n",
       "6           17                    Berkley\n",
       "7           14         St. Martin's Press\n",
       "8           14              Berkley Books\n",
       "9           13  William Morrow Paperbacks"
      ]
     },
     "execution_count": 9,
     "metadata": {},
     "output_type": "execute_result"
    }
   ],
   "source": [
    "query = '''SELECT  COUNT(b.book_id) AS count_books, p.publisher\n",
    "FROM books b\n",
    "LEFT JOIN publishers p\n",
    "ON b.publisher_id=p.publisher_id\n",
    "WHERE num_pages > 50\n",
    "GROUP BY publisher\n",
    "ORDER BY count_books DESC\n",
    "LIMIT 10'''\n",
    "\n",
    "pd.io.sql.read_sql(query, con = engine)"
   ]
  },
  {
   "cell_type": "markdown",
   "id": "c2f982dd",
   "metadata": {},
   "source": [
    "### Задача 4: Определите автора с самой высокой средней оценкой книг — учитывайте только книги с 50 и более оценками."
   ]
  },
  {
   "cell_type": "code",
   "execution_count": 10,
   "id": "b5ea643a",
   "metadata": {},
   "outputs": [
    {
     "data": {
      "text/html": [
       "<div>\n",
       "<style scoped>\n",
       "    .dataframe tbody tr th:only-of-type {\n",
       "        vertical-align: middle;\n",
       "    }\n",
       "\n",
       "    .dataframe tbody tr th {\n",
       "        vertical-align: top;\n",
       "    }\n",
       "\n",
       "    .dataframe thead th {\n",
       "        text-align: right;\n",
       "    }\n",
       "</style>\n",
       "<table border=\"1\" class=\"dataframe\">\n",
       "  <thead>\n",
       "    <tr style=\"text-align: right;\">\n",
       "      <th></th>\n",
       "      <th>author</th>\n",
       "      <th>avg_rating</th>\n",
       "    </tr>\n",
       "  </thead>\n",
       "  <tbody>\n",
       "    <tr>\n",
       "      <th>0</th>\n",
       "      <td>J.K. Rowling/Mary GrandPré</td>\n",
       "      <td>4.29</td>\n",
       "    </tr>\n",
       "    <tr>\n",
       "      <th>1</th>\n",
       "      <td>Markus Zusak/Cao Xuân Việt Khương</td>\n",
       "      <td>4.26</td>\n",
       "    </tr>\n",
       "    <tr>\n",
       "      <th>2</th>\n",
       "      <td>J.R.R. Tolkien</td>\n",
       "      <td>4.25</td>\n",
       "    </tr>\n",
       "    <tr>\n",
       "      <th>3</th>\n",
       "      <td>Louisa May Alcott</td>\n",
       "      <td>4.19</td>\n",
       "    </tr>\n",
       "    <tr>\n",
       "      <th>4</th>\n",
       "      <td>Rick Riordan</td>\n",
       "      <td>4.08</td>\n",
       "    </tr>\n",
       "    <tr>\n",
       "      <th>5</th>\n",
       "      <td>William Golding</td>\n",
       "      <td>3.90</td>\n",
       "    </tr>\n",
       "    <tr>\n",
       "      <th>6</th>\n",
       "      <td>J.D. Salinger</td>\n",
       "      <td>3.83</td>\n",
       "    </tr>\n",
       "    <tr>\n",
       "      <th>7</th>\n",
       "      <td>William Shakespeare/Paul Werstine/Barbara A. M...</td>\n",
       "      <td>3.79</td>\n",
       "    </tr>\n",
       "    <tr>\n",
       "      <th>8</th>\n",
       "      <td>Paulo Coelho/Alan R. Clarke/Özdemir İnce</td>\n",
       "      <td>3.79</td>\n",
       "    </tr>\n",
       "    <tr>\n",
       "      <th>9</th>\n",
       "      <td>Lois Lowry</td>\n",
       "      <td>3.75</td>\n",
       "    </tr>\n",
       "    <tr>\n",
       "      <th>10</th>\n",
       "      <td>Dan Brown</td>\n",
       "      <td>3.74</td>\n",
       "    </tr>\n",
       "    <tr>\n",
       "      <th>11</th>\n",
       "      <td>George Orwell/Boris Grabnar/Peter Škerl</td>\n",
       "      <td>3.73</td>\n",
       "    </tr>\n",
       "    <tr>\n",
       "      <th>12</th>\n",
       "      <td>Stephenie Meyer</td>\n",
       "      <td>3.66</td>\n",
       "    </tr>\n",
       "    <tr>\n",
       "      <th>13</th>\n",
       "      <td>John Steinbeck</td>\n",
       "      <td>3.62</td>\n",
       "    </tr>\n",
       "  </tbody>\n",
       "</table>\n",
       "</div>"
      ],
      "text/plain": [
       "                                               author  avg_rating\n",
       "0                          J.K. Rowling/Mary GrandPré        4.29\n",
       "1                   Markus Zusak/Cao Xuân Việt Khương        4.26\n",
       "2                                      J.R.R. Tolkien        4.25\n",
       "3                                   Louisa May Alcott        4.19\n",
       "4                                        Rick Riordan        4.08\n",
       "5                                     William Golding        3.90\n",
       "6                                       J.D. Salinger        3.83\n",
       "7   William Shakespeare/Paul Werstine/Barbara A. M...        3.79\n",
       "8            Paulo Coelho/Alan R. Clarke/Özdemir İnce        3.79\n",
       "9                                          Lois Lowry        3.75\n",
       "10                                          Dan Brown        3.74\n",
       "11            George Orwell/Boris Grabnar/Peter Škerl        3.73\n",
       "12                                    Stephenie Meyer        3.66\n",
       "13                                     John Steinbeck        3.62"
      ]
     },
     "execution_count": 10,
     "metadata": {},
     "output_type": "execute_result"
    }
   ],
   "source": [
    "query = '''\n",
    "WITH rt AS \n",
    "(SELECT book_id\n",
    "FROM ratings\n",
    "GROUP BY book_id\n",
    "HAVING COUNT(rating_id) >= 50)\n",
    "\n",
    "SELECT a.author,  ROUND(AVG(r.rating),2) AS avg_rating\n",
    "FROM books AS b\n",
    "\n",
    " JOIN rt ON b.book_id = rt.book_id\n",
    "\n",
    " JOIN authors AS a ON b.author_id = a.author_id\n",
    "\n",
    " JOIN ratings AS r ON rt.book_id = r.book_id\n",
    "\n",
    "GROUP BY a.author\n",
    "ORDER BY avg_rating DESC'''\n",
    "\n",
    "pd.io.sql.read_sql(query, con = engine)"
   ]
  },
  {
   "cell_type": "markdown",
   "id": "bdb5dcfc",
   "metadata": {},
   "source": [
    "### Задача 5: Посчитайте среднее количество обзоров от пользователей, которые поставили больше 48 оценок."
   ]
  },
  {
   "cell_type": "code",
   "execution_count": 11,
   "id": "80a146c8",
   "metadata": {
    "scrolled": false
   },
   "outputs": [
    {
     "data": {
      "text/html": [
       "<div>\n",
       "<style scoped>\n",
       "    .dataframe tbody tr th:only-of-type {\n",
       "        vertical-align: middle;\n",
       "    }\n",
       "\n",
       "    .dataframe tbody tr th {\n",
       "        vertical-align: top;\n",
       "    }\n",
       "\n",
       "    .dataframe thead th {\n",
       "        text-align: right;\n",
       "    }\n",
       "</style>\n",
       "<table border=\"1\" class=\"dataframe\">\n",
       "  <thead>\n",
       "    <tr style=\"text-align: right;\">\n",
       "      <th></th>\n",
       "      <th>avg_review_count</th>\n",
       "    </tr>\n",
       "  </thead>\n",
       "  <tbody>\n",
       "    <tr>\n",
       "      <th>0</th>\n",
       "      <td>24.0</td>\n",
       "    </tr>\n",
       "  </tbody>\n",
       "</table>\n",
       "</div>"
      ],
      "text/plain": [
       "   avg_review_count\n",
       "0              24.0"
      ]
     },
     "execution_count": 11,
     "metadata": {},
     "output_type": "execute_result"
    }
   ],
   "source": [
    "query = '''\n",
    "WITH user_rating AS \n",
    "(SELECT rt.username AS rating_username, COUNT(rating_id) AS ratings_count\n",
    "FROM ratings rt\n",
    "GROUP BY rt.username\n",
    "HAVING COUNT(rating_id) > 48),\n",
    "        \n",
    " user_review AS \n",
    "(SELECT rv.username AS review_username, COUNT(review_id) AS review_count\n",
    "FROM reviews rv\n",
    "GROUP BY rv.username)\n",
    "\n",
    "SELECT AVG(review_count) AS avg_review_count\n",
    "FROM user_rating\n",
    "JOIN user_review ON user_rating.rating_username = user_review.review_username\n",
    "     \n",
    "ORDER BY avg_review_count  DESC'''\n",
    "\n",
    "pd.io.sql.read_sql(query, con = engine)"
   ]
  },
  {
   "cell_type": "markdown",
   "id": "a78512e6",
   "metadata": {},
   "source": [
    "Вывод:\n",
    "- 819 книг вышло после 01 января 2020г;\n",
    "- У книги \"The Cat in the Hat and Other Dr. Seuss Favorites\" нет ни одного обзора, но высокий рейтинг -5;\n",
    "- Издательство \"Penguin Books\" выпустило наибольшее число книг толще 50 страниц - 42 книги;\n",
    "- Автор с самой высокой средней оценкой книг по заданому критирею явлется J.K. Rowling/Mary GrandPré, имеет средний рейтинг 4.29;\n",
    "- Cреднее количество обзоров от пользователей, которые поставили больше 48 оценок - 24."
   ]
  }
 ],
 "metadata": {
  "ExecuteTimeLog": [
   {
    "duration": 511,
    "start_time": "2023-07-31T19:15:44.992Z"
   },
   {
    "duration": 12271,
    "start_time": "2023-07-31T19:15:45.505Z"
   },
   {
    "duration": 107,
    "start_time": "2023-07-31T19:15:57.777Z"
   },
   {
    "duration": 0,
    "start_time": "2023-07-31T19:15:57.886Z"
   },
   {
    "duration": 0,
    "start_time": "2023-07-31T19:15:57.886Z"
   },
   {
    "duration": 0,
    "start_time": "2023-07-31T19:15:57.888Z"
   },
   {
    "duration": 0,
    "start_time": "2023-07-31T19:15:57.889Z"
   },
   {
    "duration": 0,
    "start_time": "2023-07-31T19:15:57.890Z"
   },
   {
    "duration": 0,
    "start_time": "2023-07-31T19:15:57.891Z"
   },
   {
    "duration": 0,
    "start_time": "2023-07-31T19:15:57.892Z"
   },
   {
    "duration": 0,
    "start_time": "2023-07-31T19:15:57.893Z"
   },
   {
    "duration": 535,
    "start_time": "2023-07-31T19:59:15.251Z"
   },
   {
    "duration": 10206,
    "start_time": "2023-07-31T19:59:15.788Z"
   },
   {
    "duration": 232,
    "start_time": "2023-07-31T19:59:25.996Z"
   },
   {
    "duration": 0,
    "start_time": "2023-07-31T19:59:26.231Z"
   },
   {
    "duration": 0,
    "start_time": "2023-07-31T19:59:26.233Z"
   },
   {
    "duration": 0,
    "start_time": "2023-07-31T19:59:26.234Z"
   },
   {
    "duration": 0,
    "start_time": "2023-07-31T19:59:26.236Z"
   },
   {
    "duration": 0,
    "start_time": "2023-07-31T19:59:26.237Z"
   },
   {
    "duration": 0,
    "start_time": "2023-07-31T19:59:26.239Z"
   },
   {
    "duration": 0,
    "start_time": "2023-07-31T19:59:26.240Z"
   },
   {
    "duration": 0,
    "start_time": "2023-07-31T19:59:26.252Z"
   },
   {
    "duration": 88,
    "start_time": "2023-07-31T20:05:21.446Z"
   },
   {
    "duration": 130,
    "start_time": "2023-07-31T20:05:32.233Z"
   },
   {
    "duration": 136,
    "start_time": "2023-07-31T20:05:49.265Z"
   },
   {
    "duration": 95,
    "start_time": "2023-07-31T20:06:08.109Z"
   },
   {
    "duration": 132,
    "start_time": "2023-07-31T20:06:24.293Z"
   },
   {
    "duration": 73,
    "start_time": "2023-07-31T20:06:36.705Z"
   },
   {
    "duration": 94,
    "start_time": "2023-07-31T20:07:01.301Z"
   },
   {
    "duration": 76,
    "start_time": "2023-07-31T20:07:06.154Z"
   },
   {
    "duration": 79,
    "start_time": "2023-07-31T20:07:09.397Z"
   },
   {
    "duration": 76,
    "start_time": "2023-07-31T20:07:14.162Z"
   },
   {
    "duration": 502,
    "start_time": "2023-07-31T20:07:41.798Z"
   },
   {
    "duration": 11633,
    "start_time": "2023-07-31T20:07:42.302Z"
   },
   {
    "duration": 150,
    "start_time": "2023-07-31T20:07:53.937Z"
   },
   {
    "duration": 138,
    "start_time": "2023-07-31T20:07:54.089Z"
   },
   {
    "duration": 83,
    "start_time": "2023-07-31T20:07:54.230Z"
   },
   {
    "duration": 99,
    "start_time": "2023-07-31T20:07:54.316Z"
   },
   {
    "duration": 93,
    "start_time": "2023-07-31T20:07:54.417Z"
   },
   {
    "duration": 92,
    "start_time": "2023-07-31T20:07:54.512Z"
   },
   {
    "duration": 75,
    "start_time": "2023-07-31T20:07:54.605Z"
   },
   {
    "duration": 78,
    "start_time": "2023-07-31T20:07:54.682Z"
   },
   {
    "duration": 75,
    "start_time": "2023-07-31T20:07:54.761Z"
   },
   {
    "duration": 84,
    "start_time": "2023-07-31T20:08:51.270Z"
   },
   {
    "duration": 83,
    "start_time": "2023-07-31T20:09:16.168Z"
   },
   {
    "duration": 581,
    "start_time": "2023-07-31T20:09:51.944Z"
   },
   {
    "duration": 3,
    "start_time": "2023-07-31T20:12:57.297Z"
   },
   {
    "duration": 88,
    "start_time": "2023-07-31T20:13:00.953Z"
   },
   {
    "duration": 136,
    "start_time": "2023-07-31T20:13:22.746Z"
   },
   {
    "duration": 95,
    "start_time": "2023-07-31T20:13:40.347Z"
   },
   {
    "duration": 545,
    "start_time": "2023-07-31T20:17:21.747Z"
   },
   {
    "duration": 11190,
    "start_time": "2023-07-31T20:17:22.294Z"
   },
   {
    "duration": 173,
    "start_time": "2023-07-31T20:17:33.486Z"
   },
   {
    "duration": 143,
    "start_time": "2023-07-31T20:17:33.662Z"
   },
   {
    "duration": 85,
    "start_time": "2023-07-31T20:17:33.807Z"
   },
   {
    "duration": 100,
    "start_time": "2023-07-31T20:17:33.894Z"
   },
   {
    "duration": 73,
    "start_time": "2023-07-31T20:17:33.995Z"
   },
   {
    "duration": 162,
    "start_time": "2023-07-31T20:17:34.070Z"
   },
   {
    "duration": 76,
    "start_time": "2023-07-31T20:17:34.234Z"
   },
   {
    "duration": 79,
    "start_time": "2023-07-31T20:17:34.312Z"
   },
   {
    "duration": 77,
    "start_time": "2023-07-31T20:17:34.393Z"
   },
   {
    "duration": 541,
    "start_time": "2023-07-31T20:24:51.051Z"
   },
   {
    "duration": 17188,
    "start_time": "2023-07-31T20:24:51.595Z"
   },
   {
    "duration": 49,
    "start_time": "2023-07-31T20:25:08.784Z"
   },
   {
    "duration": 35,
    "start_time": "2023-07-31T20:25:08.835Z"
   },
   {
    "duration": 20,
    "start_time": "2023-07-31T20:25:08.872Z"
   },
   {
    "duration": 26,
    "start_time": "2023-07-31T20:25:08.894Z"
   },
   {
    "duration": 10,
    "start_time": "2023-07-31T20:25:08.922Z"
   },
   {
    "duration": 31,
    "start_time": "2023-07-31T20:25:08.959Z"
   },
   {
    "duration": 13,
    "start_time": "2023-07-31T20:25:08.991Z"
   },
   {
    "duration": 15,
    "start_time": "2023-07-31T20:25:09.005Z"
   },
   {
    "duration": 13,
    "start_time": "2023-07-31T20:25:09.021Z"
   },
   {
    "duration": 34,
    "start_time": "2023-07-31T20:25:17.141Z"
   },
   {
    "duration": 497,
    "start_time": "2023-07-31T20:30:37.697Z"
   },
   {
    "duration": 20026,
    "start_time": "2023-07-31T20:30:38.196Z"
   },
   {
    "duration": 173,
    "start_time": "2023-07-31T20:30:58.224Z"
   },
   {
    "duration": 134,
    "start_time": "2023-07-31T20:30:58.399Z"
   },
   {
    "duration": 300,
    "start_time": "2023-07-31T20:30:58.535Z"
   },
   {
    "duration": 98,
    "start_time": "2023-07-31T20:30:58.837Z"
   },
   {
    "duration": 71,
    "start_time": "2023-07-31T20:30:58.937Z"
   },
   {
    "duration": 304,
    "start_time": "2023-07-31T20:30:59.010Z"
   },
   {
    "duration": 0,
    "start_time": "2023-07-31T20:30:59.316Z"
   },
   {
    "duration": 0,
    "start_time": "2023-07-31T20:30:59.317Z"
   },
   {
    "duration": 0,
    "start_time": "2023-07-31T20:30:59.318Z"
   },
   {
    "duration": 191,
    "start_time": "2023-07-31T20:31:27.105Z"
   },
   {
    "duration": 199,
    "start_time": "2023-07-31T20:31:41.918Z"
   },
   {
    "duration": 229,
    "start_time": "2023-07-31T20:31:59.820Z"
   },
   {
    "duration": 162,
    "start_time": "2023-07-31T20:32:37.648Z"
   },
   {
    "duration": 171,
    "start_time": "2023-07-31T20:35:53.197Z"
   },
   {
    "duration": 112,
    "start_time": "2023-07-31T20:36:19.201Z"
   },
   {
    "duration": 579,
    "start_time": "2023-07-31T20:41:40.837Z"
   },
   {
    "duration": 10056,
    "start_time": "2023-07-31T20:41:41.419Z"
   },
   {
    "duration": 168,
    "start_time": "2023-07-31T20:41:51.476Z"
   },
   {
    "duration": 135,
    "start_time": "2023-07-31T20:41:51.645Z"
   },
   {
    "duration": 82,
    "start_time": "2023-07-31T20:41:51.782Z"
   },
   {
    "duration": 100,
    "start_time": "2023-07-31T20:41:51.866Z"
   },
   {
    "duration": 75,
    "start_time": "2023-07-31T20:41:51.967Z"
   },
   {
    "duration": 92,
    "start_time": "2023-07-31T20:41:52.044Z"
   },
   {
    "duration": 76,
    "start_time": "2023-07-31T20:41:52.138Z"
   },
   {
    "duration": 81,
    "start_time": "2023-07-31T20:41:52.215Z"
   },
   {
    "duration": 77,
    "start_time": "2023-07-31T20:41:52.297Z"
   }
  ],
  "kernelspec": {
   "display_name": "Python 3 (ipykernel)",
   "language": "python",
   "name": "python3"
  },
  "language_info": {
   "codemirror_mode": {
    "name": "ipython",
    "version": 3
   },
   "file_extension": ".py",
   "mimetype": "text/x-python",
   "name": "python",
   "nbconvert_exporter": "python",
   "pygments_lexer": "ipython3",
   "version": "3.9.12"
  },
  "toc": {
   "base_numbering": 1,
   "nav_menu": {},
   "number_sections": true,
   "sideBar": true,
   "skip_h1_title": true,
   "title_cell": "Table of Contents",
   "title_sidebar": "Contents",
   "toc_cell": false,
   "toc_position": {
    "height": "calc(100% - 180px)",
    "left": "10px",
    "top": "150px",
    "width": "294.237px"
   },
   "toc_section_display": true,
   "toc_window_display": true
  }
 },
 "nbformat": 4,
 "nbformat_minor": 5
}
