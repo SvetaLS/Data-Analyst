{
 "cells": [
  {
   "cell_type": "markdown",
   "id": "c938c4fe",
   "metadata": {},
   "source": [
    "# Проект- компьютерные игры"
   ]
  },
  {
   "cell_type": "markdown",
   "id": "754d17d2",
   "metadata": {},
   "source": [
    "Вы работаете в интернет-магазине «Стримчик», который продаёт по всему миру компьютерные игры. Из открытых источников доступны исторические данные о продажах игр, оценки пользователей и экспертов, жанры и платформы (например, Xbox или PlayStation). Вам нужно выявить определяющие успешность игры закономерности. Это позволит сделать ставку на потенциально популярный продукт и спланировать рекламные кампании.\n",
    "\n",
    "Перед вами данные до 2016 года. Представим, что сейчас декабрь 2016 г., и вы планируете кампанию на 2017-й. Нужно отработать принцип работы с данными. Неважно, прогнозируете ли вы продажи на 2017 год по данным 2016-го или же 2027-й — по данным 2026 года.\n",
    "\n",
    "В наборе данных попадается аббревиатура ESRB (Entertainment Software Rating Board) — это ассоциация, определяющая возрастной рейтинг компьютерных игр. ESRB оценивает игровой контент и присваивает ему подходящую возрастную категорию, например, «Для взрослых», «Для детей младшего возраста» или «Для подростков»."
   ]
  },
  {
   "cell_type": "markdown",
   "id": "9d183d2f",
   "metadata": {},
   "source": [
    "### Цель исследования:"
   ]
  },
  {
   "cell_type": "markdown",
   "id": "8a786bb4",
   "metadata": {},
   "source": [
    "Необходимо выявить определяющие успешность игры закономерности. Это позволит сделать ставку на потенциально популярный продукт и спланировать рекламные кампании для интернет-магазина.\n",
    "\n"
   ]
  },
  {
   "cell_type": "markdown",
   "id": "ab33caab",
   "metadata": {},
   "source": [
    "### Ход исследования"
   ]
  },
  {
   "cell_type": "markdown",
   "id": "27a93f35",
   "metadata": {},
   "source": [
    "Исторические данные о продажах игр, оценки пользователей и экспертов, жанры и платформы я получу из файла '/datasets/games.csv'. О качестве данных ничего неизвестно, поэтому перед тем как приступить к целям исследования понадобится обзор данных. \n",
    "Я проверю данные на ошибки и оценю их влияние на исследование. Затем на этапе предобработки я поищу возможность исправить все ошибки данных которые не приведут к искажению кончного результата. Далее создадим необходимые столбцы и приступим к проведению исследовательского анализа. \n",
    "\n",
    "Ход исследования предполагает:\n",
    "1.  <a href=#2>Обзор данных</a>\n",
    "2.  <a href=#2>Предобработку данных</a>\n",
    "3.  <a href=#3>Исследовательский анализ данных</a>\n",
    "4.  <a href=#4>Составить портрета пользователя каждого региона</a>\n",
    "5.  <a href=#5>Проверку гипотез</a>\n",
    "6.  <a href=#6>Выводы</a>"
   ]
  },
  {
   "cell_type": "markdown",
   "id": "57b3479a",
   "metadata": {},
   "source": [
    "## <a name=\"1\"> 1. Обзор данных</a>"
   ]
  },
  {
   "cell_type": "markdown",
   "id": "c054d361",
   "metadata": {},
   "source": [
    "Импортируем необходимые библиотеки"
   ]
  },
  {
   "cell_type": "code",
   "execution_count": 1,
   "id": "cf40aa1b",
   "metadata": {},
   "outputs": [],
   "source": [
    "import pandas as pd\n",
    "import matplotlib.pyplot as plt\n",
    "import numpy as np\n",
    "import seaborn as sns\n",
    "from scipy import stats as st\n",
    "import scipy\n",
    "import warnings\n",
    "warnings.filterwarnings('ignore')"
   ]
  },
  {
   "cell_type": "markdown",
   "id": "4fd1c7ae",
   "metadata": {},
   "source": [
    "Загрузим данные"
   ]
  },
  {
   "cell_type": "code",
   "execution_count": 2,
   "id": "e87739a6",
   "metadata": {},
   "outputs": [],
   "source": [
    "try:\n",
    "    games = pd.read_csv('games.csv')\n",
    "except:\n",
    "    games = pd.read_csv('/datasets/games.csv')"
   ]
  },
  {
   "cell_type": "code",
   "execution_count": 3,
   "id": "da1eb1e6",
   "metadata": {},
   "outputs": [
    {
     "data": {
      "text/html": [
       "<div>\n",
       "<style scoped>\n",
       "    .dataframe tbody tr th:only-of-type {\n",
       "        vertical-align: middle;\n",
       "    }\n",
       "\n",
       "    .dataframe tbody tr th {\n",
       "        vertical-align: top;\n",
       "    }\n",
       "\n",
       "    .dataframe thead th {\n",
       "        text-align: right;\n",
       "    }\n",
       "</style>\n",
       "<table border=\"1\" class=\"dataframe\">\n",
       "  <thead>\n",
       "    <tr style=\"text-align: right;\">\n",
       "      <th></th>\n",
       "      <th>Name</th>\n",
       "      <th>Platform</th>\n",
       "      <th>Year_of_Release</th>\n",
       "      <th>Genre</th>\n",
       "      <th>NA_sales</th>\n",
       "      <th>EU_sales</th>\n",
       "      <th>JP_sales</th>\n",
       "      <th>Other_sales</th>\n",
       "      <th>Critic_Score</th>\n",
       "      <th>User_Score</th>\n",
       "      <th>Rating</th>\n",
       "    </tr>\n",
       "  </thead>\n",
       "  <tbody>\n",
       "    <tr>\n",
       "      <th>0</th>\n",
       "      <td>Wii Sports</td>\n",
       "      <td>Wii</td>\n",
       "      <td>2006.0</td>\n",
       "      <td>Sports</td>\n",
       "      <td>41.36</td>\n",
       "      <td>28.96</td>\n",
       "      <td>3.77</td>\n",
       "      <td>8.45</td>\n",
       "      <td>76.0</td>\n",
       "      <td>8</td>\n",
       "      <td>E</td>\n",
       "    </tr>\n",
       "    <tr>\n",
       "      <th>1</th>\n",
       "      <td>Super Mario Bros.</td>\n",
       "      <td>NES</td>\n",
       "      <td>1985.0</td>\n",
       "      <td>Platform</td>\n",
       "      <td>29.08</td>\n",
       "      <td>3.58</td>\n",
       "      <td>6.81</td>\n",
       "      <td>0.77</td>\n",
       "      <td>NaN</td>\n",
       "      <td>NaN</td>\n",
       "      <td>NaN</td>\n",
       "    </tr>\n",
       "    <tr>\n",
       "      <th>2</th>\n",
       "      <td>Mario Kart Wii</td>\n",
       "      <td>Wii</td>\n",
       "      <td>2008.0</td>\n",
       "      <td>Racing</td>\n",
       "      <td>15.68</td>\n",
       "      <td>12.76</td>\n",
       "      <td>3.79</td>\n",
       "      <td>3.29</td>\n",
       "      <td>82.0</td>\n",
       "      <td>8.3</td>\n",
       "      <td>E</td>\n",
       "    </tr>\n",
       "    <tr>\n",
       "      <th>3</th>\n",
       "      <td>Wii Sports Resort</td>\n",
       "      <td>Wii</td>\n",
       "      <td>2009.0</td>\n",
       "      <td>Sports</td>\n",
       "      <td>15.61</td>\n",
       "      <td>10.93</td>\n",
       "      <td>3.28</td>\n",
       "      <td>2.95</td>\n",
       "      <td>80.0</td>\n",
       "      <td>8</td>\n",
       "      <td>E</td>\n",
       "    </tr>\n",
       "    <tr>\n",
       "      <th>4</th>\n",
       "      <td>Pokemon Red/Pokemon Blue</td>\n",
       "      <td>GB</td>\n",
       "      <td>1996.0</td>\n",
       "      <td>Role-Playing</td>\n",
       "      <td>11.27</td>\n",
       "      <td>8.89</td>\n",
       "      <td>10.22</td>\n",
       "      <td>1.00</td>\n",
       "      <td>NaN</td>\n",
       "      <td>NaN</td>\n",
       "      <td>NaN</td>\n",
       "    </tr>\n",
       "    <tr>\n",
       "      <th>...</th>\n",
       "      <td>...</td>\n",
       "      <td>...</td>\n",
       "      <td>...</td>\n",
       "      <td>...</td>\n",
       "      <td>...</td>\n",
       "      <td>...</td>\n",
       "      <td>...</td>\n",
       "      <td>...</td>\n",
       "      <td>...</td>\n",
       "      <td>...</td>\n",
       "      <td>...</td>\n",
       "    </tr>\n",
       "    <tr>\n",
       "      <th>16710</th>\n",
       "      <td>Samurai Warriors: Sanada Maru</td>\n",
       "      <td>PS3</td>\n",
       "      <td>2016.0</td>\n",
       "      <td>Action</td>\n",
       "      <td>0.00</td>\n",
       "      <td>0.00</td>\n",
       "      <td>0.01</td>\n",
       "      <td>0.00</td>\n",
       "      <td>NaN</td>\n",
       "      <td>NaN</td>\n",
       "      <td>NaN</td>\n",
       "    </tr>\n",
       "    <tr>\n",
       "      <th>16711</th>\n",
       "      <td>LMA Manager 2007</td>\n",
       "      <td>X360</td>\n",
       "      <td>2006.0</td>\n",
       "      <td>Sports</td>\n",
       "      <td>0.00</td>\n",
       "      <td>0.01</td>\n",
       "      <td>0.00</td>\n",
       "      <td>0.00</td>\n",
       "      <td>NaN</td>\n",
       "      <td>NaN</td>\n",
       "      <td>NaN</td>\n",
       "    </tr>\n",
       "    <tr>\n",
       "      <th>16712</th>\n",
       "      <td>Haitaka no Psychedelica</td>\n",
       "      <td>PSV</td>\n",
       "      <td>2016.0</td>\n",
       "      <td>Adventure</td>\n",
       "      <td>0.00</td>\n",
       "      <td>0.00</td>\n",
       "      <td>0.01</td>\n",
       "      <td>0.00</td>\n",
       "      <td>NaN</td>\n",
       "      <td>NaN</td>\n",
       "      <td>NaN</td>\n",
       "    </tr>\n",
       "    <tr>\n",
       "      <th>16713</th>\n",
       "      <td>Spirits &amp; Spells</td>\n",
       "      <td>GBA</td>\n",
       "      <td>2003.0</td>\n",
       "      <td>Platform</td>\n",
       "      <td>0.01</td>\n",
       "      <td>0.00</td>\n",
       "      <td>0.00</td>\n",
       "      <td>0.00</td>\n",
       "      <td>NaN</td>\n",
       "      <td>NaN</td>\n",
       "      <td>NaN</td>\n",
       "    </tr>\n",
       "    <tr>\n",
       "      <th>16714</th>\n",
       "      <td>Winning Post 8 2016</td>\n",
       "      <td>PSV</td>\n",
       "      <td>2016.0</td>\n",
       "      <td>Simulation</td>\n",
       "      <td>0.00</td>\n",
       "      <td>0.00</td>\n",
       "      <td>0.01</td>\n",
       "      <td>0.00</td>\n",
       "      <td>NaN</td>\n",
       "      <td>NaN</td>\n",
       "      <td>NaN</td>\n",
       "    </tr>\n",
       "  </tbody>\n",
       "</table>\n",
       "<p>16715 rows × 11 columns</p>\n",
       "</div>"
      ],
      "text/plain": [
       "                                Name Platform  Year_of_Release         Genre  \\\n",
       "0                         Wii Sports      Wii           2006.0        Sports   \n",
       "1                  Super Mario Bros.      NES           1985.0      Platform   \n",
       "2                     Mario Kart Wii      Wii           2008.0        Racing   \n",
       "3                  Wii Sports Resort      Wii           2009.0        Sports   \n",
       "4           Pokemon Red/Pokemon Blue       GB           1996.0  Role-Playing   \n",
       "...                              ...      ...              ...           ...   \n",
       "16710  Samurai Warriors: Sanada Maru      PS3           2016.0        Action   \n",
       "16711               LMA Manager 2007     X360           2006.0        Sports   \n",
       "16712        Haitaka no Psychedelica      PSV           2016.0     Adventure   \n",
       "16713               Spirits & Spells      GBA           2003.0      Platform   \n",
       "16714            Winning Post 8 2016      PSV           2016.0    Simulation   \n",
       "\n",
       "       NA_sales  EU_sales  JP_sales  Other_sales  Critic_Score User_Score  \\\n",
       "0         41.36     28.96      3.77         8.45          76.0          8   \n",
       "1         29.08      3.58      6.81         0.77           NaN        NaN   \n",
       "2         15.68     12.76      3.79         3.29          82.0        8.3   \n",
       "3         15.61     10.93      3.28         2.95          80.0          8   \n",
       "4         11.27      8.89     10.22         1.00           NaN        NaN   \n",
       "...         ...       ...       ...          ...           ...        ...   \n",
       "16710      0.00      0.00      0.01         0.00           NaN        NaN   \n",
       "16711      0.00      0.01      0.00         0.00           NaN        NaN   \n",
       "16712      0.00      0.00      0.01         0.00           NaN        NaN   \n",
       "16713      0.01      0.00      0.00         0.00           NaN        NaN   \n",
       "16714      0.00      0.00      0.01         0.00           NaN        NaN   \n",
       "\n",
       "      Rating  \n",
       "0          E  \n",
       "1        NaN  \n",
       "2          E  \n",
       "3          E  \n",
       "4        NaN  \n",
       "...      ...  \n",
       "16710    NaN  \n",
       "16711    NaN  \n",
       "16712    NaN  \n",
       "16713    NaN  \n",
       "16714    NaN  \n",
       "\n",
       "[16715 rows x 11 columns]"
      ]
     },
     "metadata": {},
     "output_type": "display_data"
    },
    {
     "name": "stdout",
     "output_type": "stream",
     "text": [
      "<class 'pandas.core.frame.DataFrame'>\n",
      "RangeIndex: 16715 entries, 0 to 16714\n",
      "Data columns (total 11 columns):\n",
      " #   Column           Non-Null Count  Dtype  \n",
      "---  ------           --------------  -----  \n",
      " 0   Name             16713 non-null  object \n",
      " 1   Platform         16715 non-null  object \n",
      " 2   Year_of_Release  16446 non-null  float64\n",
      " 3   Genre            16713 non-null  object \n",
      " 4   NA_sales         16715 non-null  float64\n",
      " 5   EU_sales         16715 non-null  float64\n",
      " 6   JP_sales         16715 non-null  float64\n",
      " 7   Other_sales      16715 non-null  float64\n",
      " 8   Critic_Score     8137 non-null   float64\n",
      " 9   User_Score       10014 non-null  object \n",
      " 10  Rating           9949 non-null   object \n",
      "dtypes: float64(6), object(5)\n",
      "memory usage: 1.4+ MB\n"
     ]
    }
   ],
   "source": [
    "display(games)\n",
    "games.info()"
   ]
  },
  {
   "cell_type": "markdown",
   "id": "fa7193f6",
   "metadata": {},
   "source": [
    "#### Описание данных:\n",
    "\n",
    "Name — название игры\n",
    "\n",
    "Platform — платформа\n",
    "\n",
    "Year_of_Release — год выпуска\n",
    "\n",
    "Genre — жанр игры\n",
    "\n",
    "NA_sales — продажи в Северной Америке (миллионы проданных копий)\n",
    "\n",
    "EU_sales — продажи в Европе (миллионы проданных копий)\n",
    "\n",
    "JP_sales — продажи в Японии (миллионы проданных копий)\n",
    "\n",
    "Other_sales — продажи в других странах (миллионы проданных копий)\n",
    "\n",
    "Critic_Score — оценка критиков (максимум 100)\n",
    "\n",
    "User_Score — оценка пользователей (максимум 10)\n",
    "\n",
    "Rating — рейтинг от организации ESRB (англ. Entertainment Software Rating Board). Эта ассоциация определяет рейтинг компьютерных игр и присваивает им подходящую возрастную категорию."
   ]
  },
  {
   "cell_type": "markdown",
   "id": "64ff1f30",
   "metadata": {},
   "source": [
    "Вывод:"
   ]
  },
  {
   "cell_type": "markdown",
   "id": "5071cfc9",
   "metadata": {},
   "source": [
    "Наш набор данных включает 16715 строк и 11 столбцов, названия столбцов не соответствует требуемым стандартам. Достаточно много пропусков в столбцах оценок и рейтинга, с которыми нам нужно будет разобраться. Так же необходимо изменить тип данных в некоторых столбцах."
   ]
  },
  {
   "cell_type": "markdown",
   "id": "a23483e2",
   "metadata": {},
   "source": [
    "## <a name=\"2\"> 2. Предобработка данных</a>"
   ]
  },
  {
   "cell_type": "markdown",
   "id": "9cbfea8d",
   "metadata": {},
   "source": [
    "Переименуем столбцы, переведем названия в нижний регистр."
   ]
  },
  {
   "cell_type": "code",
   "execution_count": 4,
   "id": "f239cc99",
   "metadata": {},
   "outputs": [
    {
     "data": {
      "text/html": [
       "<div>\n",
       "<style scoped>\n",
       "    .dataframe tbody tr th:only-of-type {\n",
       "        vertical-align: middle;\n",
       "    }\n",
       "\n",
       "    .dataframe tbody tr th {\n",
       "        vertical-align: top;\n",
       "    }\n",
       "\n",
       "    .dataframe thead th {\n",
       "        text-align: right;\n",
       "    }\n",
       "</style>\n",
       "<table border=\"1\" class=\"dataframe\">\n",
       "  <thead>\n",
       "    <tr style=\"text-align: right;\">\n",
       "      <th></th>\n",
       "      <th>name</th>\n",
       "      <th>platform</th>\n",
       "      <th>year_of_release</th>\n",
       "      <th>genre</th>\n",
       "      <th>na_sales</th>\n",
       "      <th>eu_sales</th>\n",
       "      <th>jp_sales</th>\n",
       "      <th>other_sales</th>\n",
       "      <th>critic_score</th>\n",
       "      <th>user_score</th>\n",
       "      <th>rating</th>\n",
       "    </tr>\n",
       "  </thead>\n",
       "  <tbody>\n",
       "    <tr>\n",
       "      <th>0</th>\n",
       "      <td>Wii Sports</td>\n",
       "      <td>Wii</td>\n",
       "      <td>2006.0</td>\n",
       "      <td>Sports</td>\n",
       "      <td>41.36</td>\n",
       "      <td>28.96</td>\n",
       "      <td>3.77</td>\n",
       "      <td>8.45</td>\n",
       "      <td>76.0</td>\n",
       "      <td>8</td>\n",
       "      <td>E</td>\n",
       "    </tr>\n",
       "    <tr>\n",
       "      <th>1</th>\n",
       "      <td>Super Mario Bros.</td>\n",
       "      <td>NES</td>\n",
       "      <td>1985.0</td>\n",
       "      <td>Platform</td>\n",
       "      <td>29.08</td>\n",
       "      <td>3.58</td>\n",
       "      <td>6.81</td>\n",
       "      <td>0.77</td>\n",
       "      <td>NaN</td>\n",
       "      <td>NaN</td>\n",
       "      <td>NaN</td>\n",
       "    </tr>\n",
       "    <tr>\n",
       "      <th>2</th>\n",
       "      <td>Mario Kart Wii</td>\n",
       "      <td>Wii</td>\n",
       "      <td>2008.0</td>\n",
       "      <td>Racing</td>\n",
       "      <td>15.68</td>\n",
       "      <td>12.76</td>\n",
       "      <td>3.79</td>\n",
       "      <td>3.29</td>\n",
       "      <td>82.0</td>\n",
       "      <td>8.3</td>\n",
       "      <td>E</td>\n",
       "    </tr>\n",
       "    <tr>\n",
       "      <th>3</th>\n",
       "      <td>Wii Sports Resort</td>\n",
       "      <td>Wii</td>\n",
       "      <td>2009.0</td>\n",
       "      <td>Sports</td>\n",
       "      <td>15.61</td>\n",
       "      <td>10.93</td>\n",
       "      <td>3.28</td>\n",
       "      <td>2.95</td>\n",
       "      <td>80.0</td>\n",
       "      <td>8</td>\n",
       "      <td>E</td>\n",
       "    </tr>\n",
       "    <tr>\n",
       "      <th>4</th>\n",
       "      <td>Pokemon Red/Pokemon Blue</td>\n",
       "      <td>GB</td>\n",
       "      <td>1996.0</td>\n",
       "      <td>Role-Playing</td>\n",
       "      <td>11.27</td>\n",
       "      <td>8.89</td>\n",
       "      <td>10.22</td>\n",
       "      <td>1.00</td>\n",
       "      <td>NaN</td>\n",
       "      <td>NaN</td>\n",
       "      <td>NaN</td>\n",
       "    </tr>\n",
       "  </tbody>\n",
       "</table>\n",
       "</div>"
      ],
      "text/plain": [
       "                       name platform  year_of_release         genre  na_sales  \\\n",
       "0                Wii Sports      Wii           2006.0        Sports     41.36   \n",
       "1         Super Mario Bros.      NES           1985.0      Platform     29.08   \n",
       "2            Mario Kart Wii      Wii           2008.0        Racing     15.68   \n",
       "3         Wii Sports Resort      Wii           2009.0        Sports     15.61   \n",
       "4  Pokemon Red/Pokemon Blue       GB           1996.0  Role-Playing     11.27   \n",
       "\n",
       "   eu_sales  jp_sales  other_sales  critic_score user_score rating  \n",
       "0     28.96      3.77         8.45          76.0          8      E  \n",
       "1      3.58      6.81         0.77           NaN        NaN    NaN  \n",
       "2     12.76      3.79         3.29          82.0        8.3      E  \n",
       "3     10.93      3.28         2.95          80.0          8      E  \n",
       "4      8.89     10.22         1.00           NaN        NaN    NaN  "
      ]
     },
     "execution_count": 4,
     "metadata": {},
     "output_type": "execute_result"
    }
   ],
   "source": [
    "games.columns = games.columns.str.lower()\n",
    "games.head()"
   ]
  },
  {
   "cell_type": "markdown",
   "id": "07b5ab57",
   "metadata": {},
   "source": [
    "<div class=\"alert-success\"> \n",
    "<b>Комментарий ревьюера 👍 </b>\n",
    "\n",
    "Хвалю, что используешь str.lower, а не громоздкие неоптимальные конструкции"
   ]
  },
  {
   "cell_type": "markdown",
   "id": "fdf4a93c",
   "metadata": {},
   "source": [
    "Обработаем пропуски в данных."
   ]
  },
  {
   "cell_type": "code",
   "execution_count": 5,
   "id": "7e1f412a",
   "metadata": {},
   "outputs": [
    {
     "data": {
      "text/html": [
       "<style type=\"text/css\">\n",
       "#T_9be73_row0_col0, #T_9be73_row1_col0, #T_9be73_row3_col0, #T_9be73_row4_col0, #T_9be73_row5_col0, #T_9be73_row6_col0, #T_9be73_row7_col0 {\n",
       "  background-color: #3b4cc0;\n",
       "  color: #f1f1f1;\n",
       "}\n",
       "#T_9be73_row2_col0 {\n",
       "  background-color: #445acc;\n",
       "  color: #f1f1f1;\n",
       "}\n",
       "#T_9be73_row8_col0 {\n",
       "  background-color: #b40426;\n",
       "  color: #f1f1f1;\n",
       "}\n",
       "#T_9be73_row9_col0 {\n",
       "  background-color: #f18d6f;\n",
       "  color: #f1f1f1;\n",
       "}\n",
       "#T_9be73_row10_col0 {\n",
       "  background-color: #f08a6c;\n",
       "  color: #f1f1f1;\n",
       "}\n",
       "</style>\n",
       "<table id=\"T_9be73\">\n",
       "  <thead>\n",
       "    <tr>\n",
       "      <th class=\"blank level0\" >&nbsp;</th>\n",
       "      <th id=\"T_9be73_level0_col0\" class=\"col_heading level0 col0\" >0</th>\n",
       "    </tr>\n",
       "  </thead>\n",
       "  <tbody>\n",
       "    <tr>\n",
       "      <th id=\"T_9be73_level0_row0\" class=\"row_heading level0 row0\" >name</th>\n",
       "      <td id=\"T_9be73_row0_col0\" class=\"data row0 col0\" >0.012000</td>\n",
       "    </tr>\n",
       "    <tr>\n",
       "      <th id=\"T_9be73_level0_row1\" class=\"row_heading level0 row1\" >platform</th>\n",
       "      <td id=\"T_9be73_row1_col0\" class=\"data row1 col0\" >0.000000</td>\n",
       "    </tr>\n",
       "    <tr>\n",
       "      <th id=\"T_9be73_level0_row2\" class=\"row_heading level0 row2\" >year_of_release</th>\n",
       "      <td id=\"T_9be73_row2_col0\" class=\"data row2 col0\" >1.609000</td>\n",
       "    </tr>\n",
       "    <tr>\n",
       "      <th id=\"T_9be73_level0_row3\" class=\"row_heading level0 row3\" >genre</th>\n",
       "      <td id=\"T_9be73_row3_col0\" class=\"data row3 col0\" >0.012000</td>\n",
       "    </tr>\n",
       "    <tr>\n",
       "      <th id=\"T_9be73_level0_row4\" class=\"row_heading level0 row4\" >na_sales</th>\n",
       "      <td id=\"T_9be73_row4_col0\" class=\"data row4 col0\" >0.000000</td>\n",
       "    </tr>\n",
       "    <tr>\n",
       "      <th id=\"T_9be73_level0_row5\" class=\"row_heading level0 row5\" >eu_sales</th>\n",
       "      <td id=\"T_9be73_row5_col0\" class=\"data row5 col0\" >0.000000</td>\n",
       "    </tr>\n",
       "    <tr>\n",
       "      <th id=\"T_9be73_level0_row6\" class=\"row_heading level0 row6\" >jp_sales</th>\n",
       "      <td id=\"T_9be73_row6_col0\" class=\"data row6 col0\" >0.000000</td>\n",
       "    </tr>\n",
       "    <tr>\n",
       "      <th id=\"T_9be73_level0_row7\" class=\"row_heading level0 row7\" >other_sales</th>\n",
       "      <td id=\"T_9be73_row7_col0\" class=\"data row7 col0\" >0.000000</td>\n",
       "    </tr>\n",
       "    <tr>\n",
       "      <th id=\"T_9be73_level0_row8\" class=\"row_heading level0 row8\" >critic_score</th>\n",
       "      <td id=\"T_9be73_row8_col0\" class=\"data row8 col0\" >51.319000</td>\n",
       "    </tr>\n",
       "    <tr>\n",
       "      <th id=\"T_9be73_level0_row9\" class=\"row_heading level0 row9\" >user_score</th>\n",
       "      <td id=\"T_9be73_row9_col0\" class=\"data row9 col0\" >40.090000</td>\n",
       "    </tr>\n",
       "    <tr>\n",
       "      <th id=\"T_9be73_level0_row10\" class=\"row_heading level0 row10\" >rating</th>\n",
       "      <td id=\"T_9be73_row10_col0\" class=\"data row10 col0\" >40.479000</td>\n",
       "    </tr>\n",
       "  </tbody>\n",
       "</table>\n"
      ],
      "text/plain": [
       "<pandas.io.formats.style.Styler at 0x156d6ddf8e0>"
      ]
     },
     "execution_count": 5,
     "metadata": {},
     "output_type": "execute_result"
    }
   ],
   "source": [
    "pd.DataFrame(round(games.isna().mean()*100, 3)).style.background_gradient('coolwarm')"
   ]
  },
  {
   "cell_type": "markdown",
   "id": "9eab24a3",
   "metadata": {},
   "source": [
    "Пропуски в столбцах name и genre можно удалить, это всего две строки."
   ]
  },
  {
   "cell_type": "code",
   "execution_count": 6,
   "id": "43c2e882",
   "metadata": {},
   "outputs": [],
   "source": [
    "games = games.dropna(subset=['name'])\n",
    "games = games.dropna(subset=['genre'])"
   ]
  },
  {
   "cell_type": "markdown",
   "id": "de21eb72",
   "metadata": {},
   "source": [
    "Пропуски в столбце year_of_release тоже удалим так как заполнить их нечем, объем менее 2% процентов, много не потеряем."
   ]
  },
  {
   "cell_type": "code",
   "execution_count": 7,
   "id": "cb062838",
   "metadata": {},
   "outputs": [],
   "source": [
    "games = games.dropna(subset=['year_of_release'])"
   ]
  },
  {
   "cell_type": "markdown",
   "id": "390348cc",
   "metadata": {},
   "source": [
    "Переведем столбец year_of_release в цельночисленный формат."
   ]
  },
  {
   "cell_type": "code",
   "execution_count": 8,
   "id": "3e510d56",
   "metadata": {},
   "outputs": [],
   "source": [
    "games['year_of_release'] = games['year_of_release'].astype('int')"
   ]
  },
  {
   "cell_type": "code",
   "execution_count": 9,
   "id": "6e9c2d9a",
   "metadata": {},
   "outputs": [
    {
     "name": "stdout",
     "output_type": "stream",
     "text": [
      "<class 'pandas.core.frame.DataFrame'>\n",
      "Int64Index: 16444 entries, 0 to 16714\n",
      "Data columns (total 11 columns):\n",
      " #   Column           Non-Null Count  Dtype  \n",
      "---  ------           --------------  -----  \n",
      " 0   name             16444 non-null  object \n",
      " 1   platform         16444 non-null  object \n",
      " 2   year_of_release  16444 non-null  int32  \n",
      " 3   genre            16444 non-null  object \n",
      " 4   na_sales         16444 non-null  float64\n",
      " 5   eu_sales         16444 non-null  float64\n",
      " 6   jp_sales         16444 non-null  float64\n",
      " 7   other_sales      16444 non-null  float64\n",
      " 8   critic_score     7983 non-null   float64\n",
      " 9   user_score       9839 non-null   object \n",
      " 10  rating           9768 non-null   object \n",
      "dtypes: float64(5), int32(1), object(5)\n",
      "memory usage: 1.4+ MB\n"
     ]
    }
   ],
   "source": [
    "games.info()"
   ]
  },
  {
   "cell_type": "markdown",
   "id": "0b328e56",
   "metadata": {},
   "source": [
    "Теперь данные пропущенны только в столбцах оценок и рейтинга, удалять строки с отсутствующими в них значениями не будем, так как потеряем большой объем данных. Возможно они не случайны, пропуски соотвествуют почти для всех строк с отсутствующими значениями."
   ]
  },
  {
   "cell_type": "markdown",
   "id": "ed60b7c3",
   "metadata": {},
   "source": [
    "Аббревиатура 'tbd' в столбце с оценкой пользователей звучит как \"to be detirmined\" или \"будет определено\". Заменим 'tbd' и пропуски  в столбцах critic_score, user_score, rating   \"заглушками\"  и переведем в соответствующий формат."
   ]
  },
  {
   "cell_type": "code",
   "execution_count": 10,
   "id": "62378422",
   "metadata": {},
   "outputs": [
    {
     "data": {
      "text/html": [
       "<div>\n",
       "<style scoped>\n",
       "    .dataframe tbody tr th:only-of-type {\n",
       "        vertical-align: middle;\n",
       "    }\n",
       "\n",
       "    .dataframe tbody tr th {\n",
       "        vertical-align: top;\n",
       "    }\n",
       "\n",
       "    .dataframe thead th {\n",
       "        text-align: right;\n",
       "    }\n",
       "</style>\n",
       "<table border=\"1\" class=\"dataframe\">\n",
       "  <thead>\n",
       "    <tr style=\"text-align: right;\">\n",
       "      <th></th>\n",
       "      <th>name</th>\n",
       "      <th>platform</th>\n",
       "      <th>year_of_release</th>\n",
       "      <th>genre</th>\n",
       "      <th>na_sales</th>\n",
       "      <th>eu_sales</th>\n",
       "      <th>jp_sales</th>\n",
       "      <th>other_sales</th>\n",
       "      <th>critic_score</th>\n",
       "      <th>user_score</th>\n",
       "      <th>rating</th>\n",
       "    </tr>\n",
       "  </thead>\n",
       "  <tbody>\n",
       "    <tr>\n",
       "      <th>119</th>\n",
       "      <td>Zumba Fitness</td>\n",
       "      <td>Wii</td>\n",
       "      <td>2010</td>\n",
       "      <td>Sports</td>\n",
       "      <td>3.45</td>\n",
       "      <td>2.59</td>\n",
       "      <td>0.0</td>\n",
       "      <td>0.66</td>\n",
       "      <td>NaN</td>\n",
       "      <td>tbd</td>\n",
       "      <td>E</td>\n",
       "    </tr>\n",
       "    <tr>\n",
       "      <th>301</th>\n",
       "      <td>Namco Museum: 50th Anniversary</td>\n",
       "      <td>PS2</td>\n",
       "      <td>2005</td>\n",
       "      <td>Misc</td>\n",
       "      <td>2.08</td>\n",
       "      <td>1.35</td>\n",
       "      <td>0.0</td>\n",
       "      <td>0.54</td>\n",
       "      <td>61.0</td>\n",
       "      <td>tbd</td>\n",
       "      <td>E10+</td>\n",
       "    </tr>\n",
       "    <tr>\n",
       "      <th>520</th>\n",
       "      <td>Zumba Fitness 2</td>\n",
       "      <td>Wii</td>\n",
       "      <td>2011</td>\n",
       "      <td>Sports</td>\n",
       "      <td>1.51</td>\n",
       "      <td>1.03</td>\n",
       "      <td>0.0</td>\n",
       "      <td>0.27</td>\n",
       "      <td>NaN</td>\n",
       "      <td>tbd</td>\n",
       "      <td>T</td>\n",
       "    </tr>\n",
       "    <tr>\n",
       "      <th>645</th>\n",
       "      <td>uDraw Studio</td>\n",
       "      <td>Wii</td>\n",
       "      <td>2010</td>\n",
       "      <td>Misc</td>\n",
       "      <td>1.65</td>\n",
       "      <td>0.57</td>\n",
       "      <td>0.0</td>\n",
       "      <td>0.20</td>\n",
       "      <td>71.0</td>\n",
       "      <td>tbd</td>\n",
       "      <td>E</td>\n",
       "    </tr>\n",
       "    <tr>\n",
       "      <th>718</th>\n",
       "      <td>Just Dance Kids</td>\n",
       "      <td>Wii</td>\n",
       "      <td>2010</td>\n",
       "      <td>Misc</td>\n",
       "      <td>1.52</td>\n",
       "      <td>0.54</td>\n",
       "      <td>0.0</td>\n",
       "      <td>0.18</td>\n",
       "      <td>NaN</td>\n",
       "      <td>tbd</td>\n",
       "      <td>E</td>\n",
       "    </tr>\n",
       "    <tr>\n",
       "      <th>...</th>\n",
       "      <td>...</td>\n",
       "      <td>...</td>\n",
       "      <td>...</td>\n",
       "      <td>...</td>\n",
       "      <td>...</td>\n",
       "      <td>...</td>\n",
       "      <td>...</td>\n",
       "      <td>...</td>\n",
       "      <td>...</td>\n",
       "      <td>...</td>\n",
       "      <td>...</td>\n",
       "    </tr>\n",
       "    <tr>\n",
       "      <th>16695</th>\n",
       "      <td>Planet Monsters</td>\n",
       "      <td>GBA</td>\n",
       "      <td>2001</td>\n",
       "      <td>Action</td>\n",
       "      <td>0.01</td>\n",
       "      <td>0.00</td>\n",
       "      <td>0.0</td>\n",
       "      <td>0.00</td>\n",
       "      <td>67.0</td>\n",
       "      <td>tbd</td>\n",
       "      <td>E</td>\n",
       "    </tr>\n",
       "    <tr>\n",
       "      <th>16697</th>\n",
       "      <td>Bust-A-Move 3000</td>\n",
       "      <td>GC</td>\n",
       "      <td>2003</td>\n",
       "      <td>Puzzle</td>\n",
       "      <td>0.01</td>\n",
       "      <td>0.00</td>\n",
       "      <td>0.0</td>\n",
       "      <td>0.00</td>\n",
       "      <td>53.0</td>\n",
       "      <td>tbd</td>\n",
       "      <td>E</td>\n",
       "    </tr>\n",
       "    <tr>\n",
       "      <th>16698</th>\n",
       "      <td>Mega Brain Boost</td>\n",
       "      <td>DS</td>\n",
       "      <td>2008</td>\n",
       "      <td>Puzzle</td>\n",
       "      <td>0.01</td>\n",
       "      <td>0.00</td>\n",
       "      <td>0.0</td>\n",
       "      <td>0.00</td>\n",
       "      <td>48.0</td>\n",
       "      <td>tbd</td>\n",
       "      <td>E</td>\n",
       "    </tr>\n",
       "    <tr>\n",
       "      <th>16704</th>\n",
       "      <td>Plushees</td>\n",
       "      <td>DS</td>\n",
       "      <td>2008</td>\n",
       "      <td>Simulation</td>\n",
       "      <td>0.01</td>\n",
       "      <td>0.00</td>\n",
       "      <td>0.0</td>\n",
       "      <td>0.00</td>\n",
       "      <td>NaN</td>\n",
       "      <td>tbd</td>\n",
       "      <td>E</td>\n",
       "    </tr>\n",
       "    <tr>\n",
       "      <th>16706</th>\n",
       "      <td>Men in Black II: Alien Escape</td>\n",
       "      <td>GC</td>\n",
       "      <td>2003</td>\n",
       "      <td>Shooter</td>\n",
       "      <td>0.01</td>\n",
       "      <td>0.00</td>\n",
       "      <td>0.0</td>\n",
       "      <td>0.00</td>\n",
       "      <td>NaN</td>\n",
       "      <td>tbd</td>\n",
       "      <td>T</td>\n",
       "    </tr>\n",
       "  </tbody>\n",
       "</table>\n",
       "<p>2376 rows × 11 columns</p>\n",
       "</div>"
      ],
      "text/plain": [
       "                                 name platform  year_of_release       genre  \\\n",
       "119                     Zumba Fitness      Wii             2010      Sports   \n",
       "301    Namco Museum: 50th Anniversary      PS2             2005        Misc   \n",
       "520                   Zumba Fitness 2      Wii             2011      Sports   \n",
       "645                      uDraw Studio      Wii             2010        Misc   \n",
       "718                   Just Dance Kids      Wii             2010        Misc   \n",
       "...                               ...      ...              ...         ...   \n",
       "16695                 Planet Monsters      GBA             2001      Action   \n",
       "16697                Bust-A-Move 3000       GC             2003      Puzzle   \n",
       "16698                Mega Brain Boost       DS             2008      Puzzle   \n",
       "16704                        Plushees       DS             2008  Simulation   \n",
       "16706   Men in Black II: Alien Escape       GC             2003     Shooter   \n",
       "\n",
       "       na_sales  eu_sales  jp_sales  other_sales  critic_score user_score  \\\n",
       "119        3.45      2.59       0.0         0.66           NaN        tbd   \n",
       "301        2.08      1.35       0.0         0.54          61.0        tbd   \n",
       "520        1.51      1.03       0.0         0.27           NaN        tbd   \n",
       "645        1.65      0.57       0.0         0.20          71.0        tbd   \n",
       "718        1.52      0.54       0.0         0.18           NaN        tbd   \n",
       "...         ...       ...       ...          ...           ...        ...   \n",
       "16695      0.01      0.00       0.0         0.00          67.0        tbd   \n",
       "16697      0.01      0.00       0.0         0.00          53.0        tbd   \n",
       "16698      0.01      0.00       0.0         0.00          48.0        tbd   \n",
       "16704      0.01      0.00       0.0         0.00           NaN        tbd   \n",
       "16706      0.01      0.00       0.0         0.00           NaN        tbd   \n",
       "\n",
       "      rating  \n",
       "119        E  \n",
       "301     E10+  \n",
       "520        T  \n",
       "645        E  \n",
       "718        E  \n",
       "...      ...  \n",
       "16695      E  \n",
       "16697      E  \n",
       "16698      E  \n",
       "16704      E  \n",
       "16706      T  \n",
       "\n",
       "[2376 rows x 11 columns]"
      ]
     },
     "execution_count": 10,
     "metadata": {},
     "output_type": "execute_result"
    }
   ],
   "source": [
    "games.query('user_score == \"tbd\"')"
   ]
  },
  {
   "cell_type": "code",
   "execution_count": 11,
   "id": "1c8d770e",
   "metadata": {},
   "outputs": [],
   "source": [
    "games['user_score']=pd.to_numeric(games['user_score'], errors='coerce')"
   ]
  },
  {
   "cell_type": "code",
   "execution_count": 12,
   "id": "bfecd1ce",
   "metadata": {},
   "outputs": [
    {
     "data": {
      "text/html": [
       "<div>\n",
       "<style scoped>\n",
       "    .dataframe tbody tr th:only-of-type {\n",
       "        vertical-align: middle;\n",
       "    }\n",
       "\n",
       "    .dataframe tbody tr th {\n",
       "        vertical-align: top;\n",
       "    }\n",
       "\n",
       "    .dataframe thead th {\n",
       "        text-align: right;\n",
       "    }\n",
       "</style>\n",
       "<table border=\"1\" class=\"dataframe\">\n",
       "  <thead>\n",
       "    <tr style=\"text-align: right;\">\n",
       "      <th></th>\n",
       "      <th>name</th>\n",
       "      <th>platform</th>\n",
       "      <th>year_of_release</th>\n",
       "      <th>genre</th>\n",
       "      <th>na_sales</th>\n",
       "      <th>eu_sales</th>\n",
       "      <th>jp_sales</th>\n",
       "      <th>other_sales</th>\n",
       "      <th>critic_score</th>\n",
       "      <th>user_score</th>\n",
       "      <th>rating</th>\n",
       "    </tr>\n",
       "  </thead>\n",
       "  <tbody>\n",
       "    <tr>\n",
       "      <th>0</th>\n",
       "      <td>Wii Sports</td>\n",
       "      <td>Wii</td>\n",
       "      <td>2006</td>\n",
       "      <td>Sports</td>\n",
       "      <td>41.36</td>\n",
       "      <td>28.96</td>\n",
       "      <td>3.77</td>\n",
       "      <td>8.45</td>\n",
       "      <td>76.0</td>\n",
       "      <td>8.0</td>\n",
       "      <td>E</td>\n",
       "    </tr>\n",
       "    <tr>\n",
       "      <th>1</th>\n",
       "      <td>Super Mario Bros.</td>\n",
       "      <td>NES</td>\n",
       "      <td>1985</td>\n",
       "      <td>Platform</td>\n",
       "      <td>29.08</td>\n",
       "      <td>3.58</td>\n",
       "      <td>6.81</td>\n",
       "      <td>0.77</td>\n",
       "      <td>0.0</td>\n",
       "      <td>0.0</td>\n",
       "      <td>NaN</td>\n",
       "    </tr>\n",
       "    <tr>\n",
       "      <th>2</th>\n",
       "      <td>Mario Kart Wii</td>\n",
       "      <td>Wii</td>\n",
       "      <td>2008</td>\n",
       "      <td>Racing</td>\n",
       "      <td>15.68</td>\n",
       "      <td>12.76</td>\n",
       "      <td>3.79</td>\n",
       "      <td>3.29</td>\n",
       "      <td>82.0</td>\n",
       "      <td>8.3</td>\n",
       "      <td>E</td>\n",
       "    </tr>\n",
       "    <tr>\n",
       "      <th>3</th>\n",
       "      <td>Wii Sports Resort</td>\n",
       "      <td>Wii</td>\n",
       "      <td>2009</td>\n",
       "      <td>Sports</td>\n",
       "      <td>15.61</td>\n",
       "      <td>10.93</td>\n",
       "      <td>3.28</td>\n",
       "      <td>2.95</td>\n",
       "      <td>80.0</td>\n",
       "      <td>8.0</td>\n",
       "      <td>E</td>\n",
       "    </tr>\n",
       "    <tr>\n",
       "      <th>4</th>\n",
       "      <td>Pokemon Red/Pokemon Blue</td>\n",
       "      <td>GB</td>\n",
       "      <td>1996</td>\n",
       "      <td>Role-Playing</td>\n",
       "      <td>11.27</td>\n",
       "      <td>8.89</td>\n",
       "      <td>10.22</td>\n",
       "      <td>1.00</td>\n",
       "      <td>0.0</td>\n",
       "      <td>0.0</td>\n",
       "      <td>NaN</td>\n",
       "    </tr>\n",
       "  </tbody>\n",
       "</table>\n",
       "</div>"
      ],
      "text/plain": [
       "                       name platform  year_of_release         genre  na_sales  \\\n",
       "0                Wii Sports      Wii             2006        Sports     41.36   \n",
       "1         Super Mario Bros.      NES             1985      Platform     29.08   \n",
       "2            Mario Kart Wii      Wii             2008        Racing     15.68   \n",
       "3         Wii Sports Resort      Wii             2009        Sports     15.61   \n",
       "4  Pokemon Red/Pokemon Blue       GB             1996  Role-Playing     11.27   \n",
       "\n",
       "   eu_sales  jp_sales  other_sales  critic_score  user_score rating  \n",
       "0     28.96      3.77         8.45          76.0         8.0      E  \n",
       "1      3.58      6.81         0.77           0.0         0.0    NaN  \n",
       "2     12.76      3.79         3.29          82.0         8.3      E  \n",
       "3     10.93      3.28         2.95          80.0         8.0      E  \n",
       "4      8.89     10.22         1.00           0.0         0.0    NaN  "
      ]
     },
     "execution_count": 12,
     "metadata": {},
     "output_type": "execute_result"
    }
   ],
   "source": [
    "games['user_score'] = games['user_score'].fillna(value='0').astype('float64', errors='ignore')\n",
    "games['critic_score'] = games['critic_score'].fillna(value='0').astype('float64', errors='ignore')\n",
    "games.head()"
   ]
  },
  {
   "cell_type": "code",
   "execution_count": 13,
   "id": "07f4d9ba",
   "metadata": {},
   "outputs": [
    {
     "name": "stdout",
     "output_type": "stream",
     "text": [
      "<class 'pandas.core.frame.DataFrame'>\n",
      "Int64Index: 16444 entries, 0 to 16714\n",
      "Data columns (total 11 columns):\n",
      " #   Column           Non-Null Count  Dtype  \n",
      "---  ------           --------------  -----  \n",
      " 0   name             16444 non-null  object \n",
      " 1   platform         16444 non-null  object \n",
      " 2   year_of_release  16444 non-null  int32  \n",
      " 3   genre            16444 non-null  object \n",
      " 4   na_sales         16444 non-null  float64\n",
      " 5   eu_sales         16444 non-null  float64\n",
      " 6   jp_sales         16444 non-null  float64\n",
      " 7   other_sales      16444 non-null  float64\n",
      " 8   critic_score     16444 non-null  float64\n",
      " 9   user_score       16444 non-null  float64\n",
      " 10  rating           9768 non-null   object \n",
      "dtypes: float64(6), int32(1), object(4)\n",
      "memory usage: 1.4+ MB\n"
     ]
    }
   ],
   "source": [
    "games.info()"
   ]
  },
  {
   "cell_type": "markdown",
   "id": "8000dcbe",
   "metadata": {},
   "source": [
    "Пропуски в столбце rating заменим на \"Unknown\""
   ]
  },
  {
   "cell_type": "code",
   "execution_count": 14,
   "id": "dd9ee847",
   "metadata": {},
   "outputs": [],
   "source": [
    "games['rating'] = games['rating'].fillna('Unknown')"
   ]
  },
  {
   "cell_type": "code",
   "execution_count": 15,
   "id": "41603a71",
   "metadata": {},
   "outputs": [
    {
     "data": {
      "text/html": [
       "<style type=\"text/css\">\n",
       "#T_93c72_row0_col0, #T_93c72_row1_col0, #T_93c72_row2_col0, #T_93c72_row3_col0, #T_93c72_row4_col0, #T_93c72_row5_col0, #T_93c72_row6_col0, #T_93c72_row7_col0, #T_93c72_row8_col0, #T_93c72_row9_col0, #T_93c72_row10_col0 {\n",
       "  background-color: #3b4cc0;\n",
       "  color: #f1f1f1;\n",
       "}\n",
       "</style>\n",
       "<table id=\"T_93c72\">\n",
       "  <thead>\n",
       "    <tr>\n",
       "      <th class=\"blank level0\" >&nbsp;</th>\n",
       "      <th id=\"T_93c72_level0_col0\" class=\"col_heading level0 col0\" >0</th>\n",
       "    </tr>\n",
       "  </thead>\n",
       "  <tbody>\n",
       "    <tr>\n",
       "      <th id=\"T_93c72_level0_row0\" class=\"row_heading level0 row0\" >name</th>\n",
       "      <td id=\"T_93c72_row0_col0\" class=\"data row0 col0\" >0.000000</td>\n",
       "    </tr>\n",
       "    <tr>\n",
       "      <th id=\"T_93c72_level0_row1\" class=\"row_heading level0 row1\" >platform</th>\n",
       "      <td id=\"T_93c72_row1_col0\" class=\"data row1 col0\" >0.000000</td>\n",
       "    </tr>\n",
       "    <tr>\n",
       "      <th id=\"T_93c72_level0_row2\" class=\"row_heading level0 row2\" >year_of_release</th>\n",
       "      <td id=\"T_93c72_row2_col0\" class=\"data row2 col0\" >0.000000</td>\n",
       "    </tr>\n",
       "    <tr>\n",
       "      <th id=\"T_93c72_level0_row3\" class=\"row_heading level0 row3\" >genre</th>\n",
       "      <td id=\"T_93c72_row3_col0\" class=\"data row3 col0\" >0.000000</td>\n",
       "    </tr>\n",
       "    <tr>\n",
       "      <th id=\"T_93c72_level0_row4\" class=\"row_heading level0 row4\" >na_sales</th>\n",
       "      <td id=\"T_93c72_row4_col0\" class=\"data row4 col0\" >0.000000</td>\n",
       "    </tr>\n",
       "    <tr>\n",
       "      <th id=\"T_93c72_level0_row5\" class=\"row_heading level0 row5\" >eu_sales</th>\n",
       "      <td id=\"T_93c72_row5_col0\" class=\"data row5 col0\" >0.000000</td>\n",
       "    </tr>\n",
       "    <tr>\n",
       "      <th id=\"T_93c72_level0_row6\" class=\"row_heading level0 row6\" >jp_sales</th>\n",
       "      <td id=\"T_93c72_row6_col0\" class=\"data row6 col0\" >0.000000</td>\n",
       "    </tr>\n",
       "    <tr>\n",
       "      <th id=\"T_93c72_level0_row7\" class=\"row_heading level0 row7\" >other_sales</th>\n",
       "      <td id=\"T_93c72_row7_col0\" class=\"data row7 col0\" >0.000000</td>\n",
       "    </tr>\n",
       "    <tr>\n",
       "      <th id=\"T_93c72_level0_row8\" class=\"row_heading level0 row8\" >critic_score</th>\n",
       "      <td id=\"T_93c72_row8_col0\" class=\"data row8 col0\" >0.000000</td>\n",
       "    </tr>\n",
       "    <tr>\n",
       "      <th id=\"T_93c72_level0_row9\" class=\"row_heading level0 row9\" >user_score</th>\n",
       "      <td id=\"T_93c72_row9_col0\" class=\"data row9 col0\" >0.000000</td>\n",
       "    </tr>\n",
       "    <tr>\n",
       "      <th id=\"T_93c72_level0_row10\" class=\"row_heading level0 row10\" >rating</th>\n",
       "      <td id=\"T_93c72_row10_col0\" class=\"data row10 col0\" >0.000000</td>\n",
       "    </tr>\n",
       "  </tbody>\n",
       "</table>\n"
      ],
      "text/plain": [
       "<pandas.io.formats.style.Styler at 0x156d6f6a0a0>"
      ]
     },
     "execution_count": 15,
     "metadata": {},
     "output_type": "execute_result"
    }
   ],
   "source": [
    "pd.DataFrame(round(games.isna().mean()*100, 3)).style.background_gradient('coolwarm')"
   ]
  },
  {
   "cell_type": "markdown",
   "id": "9c69d4be",
   "metadata": {},
   "source": [
    "Проверим данные на дубликаты и обработаем их."
   ]
  },
  {
   "cell_type": "code",
   "execution_count": 16,
   "id": "723e5387",
   "metadata": {},
   "outputs": [
    {
     "data": {
      "text/plain": [
       "0"
      ]
     },
     "execution_count": 16,
     "metadata": {},
     "output_type": "execute_result"
    }
   ],
   "source": [
    "games.duplicated().sum()"
   ]
  },
  {
   "cell_type": "code",
   "execution_count": 17,
   "id": "79d3b698",
   "metadata": {},
   "outputs": [
    {
     "data": {
      "text/plain": [
       "array([8. , 0. , 8.3, 8.5, 6.6, 8.4, 8.6, 7.7, 6.3, 7.4, 8.2, 9. , 7.9,\n",
       "       8.1, 8.7, 7.1, 3.4, 5.3, 4.8, 3.2, 8.9, 6.4, 7.8, 7.5, 2.6, 7.2,\n",
       "       9.2, 7. , 7.3, 4.3, 7.6, 5.7, 5. , 9.1, 6.5, 8.8, 6.9, 9.4, 6.8,\n",
       "       6.1, 6.7, 5.4, 4. , 4.9, 4.5, 9.3, 6.2, 4.2, 6. , 3.7, 4.1, 5.8,\n",
       "       5.6, 5.5, 4.4, 4.6, 5.9, 3.9, 3.1, 2.9, 5.2, 3.3, 4.7, 5.1, 3.5,\n",
       "       2.5, 1.9, 3. , 2.7, 2.2, 2. , 9.5, 2.1, 3.6, 2.8, 1.8, 3.8, 1.6,\n",
       "       9.6, 2.4, 1.7, 1.1, 0.3, 1.5, 0.7, 1.2, 2.3, 0.5, 1.3, 0.2, 0.6,\n",
       "       1.4, 0.9, 1. , 9.7])"
      ]
     },
     "execution_count": 17,
     "metadata": {},
     "output_type": "execute_result"
    }
   ],
   "source": [
    "games['user_score'].unique()"
   ]
  },
  {
   "cell_type": "code",
   "execution_count": 18,
   "id": "7e1ed05e",
   "metadata": {},
   "outputs": [
    {
     "data": {
      "text/plain": [
       "array([76.,  0., 82., 80., 89., 58., 87., 91., 61., 97., 95., 77., 88.,\n",
       "       83., 94., 93., 85., 86., 98., 96., 90., 84., 73., 74., 78., 92.,\n",
       "       71., 72., 68., 62., 49., 67., 81., 66., 56., 79., 70., 59., 64.,\n",
       "       75., 60., 63., 69., 50., 25., 42., 44., 55., 48., 57., 29., 47.,\n",
       "       65., 54., 20., 53., 37., 38., 33., 52., 30., 32., 43., 45., 51.,\n",
       "       40., 46., 39., 34., 41., 36., 31., 27., 35., 26., 19., 28., 23.,\n",
       "       24., 21., 17., 13.])"
      ]
     },
     "execution_count": 18,
     "metadata": {},
     "output_type": "execute_result"
    }
   ],
   "source": [
    "games['critic_score'].unique()"
   ]
  },
  {
   "cell_type": "code",
   "execution_count": 19,
   "id": "ed3af13e",
   "metadata": {},
   "outputs": [
    {
     "data": {
      "text/plain": [
       "array(['E', 'Unknown', 'M', 'T', 'E10+', 'K-A', 'AO', 'EC', 'RP'],\n",
       "      dtype=object)"
      ]
     },
     "execution_count": 19,
     "metadata": {},
     "output_type": "execute_result"
    }
   ],
   "source": [
    "games['rating'].unique()"
   ]
  },
  {
   "cell_type": "markdown",
   "id": "3cc4edd5",
   "metadata": {},
   "source": [
    "Дубликаты в нашем датасете отсутствуют."
   ]
  },
  {
   "cell_type": "markdown",
   "id": "b8b9d442",
   "metadata": {},
   "source": [
    "Посчитаем суммарные продажи во всех регионах и запишем их в отдельный столбец."
   ]
  },
  {
   "cell_type": "code",
   "execution_count": 20,
   "id": "75bd08e5",
   "metadata": {},
   "outputs": [
    {
     "data": {
      "text/html": [
       "<div>\n",
       "<style scoped>\n",
       "    .dataframe tbody tr th:only-of-type {\n",
       "        vertical-align: middle;\n",
       "    }\n",
       "\n",
       "    .dataframe tbody tr th {\n",
       "        vertical-align: top;\n",
       "    }\n",
       "\n",
       "    .dataframe thead th {\n",
       "        text-align: right;\n",
       "    }\n",
       "</style>\n",
       "<table border=\"1\" class=\"dataframe\">\n",
       "  <thead>\n",
       "    <tr style=\"text-align: right;\">\n",
       "      <th></th>\n",
       "      <th>name</th>\n",
       "      <th>platform</th>\n",
       "      <th>year_of_release</th>\n",
       "      <th>genre</th>\n",
       "      <th>na_sales</th>\n",
       "      <th>eu_sales</th>\n",
       "      <th>jp_sales</th>\n",
       "      <th>other_sales</th>\n",
       "      <th>critic_score</th>\n",
       "      <th>user_score</th>\n",
       "      <th>rating</th>\n",
       "      <th>total_sales</th>\n",
       "    </tr>\n",
       "  </thead>\n",
       "  <tbody>\n",
       "    <tr>\n",
       "      <th>0</th>\n",
       "      <td>Wii Sports</td>\n",
       "      <td>Wii</td>\n",
       "      <td>2006</td>\n",
       "      <td>Sports</td>\n",
       "      <td>41.36</td>\n",
       "      <td>28.96</td>\n",
       "      <td>3.77</td>\n",
       "      <td>8.45</td>\n",
       "      <td>76.0</td>\n",
       "      <td>8.0</td>\n",
       "      <td>E</td>\n",
       "      <td>82.54</td>\n",
       "    </tr>\n",
       "    <tr>\n",
       "      <th>1</th>\n",
       "      <td>Super Mario Bros.</td>\n",
       "      <td>NES</td>\n",
       "      <td>1985</td>\n",
       "      <td>Platform</td>\n",
       "      <td>29.08</td>\n",
       "      <td>3.58</td>\n",
       "      <td>6.81</td>\n",
       "      <td>0.77</td>\n",
       "      <td>0.0</td>\n",
       "      <td>0.0</td>\n",
       "      <td>Unknown</td>\n",
       "      <td>40.24</td>\n",
       "    </tr>\n",
       "    <tr>\n",
       "      <th>2</th>\n",
       "      <td>Mario Kart Wii</td>\n",
       "      <td>Wii</td>\n",
       "      <td>2008</td>\n",
       "      <td>Racing</td>\n",
       "      <td>15.68</td>\n",
       "      <td>12.76</td>\n",
       "      <td>3.79</td>\n",
       "      <td>3.29</td>\n",
       "      <td>82.0</td>\n",
       "      <td>8.3</td>\n",
       "      <td>E</td>\n",
       "      <td>35.52</td>\n",
       "    </tr>\n",
       "    <tr>\n",
       "      <th>3</th>\n",
       "      <td>Wii Sports Resort</td>\n",
       "      <td>Wii</td>\n",
       "      <td>2009</td>\n",
       "      <td>Sports</td>\n",
       "      <td>15.61</td>\n",
       "      <td>10.93</td>\n",
       "      <td>3.28</td>\n",
       "      <td>2.95</td>\n",
       "      <td>80.0</td>\n",
       "      <td>8.0</td>\n",
       "      <td>E</td>\n",
       "      <td>32.77</td>\n",
       "    </tr>\n",
       "    <tr>\n",
       "      <th>4</th>\n",
       "      <td>Pokemon Red/Pokemon Blue</td>\n",
       "      <td>GB</td>\n",
       "      <td>1996</td>\n",
       "      <td>Role-Playing</td>\n",
       "      <td>11.27</td>\n",
       "      <td>8.89</td>\n",
       "      <td>10.22</td>\n",
       "      <td>1.00</td>\n",
       "      <td>0.0</td>\n",
       "      <td>0.0</td>\n",
       "      <td>Unknown</td>\n",
       "      <td>31.38</td>\n",
       "    </tr>\n",
       "  </tbody>\n",
       "</table>\n",
       "</div>"
      ],
      "text/plain": [
       "                       name platform  year_of_release         genre  na_sales  \\\n",
       "0                Wii Sports      Wii             2006        Sports     41.36   \n",
       "1         Super Mario Bros.      NES             1985      Platform     29.08   \n",
       "2            Mario Kart Wii      Wii             2008        Racing     15.68   \n",
       "3         Wii Sports Resort      Wii             2009        Sports     15.61   \n",
       "4  Pokemon Red/Pokemon Blue       GB             1996  Role-Playing     11.27   \n",
       "\n",
       "   eu_sales  jp_sales  other_sales  critic_score  user_score   rating  \\\n",
       "0     28.96      3.77         8.45          76.0         8.0        E   \n",
       "1      3.58      6.81         0.77           0.0         0.0  Unknown   \n",
       "2     12.76      3.79         3.29          82.0         8.3        E   \n",
       "3     10.93      3.28         2.95          80.0         8.0        E   \n",
       "4      8.89     10.22         1.00           0.0         0.0  Unknown   \n",
       "\n",
       "   total_sales  \n",
       "0        82.54  \n",
       "1        40.24  \n",
       "2        35.52  \n",
       "3        32.77  \n",
       "4        31.38  "
      ]
     },
     "execution_count": 20,
     "metadata": {},
     "output_type": "execute_result"
    }
   ],
   "source": [
    "games['total_sales'] = games[['na_sales', 'eu_sales', 'jp_sales', 'other_sales']].sum(axis=1)\n",
    "games.head()"
   ]
  },
  {
   "cell_type": "markdown",
   "id": "9f552598",
   "metadata": {},
   "source": [
    "Вывод:"
   ]
  },
  {
   "cell_type": "markdown",
   "id": "dbc56c9e",
   "metadata": {},
   "source": [
    "В процессе предобработки данных мы отработали  пропуски и аномалии, проверили датасет на дубликаты, привели к соответствию тип данных и добавили столбец с необходимыми расчетами. Возможные причины отсутствия значений в столбцах critic_score, user_score и rating могут быть связаны с техническими ошибками, человеческим фактором или просто отсутствием данных. Например, игры могли не подвергаться оценке критиками или пользователями, что привело к пустым значениям в соответствующих столбцах."
   ]
  },
  {
   "cell_type": "markdown",
   "id": "44e9bf4b",
   "metadata": {},
   "source": [
    "## <a name=\"3\"> 3. Исследовательский анализ данных</a>"
   ]
  },
  {
   "cell_type": "markdown",
   "id": "b1cd3783",
   "metadata": {},
   "source": [
    "Определим, сколько игр выпускалось в разные годы."
   ]
  },
  {
   "cell_type": "code",
   "execution_count": 45,
   "id": "e26e3caf",
   "metadata": {},
   "outputs": [
    {
     "data": {
      "image/png": "[encoded data removed]",
      "text/plain": [
       "<Figure size 720x360 with 1 Axes>"
      ]
     },
     "metadata": {
      "needs_background": "light"
     },
     "output_type": "display_data"
    }
   ],
   "source": [
    "games.groupby('year_of_release')['name'].count().plot(kind = 'bar', figsize=(10,5), grid=True)\n",
    "plt.title('Выпуск игр по годам')\n",
    "plt.xlabel('Год')\n",
    "plt.ylabel('Количество');"
   ]
  },
  {
   "cell_type": "markdown",
   "id": "16209760",
   "metadata": {},
   "source": [
    "До 1995 года рост выпускаемых игр был очень незначительным, после 1995 года наблюдается рост до 2010 года, а затем спад в выпуске игр, это можно объяснить ростом популярности игр на мобильных устройствах."
   ]
  },
  {
   "cell_type": "markdown",
   "id": "e52f99dc",
   "metadata": {},
   "source": [
    "Посмотрим как менялись продажи по платформам."
   ]
  },
  {
   "cell_type": "code",
   "execution_count": 22,
   "id": "3dbff92d",
   "metadata": {},
   "outputs": [
    {
     "data": {
      "image/png": "[encoded data removed]",
      "text/plain": [
       "<Figure size 720x360 with 1 Axes>"
      ]
     },
     "metadata": {
      "needs_background": "light"
     },
     "output_type": "display_data"
    }
   ],
   "source": [
    "games.groupby('platform')['total_sales'].sum().sort_values().plot(kind='bar', figsize=(10,5), grid=True)\n",
    "plt.title('Продажи по платформам')\n",
    "plt.xlabel('Платформа')\n",
    "plt.ylabel('Продажи');"
   ]
  },
  {
   "cell_type": "markdown",
   "id": "ff262c20",
   "metadata": {},
   "source": [
    "Выберем топ-5 платформ по продажам и построим распределение по годам."
   ]
  },
  {
   "cell_type": "code",
   "execution_count": 23,
   "id": "ccdd4703",
   "metadata": {},
   "outputs": [
    {
     "data": {
      "text/html": [
       "<div>\n",
       "<style scoped>\n",
       "    .dataframe tbody tr th:only-of-type {\n",
       "        vertical-align: middle;\n",
       "    }\n",
       "\n",
       "    .dataframe tbody tr th {\n",
       "        vertical-align: top;\n",
       "    }\n",
       "\n",
       "    .dataframe thead th {\n",
       "        text-align: right;\n",
       "    }\n",
       "</style>\n",
       "<table border=\"1\" class=\"dataframe\">\n",
       "  <thead>\n",
       "    <tr style=\"text-align: right;\">\n",
       "      <th></th>\n",
       "      <th>platform</th>\n",
       "      <th>total_sales</th>\n",
       "    </tr>\n",
       "  </thead>\n",
       "  <tbody>\n",
       "    <tr>\n",
       "      <th>0</th>\n",
       "      <td>PS2</td>\n",
       "      <td>1233.56</td>\n",
       "    </tr>\n",
       "    <tr>\n",
       "      <th>1</th>\n",
       "      <td>X360</td>\n",
       "      <td>961.24</td>\n",
       "    </tr>\n",
       "    <tr>\n",
       "      <th>2</th>\n",
       "      <td>PS3</td>\n",
       "      <td>931.34</td>\n",
       "    </tr>\n",
       "    <tr>\n",
       "      <th>3</th>\n",
       "      <td>Wii</td>\n",
       "      <td>891.18</td>\n",
       "    </tr>\n",
       "    <tr>\n",
       "      <th>4</th>\n",
       "      <td>DS</td>\n",
       "      <td>802.78</td>\n",
       "    </tr>\n",
       "  </tbody>\n",
       "</table>\n",
       "</div>"
      ],
      "text/plain": [
       "  platform  total_sales\n",
       "0      PS2      1233.56\n",
       "1     X360       961.24\n",
       "2      PS3       931.34\n",
       "3      Wii       891.18\n",
       "4       DS       802.78"
      ]
     },
     "execution_count": 23,
     "metadata": {},
     "output_type": "execute_result"
    }
   ],
   "source": [
    "top_5_platforms = (games.groupby('platform', as_index=False)['total_sales']\n",
    " .sum()\n",
    " .sort_values('total_sales', ascending=False)\n",
    " .reset_index(drop=True)\n",
    " .head(5)\n",
    ")\n",
    "top_5_platforms"
   ]
  },
  {
   "cell_type": "code",
   "execution_count": 24,
   "id": "4642f4d4",
   "metadata": {},
   "outputs": [
    {
     "data": {
      "image/png": "[encoded data removed]",
      "text/plain": [
       "<Figure size 1080x360 with 1 Axes>"
      ]
     },
     "metadata": {
      "needs_background": "light"
     },
     "output_type": "display_data"
    }
   ],
   "source": [
    "for i in list(top_5_platforms['platform']):\n",
    "    (games[(games['platform'] == i) & (games['year_of_release'] >= 1995)]\n",
    "     .groupby('year_of_release')['total_sales']\n",
    "     .sum()\n",
    "     .plot(grid=True, style='o-', figsize=(15,5))\n",
    "    )\n",
    "    plt.legend(top_5_platforms['platform'])\n",
    "    plt.title('Продажи топ-5 платформ')\n",
    "    plt.ylabel('Сумма продаж')\n",
    "    plt.xlabel('Год выпуска')"
   ]
  },
  {
   "cell_type": "markdown",
   "id": "a8f0d487",
   "metadata": {},
   "source": [
    "На графике хорошо видно как начинают расти продажи игр после выпуска новой платформы. Пик продаж для каждой платформы приходится примерно на 5-й год после релиза новой версии. Также, хорошо видно, что через 10 лет для каждой платформы продажи практически на нуле. Можно предположить, что \"срок жизни\" для платформ около 10 лет."
   ]
  },
  {
   "cell_type": "markdown",
   "id": "5ede6ebe",
   "metadata": {},
   "source": [
    "Определим актульный период для всех платформ, с учетом того, что это поможет нам построить прогноз на 2017 год. Наиболее характерным признаком для определения актуального периода является появление и быстрое развития рынка мобильных устройств. С 2011 года для всех платформ резко снизилось количество выпускаемых игр. Возьмем данные за 2014-2016 года, поскольку такую динамичную индустрию как игры, стоит рассматривать за не очень большой период.\n",
    "\n",
    "Возьмем данные за актуальный период и посмотрим на продажи по платформам. Выясним какие платформы лидируют, какие растут и какие падают. На основе этих данных попробуем выбрать несколько потенциальных прибыльных платформ."
   ]
  },
  {
   "cell_type": "code",
   "execution_count": 25,
   "id": "1e73c981",
   "metadata": {},
   "outputs": [
    {
     "data": {
      "text/html": [
       "<div>\n",
       "<style scoped>\n",
       "    .dataframe tbody tr th:only-of-type {\n",
       "        vertical-align: middle;\n",
       "    }\n",
       "\n",
       "    .dataframe tbody tr th {\n",
       "        vertical-align: top;\n",
       "    }\n",
       "\n",
       "    .dataframe thead th {\n",
       "        text-align: right;\n",
       "    }\n",
       "</style>\n",
       "<table border=\"1\" class=\"dataframe\">\n",
       "  <thead>\n",
       "    <tr style=\"text-align: right;\">\n",
       "      <th></th>\n",
       "      <th>year_of_release</th>\n",
       "      <th>na_sales</th>\n",
       "      <th>eu_sales</th>\n",
       "      <th>jp_sales</th>\n",
       "      <th>other_sales</th>\n",
       "      <th>critic_score</th>\n",
       "      <th>user_score</th>\n",
       "      <th>total_sales</th>\n",
       "    </tr>\n",
       "  </thead>\n",
       "  <tbody>\n",
       "    <tr>\n",
       "      <th>count</th>\n",
       "      <td>1689.000000</td>\n",
       "      <td>1689.000000</td>\n",
       "      <td>1689.000000</td>\n",
       "      <td>1689.000000</td>\n",
       "      <td>1689.000000</td>\n",
       "      <td>1689.000000</td>\n",
       "      <td>1689.000000</td>\n",
       "      <td>1689.000000</td>\n",
       "    </tr>\n",
       "    <tr>\n",
       "      <th>mean</th>\n",
       "      <td>2014.953227</td>\n",
       "      <td>0.168182</td>\n",
       "      <td>0.160261</td>\n",
       "      <td>0.055115</td>\n",
       "      <td>0.048324</td>\n",
       "      <td>30.737715</td>\n",
       "      <td>3.482356</td>\n",
       "      <td>0.431883</td>\n",
       "    </tr>\n",
       "    <tr>\n",
       "      <th>std</th>\n",
       "      <td>0.799624</td>\n",
       "      <td>0.446134</td>\n",
       "      <td>0.466846</td>\n",
       "      <td>0.211513</td>\n",
       "      <td>0.141790</td>\n",
       "      <td>36.631206</td>\n",
       "      <td>3.503326</td>\n",
       "      <td>1.056109</td>\n",
       "    </tr>\n",
       "    <tr>\n",
       "      <th>min</th>\n",
       "      <td>2014.000000</td>\n",
       "      <td>0.000000</td>\n",
       "      <td>0.000000</td>\n",
       "      <td>0.000000</td>\n",
       "      <td>0.000000</td>\n",
       "      <td>0.000000</td>\n",
       "      <td>0.000000</td>\n",
       "      <td>0.010000</td>\n",
       "    </tr>\n",
       "    <tr>\n",
       "      <th>25%</th>\n",
       "      <td>2014.000000</td>\n",
       "      <td>0.000000</td>\n",
       "      <td>0.000000</td>\n",
       "      <td>0.000000</td>\n",
       "      <td>0.000000</td>\n",
       "      <td>0.000000</td>\n",
       "      <td>0.000000</td>\n",
       "      <td>0.030000</td>\n",
       "    </tr>\n",
       "    <tr>\n",
       "      <th>50%</th>\n",
       "      <td>2015.000000</td>\n",
       "      <td>0.020000</td>\n",
       "      <td>0.020000</td>\n",
       "      <td>0.010000</td>\n",
       "      <td>0.010000</td>\n",
       "      <td>0.000000</td>\n",
       "      <td>3.400000</td>\n",
       "      <td>0.100000</td>\n",
       "    </tr>\n",
       "    <tr>\n",
       "      <th>75%</th>\n",
       "      <td>2016.000000</td>\n",
       "      <td>0.120000</td>\n",
       "      <td>0.120000</td>\n",
       "      <td>0.040000</td>\n",
       "      <td>0.040000</td>\n",
       "      <td>71.000000</td>\n",
       "      <td>7.100000</td>\n",
       "      <td>0.350000</td>\n",
       "    </tr>\n",
       "    <tr>\n",
       "      <th>max</th>\n",
       "      <td>2016.000000</td>\n",
       "      <td>6.030000</td>\n",
       "      <td>6.310000</td>\n",
       "      <td>3.180000</td>\n",
       "      <td>2.380000</td>\n",
       "      <td>97.000000</td>\n",
       "      <td>9.300000</td>\n",
       "      <td>14.630000</td>\n",
       "    </tr>\n",
       "  </tbody>\n",
       "</table>\n",
       "</div>"
      ],
      "text/plain": [
       "       year_of_release     na_sales     eu_sales     jp_sales  other_sales  \\\n",
       "count      1689.000000  1689.000000  1689.000000  1689.000000  1689.000000   \n",
       "mean       2014.953227     0.168182     0.160261     0.055115     0.048324   \n",
       "std           0.799624     0.446134     0.466846     0.211513     0.141790   \n",
       "min        2014.000000     0.000000     0.000000     0.000000     0.000000   \n",
       "25%        2014.000000     0.000000     0.000000     0.000000     0.000000   \n",
       "50%        2015.000000     0.020000     0.020000     0.010000     0.010000   \n",
       "75%        2016.000000     0.120000     0.120000     0.040000     0.040000   \n",
       "max        2016.000000     6.030000     6.310000     3.180000     2.380000   \n",
       "\n",
       "       critic_score   user_score  total_sales  \n",
       "count   1689.000000  1689.000000  1689.000000  \n",
       "mean      30.737715     3.482356     0.431883  \n",
       "std       36.631206     3.503326     1.056109  \n",
       "min        0.000000     0.000000     0.010000  \n",
       "25%        0.000000     0.000000     0.030000  \n",
       "50%        0.000000     3.400000     0.100000  \n",
       "75%       71.000000     7.100000     0.350000  \n",
       "max       97.000000     9.300000    14.630000  "
      ]
     },
     "execution_count": 25,
     "metadata": {},
     "output_type": "execute_result"
    }
   ],
   "source": [
    "data_actual = games[games['year_of_release'] >= 2014]\n",
    "data_actual.describe()"
   ]
  },
  {
   "cell_type": "markdown",
   "id": "7fe764d9",
   "metadata": {},
   "source": [
    "Построим график распределения по продажам за актуальный период."
   ]
  },
  {
   "cell_type": "code",
   "execution_count": 26,
   "id": "16d769fa",
   "metadata": {},
   "outputs": [
    {
     "data": {
      "text/html": [
       "<div>\n",
       "<style scoped>\n",
       "    .dataframe tbody tr th:only-of-type {\n",
       "        vertical-align: middle;\n",
       "    }\n",
       "\n",
       "    .dataframe tbody tr th {\n",
       "        vertical-align: top;\n",
       "    }\n",
       "\n",
       "    .dataframe thead th {\n",
       "        text-align: right;\n",
       "    }\n",
       "</style>\n",
       "<table border=\"1\" class=\"dataframe\">\n",
       "  <thead>\n",
       "    <tr style=\"text-align: right;\">\n",
       "      <th>year_of_release</th>\n",
       "      <th>2014</th>\n",
       "      <th>2015</th>\n",
       "      <th>2016</th>\n",
       "      <th>All</th>\n",
       "    </tr>\n",
       "    <tr>\n",
       "      <th>platform</th>\n",
       "      <th></th>\n",
       "      <th></th>\n",
       "      <th></th>\n",
       "      <th></th>\n",
       "    </tr>\n",
       "  </thead>\n",
       "  <tbody>\n",
       "    <tr>\n",
       "      <th>PSP</th>\n",
       "      <td>0.24</td>\n",
       "      <td>0.12</td>\n",
       "      <td>0.00</td>\n",
       "      <td>0.36</td>\n",
       "    </tr>\n",
       "    <tr>\n",
       "      <th>Wii</th>\n",
       "      <td>3.75</td>\n",
       "      <td>1.14</td>\n",
       "      <td>0.18</td>\n",
       "      <td>5.07</td>\n",
       "    </tr>\n",
       "    <tr>\n",
       "      <th>PSV</th>\n",
       "      <td>11.90</td>\n",
       "      <td>6.25</td>\n",
       "      <td>4.25</td>\n",
       "      <td>22.40</td>\n",
       "    </tr>\n",
       "    <tr>\n",
       "      <th>PC</th>\n",
       "      <td>13.28</td>\n",
       "      <td>8.52</td>\n",
       "      <td>5.25</td>\n",
       "      <td>27.05</td>\n",
       "    </tr>\n",
       "    <tr>\n",
       "      <th>WiiU</th>\n",
       "      <td>22.03</td>\n",
       "      <td>16.35</td>\n",
       "      <td>4.60</td>\n",
       "      <td>42.98</td>\n",
       "    </tr>\n",
       "    <tr>\n",
       "      <th>X360</th>\n",
       "      <td>34.74</td>\n",
       "      <td>11.96</td>\n",
       "      <td>1.52</td>\n",
       "      <td>48.22</td>\n",
       "    </tr>\n",
       "    <tr>\n",
       "      <th>PS3</th>\n",
       "      <td>47.76</td>\n",
       "      <td>16.82</td>\n",
       "      <td>3.60</td>\n",
       "      <td>68.18</td>\n",
       "    </tr>\n",
       "    <tr>\n",
       "      <th>3DS</th>\n",
       "      <td>43.76</td>\n",
       "      <td>27.78</td>\n",
       "      <td>15.14</td>\n",
       "      <td>86.68</td>\n",
       "    </tr>\n",
       "    <tr>\n",
       "      <th>XOne</th>\n",
       "      <td>54.07</td>\n",
       "      <td>60.14</td>\n",
       "      <td>26.15</td>\n",
       "      <td>140.36</td>\n",
       "    </tr>\n",
       "    <tr>\n",
       "      <th>PS4</th>\n",
       "      <td>100.00</td>\n",
       "      <td>118.90</td>\n",
       "      <td>69.25</td>\n",
       "      <td>288.15</td>\n",
       "    </tr>\n",
       "    <tr>\n",
       "      <th>All</th>\n",
       "      <td>331.53</td>\n",
       "      <td>267.98</td>\n",
       "      <td>129.94</td>\n",
       "      <td>729.45</td>\n",
       "    </tr>\n",
       "  </tbody>\n",
       "</table>\n",
       "</div>"
      ],
      "text/plain": [
       "year_of_release    2014    2015    2016     All\n",
       "platform                                       \n",
       "PSP                0.24    0.12    0.00    0.36\n",
       "Wii                3.75    1.14    0.18    5.07\n",
       "PSV               11.90    6.25    4.25   22.40\n",
       "PC                13.28    8.52    5.25   27.05\n",
       "WiiU              22.03   16.35    4.60   42.98\n",
       "X360              34.74   11.96    1.52   48.22\n",
       "PS3               47.76   16.82    3.60   68.18\n",
       "3DS               43.76   27.78   15.14   86.68\n",
       "XOne              54.07   60.14   26.15  140.36\n",
       "PS4              100.00  118.90   69.25  288.15\n",
       "All              331.53  267.98  129.94  729.45"
      ]
     },
     "metadata": {},
     "output_type": "display_data"
    },
    {
     "data": {
      "image/png": "[encoded data removed]",
      "text/plain": [
       "<Figure size 1080x360 with 1 Axes>"
      ]
     },
     "metadata": {
      "needs_background": "light"
     },
     "output_type": "display_data"
    }
   ],
   "source": [
    "display(pd.pivot_table(\n",
    "    data_actual, \n",
    "    index='platform', \n",
    "    values='total_sales', \n",
    "    columns='year_of_release', \n",
    "    aggfunc='sum', \n",
    "    fill_value=0, \n",
    "    margins=True\n",
    ").sort_values('All')\n",
    "       )\n",
    "\n",
    "for i in list(data_actual['platform'].unique()):\n",
    "    (data_actual[data_actual['platform'] == i]\n",
    "     .groupby('year_of_release')['total_sales']\n",
    "     .sum()\n",
    "     .plot(grid=True, style='o-', figsize=(15,5))\n",
    "    )\n",
    "    plt.legend(data_actual['platform'].unique())\n",
    "    plt.title('Продажи за актуальный период')\n",
    "    plt.ylabel('Сумма продаж')\n",
    "    plt.xlabel('Год выпуска')"
   ]
  },
  {
   "cell_type": "markdown",
   "id": "4586e9a0",
   "metadata": {},
   "source": [
    "В наш список для актуального периода попали 10 платформ. Самыми быстрорастущими за этот период можно назвать PS4, 3DS и XOne. PS4 и вовсе продали более 100 млн копий за первые 2 календарных года существования платформы. \n",
    "\n",
    "Думаю, что стоить сосредоточиться на следующих платформах: PS4, 3DS, XOne и PC. Первые 3 платформы хоть и показывают спад, но продажи еще держаться на значительном уровне. Что же касается PC, то продажи здесь несколько ниже, чем у игровых консолей, но тенденция из года в год не такая стремительная. Плюсом к этому можно отметить, что достаточное количество игр есть только на PC и так и останется в будущем. Считаю что PC все еще перспективен в ближайшее время."
   ]
  },
  {
   "cell_type": "markdown",
   "id": "a85e0ac6",
   "metadata": {},
   "source": [
    "Построим ящик с усами по продажам для каждой платформы и ознакомимся с результатами."
   ]
  },
  {
   "cell_type": "code",
   "execution_count": 27,
   "id": "a6bbef39",
   "metadata": {},
   "outputs": [
    {
     "data": {
      "text/html": [
       "<div>\n",
       "<style scoped>\n",
       "    .dataframe tbody tr th:only-of-type {\n",
       "        vertical-align: middle;\n",
       "    }\n",
       "\n",
       "    .dataframe tbody tr th {\n",
       "        vertical-align: top;\n",
       "    }\n",
       "\n",
       "    .dataframe thead th {\n",
       "        text-align: right;\n",
       "    }\n",
       "</style>\n",
       "<table border=\"1\" class=\"dataframe\">\n",
       "  <thead>\n",
       "    <tr style=\"text-align: right;\">\n",
       "      <th>platform</th>\n",
       "      <th>3DS</th>\n",
       "      <th>PC</th>\n",
       "      <th>PS3</th>\n",
       "      <th>PS4</th>\n",
       "      <th>PSP</th>\n",
       "      <th>PSV</th>\n",
       "      <th>Wii</th>\n",
       "      <th>WiiU</th>\n",
       "      <th>X360</th>\n",
       "      <th>XOne</th>\n",
       "    </tr>\n",
       "  </thead>\n",
       "  <tbody>\n",
       "    <tr>\n",
       "      <th>count</th>\n",
       "      <td>212.000000</td>\n",
       "      <td>151.000000</td>\n",
       "      <td>219.000000</td>\n",
       "      <td>376.000000</td>\n",
       "      <td>13.000000</td>\n",
       "      <td>295.000000</td>\n",
       "      <td>11.000000</td>\n",
       "      <td>73.000000</td>\n",
       "      <td>111.000000</td>\n",
       "      <td>228.000000</td>\n",
       "    </tr>\n",
       "    <tr>\n",
       "      <th>mean</th>\n",
       "      <td>0.408868</td>\n",
       "      <td>0.179139</td>\n",
       "      <td>0.311324</td>\n",
       "      <td>0.766356</td>\n",
       "      <td>0.027692</td>\n",
       "      <td>0.075932</td>\n",
       "      <td>0.460909</td>\n",
       "      <td>0.588767</td>\n",
       "      <td>0.434414</td>\n",
       "      <td>0.615614</td>\n",
       "    </tr>\n",
       "    <tr>\n",
       "      <th>std</th>\n",
       "      <td>1.188368</td>\n",
       "      <td>0.329359</td>\n",
       "      <td>0.633059</td>\n",
       "      <td>1.614969</td>\n",
       "      <td>0.027735</td>\n",
       "      <td>0.141591</td>\n",
       "      <td>0.625451</td>\n",
       "      <td>1.161467</td>\n",
       "      <td>0.628967</td>\n",
       "      <td>1.046513</td>\n",
       "    </tr>\n",
       "    <tr>\n",
       "      <th>min</th>\n",
       "      <td>0.010000</td>\n",
       "      <td>0.010000</td>\n",
       "      <td>0.010000</td>\n",
       "      <td>0.010000</td>\n",
       "      <td>0.010000</td>\n",
       "      <td>0.010000</td>\n",
       "      <td>0.010000</td>\n",
       "      <td>0.010000</td>\n",
       "      <td>0.010000</td>\n",
       "      <td>0.010000</td>\n",
       "    </tr>\n",
       "    <tr>\n",
       "      <th>25%</th>\n",
       "      <td>0.030000</td>\n",
       "      <td>0.020000</td>\n",
       "      <td>0.040000</td>\n",
       "      <td>0.057500</td>\n",
       "      <td>0.010000</td>\n",
       "      <td>0.020000</td>\n",
       "      <td>0.035000</td>\n",
       "      <td>0.050000</td>\n",
       "      <td>0.070000</td>\n",
       "      <td>0.050000</td>\n",
       "    </tr>\n",
       "    <tr>\n",
       "      <th>50%</th>\n",
       "      <td>0.090000</td>\n",
       "      <td>0.060000</td>\n",
       "      <td>0.110000</td>\n",
       "      <td>0.185000</td>\n",
       "      <td>0.020000</td>\n",
       "      <td>0.040000</td>\n",
       "      <td>0.180000</td>\n",
       "      <td>0.190000</td>\n",
       "      <td>0.180000</td>\n",
       "      <td>0.205000</td>\n",
       "    </tr>\n",
       "    <tr>\n",
       "      <th>75%</th>\n",
       "      <td>0.250000</td>\n",
       "      <td>0.200000</td>\n",
       "      <td>0.325000</td>\n",
       "      <td>0.690000</td>\n",
       "      <td>0.020000</td>\n",
       "      <td>0.090000</td>\n",
       "      <td>0.755000</td>\n",
       "      <td>0.570000</td>\n",
       "      <td>0.505000</td>\n",
       "      <td>0.632500</td>\n",
       "    </tr>\n",
       "    <tr>\n",
       "      <th>max</th>\n",
       "      <td>11.680000</td>\n",
       "      <td>3.050000</td>\n",
       "      <td>5.270000</td>\n",
       "      <td>14.630000</td>\n",
       "      <td>0.090000</td>\n",
       "      <td>1.960000</td>\n",
       "      <td>2.010000</td>\n",
       "      <td>7.090000</td>\n",
       "      <td>4.280000</td>\n",
       "      <td>7.390000</td>\n",
       "    </tr>\n",
       "  </tbody>\n",
       "</table>\n",
       "</div>"
      ],
      "text/plain": [
       "platform         3DS          PC         PS3         PS4        PSP  \\\n",
       "count     212.000000  151.000000  219.000000  376.000000  13.000000   \n",
       "mean        0.408868    0.179139    0.311324    0.766356   0.027692   \n",
       "std         1.188368    0.329359    0.633059    1.614969   0.027735   \n",
       "min         0.010000    0.010000    0.010000    0.010000   0.010000   \n",
       "25%         0.030000    0.020000    0.040000    0.057500   0.010000   \n",
       "50%         0.090000    0.060000    0.110000    0.185000   0.020000   \n",
       "75%         0.250000    0.200000    0.325000    0.690000   0.020000   \n",
       "max        11.680000    3.050000    5.270000   14.630000   0.090000   \n",
       "\n",
       "platform         PSV        Wii       WiiU        X360        XOne  \n",
       "count     295.000000  11.000000  73.000000  111.000000  228.000000  \n",
       "mean        0.075932   0.460909   0.588767    0.434414    0.615614  \n",
       "std         0.141591   0.625451   1.161467    0.628967    1.046513  \n",
       "min         0.010000   0.010000   0.010000    0.010000    0.010000  \n",
       "25%         0.020000   0.035000   0.050000    0.070000    0.050000  \n",
       "50%         0.040000   0.180000   0.190000    0.180000    0.205000  \n",
       "75%         0.090000   0.755000   0.570000    0.505000    0.632500  \n",
       "max         1.960000   2.010000   7.090000    4.280000    7.390000  "
      ]
     },
     "execution_count": 27,
     "metadata": {},
     "output_type": "execute_result"
    },
    {
     "data": {
      "image/png": "[encoded data removed]",
      "text/plain": [
       "<Figure size 1080x720 with 1 Axes>"
      ]
     },
     "metadata": {
      "needs_background": "light"
     },
     "output_type": "display_data"
    }
   ],
   "source": [
    "plt.figure(figsize=(15,10))\n",
    "sns.boxplot(data=data_actual, x='total_sales', y='platform')\n",
    "plt.title(label='Ящик с усами по продажам для каждой платформы')\n",
    "plt.xlabel(\"Продажи\", fontsize=14)\n",
    "plt.ylabel(\"Платформы\", fontsize=14)\n",
    "plt.xlim(0, 2.5)\n",
    "\n",
    "data_actual.groupby('platform')['total_sales'].describe().T"
   ]
  },
  {
   "cell_type": "markdown",
   "id": "b4c8bc70",
   "metadata": {},
   "source": [
    "Для популярных платформ граница графика на отметке около 1.4 - 1.6 млн копий. Однако можо заметить, что есть игры, которые продаются по 14+ млн копий. Скорее всего, это хиты, которые пользователи ждут по несколько лет и охотно покупают."
   ]
  },
  {
   "cell_type": "markdown",
   "id": "57bc3162",
   "metadata": {},
   "source": [
    "Посмотрим как влияют оценки критиков и пользователей на продажи для одной популярной платформы, на примере платформы PS4.\n",
    "Но для начала нужно избавиться от выбросов по продажам, поскольку выбросы влияют на коэффициент корреляции Пирсона,."
   ]
  },
  {
   "cell_type": "markdown",
   "id": "029b3546",
   "metadata": {},
   "source": [
    "Создадим копию нашего акутального датафрейма без выбросов и применим функцию для очистки данных."
   ]
  },
  {
   "cell_type": "code",
   "execution_count": 28,
   "id": "9440b573",
   "metadata": {},
   "outputs": [],
   "source": [
    "data_actual_clean = data_actual\n",
    "def clean_data(data, column):\n",
    "    q1 = data[column].quantile(0.25)                 \n",
    "    q3 = data[column].quantile(0.75)\n",
    "    iqr = q3 - q1\n",
    "    iqr_test = (data[column] >= (q1 - 1.5 * iqr)) & (data[column] <= (q3 + 1.5 * iqr))\n",
    "    return data.loc[iqr_test]\n",
    "\n",
    "data_actual_clean = clean_data(data_actual_clean, 'total_sales')"
   ]
  },
  {
   "cell_type": "code",
   "execution_count": 29,
   "id": "e7312d3b",
   "metadata": {
    "scrolled": false
   },
   "outputs": [
    {
     "data": {
      "image/png": "[encoded data removed]",
      "text/plain": [
       "<Figure size 1080x360 with 2 Axes>"
      ]
     },
     "metadata": {
      "needs_background": "light"
     },
     "output_type": "display_data"
    },
    {
     "data": {
      "text/html": [
       "<style type=\"text/css\">\n",
       "#T_0c428_row0_col0, #T_0c428_row1_col1, #T_0c428_row2_col2 {\n",
       "  background-color: #b40426;\n",
       "  color: #f1f1f1;\n",
       "}\n",
       "#T_0c428_row0_col1, #T_0c428_row0_col2, #T_0c428_row2_col0 {\n",
       "  background-color: #3b4cc0;\n",
       "  color: #f1f1f1;\n",
       "}\n",
       "#T_0c428_row1_col0 {\n",
       "  background-color: #4e68d8;\n",
       "  color: #f1f1f1;\n",
       "}\n",
       "#T_0c428_row1_col2 {\n",
       "  background-color: #d85646;\n",
       "  color: #f1f1f1;\n",
       "}\n",
       "#T_0c428_row2_col1 {\n",
       "  background-color: #da5a49;\n",
       "  color: #f1f1f1;\n",
       "}\n",
       "</style>\n",
       "<table id=\"T_0c428\">\n",
       "  <thead>\n",
       "    <tr>\n",
       "      <th class=\"blank level0\" >&nbsp;</th>\n",
       "      <th id=\"T_0c428_level0_col0\" class=\"col_heading level0 col0\" >total_sales</th>\n",
       "      <th id=\"T_0c428_level0_col1\" class=\"col_heading level0 col1\" >critic_score</th>\n",
       "      <th id=\"T_0c428_level0_col2\" class=\"col_heading level0 col2\" >user_score</th>\n",
       "    </tr>\n",
       "  </thead>\n",
       "  <tbody>\n",
       "    <tr>\n",
       "      <th id=\"T_0c428_level0_row0\" class=\"row_heading level0 row0\" >total_sales</th>\n",
       "      <td id=\"T_0c428_row0_col0\" class=\"data row0 col0\" >1.000000</td>\n",
       "      <td id=\"T_0c428_row0_col1\" class=\"data row0 col1\" >0.143028</td>\n",
       "      <td id=\"T_0c428_row0_col2\" class=\"data row0 col2\" >0.084093</td>\n",
       "    </tr>\n",
       "    <tr>\n",
       "      <th id=\"T_0c428_level0_row1\" class=\"row_heading level0 row1\" >critic_score</th>\n",
       "      <td id=\"T_0c428_row1_col0\" class=\"data row1 col0\" >0.143028</td>\n",
       "      <td id=\"T_0c428_row1_col1\" class=\"data row1 col1\" >1.000000</td>\n",
       "      <td id=\"T_0c428_row1_col2\" class=\"data row1 col2\" >0.902063</td>\n",
       "    </tr>\n",
       "    <tr>\n",
       "      <th id=\"T_0c428_level0_row2\" class=\"row_heading level0 row2\" >user_score</th>\n",
       "      <td id=\"T_0c428_row2_col0\" class=\"data row2 col0\" >0.084093</td>\n",
       "      <td id=\"T_0c428_row2_col1\" class=\"data row2 col1\" >0.902063</td>\n",
       "      <td id=\"T_0c428_row2_col2\" class=\"data row2 col2\" >1.000000</td>\n",
       "    </tr>\n",
       "  </tbody>\n",
       "</table>\n"
      ],
      "text/plain": [
       "<pandas.io.formats.style.Styler at 0x156d84a97c0>"
      ]
     },
     "metadata": {},
     "output_type": "display_data"
    }
   ],
   "source": [
    "fig, axs = plt.subplots(1,2)\n",
    "fig.suptitle(\"Распределение для PS4\")\n",
    "fig.set_figheight(5)\n",
    "fig.set_figwidth(15)\n",
    "(\n",
    "    data_actual_clean[(data_actual_clean['platform'] == 'PS4') & (data_actual_clean['critic_score'] > 0)]\n",
    "    .plot(x='critic_score', y='total_sales', kind='scatter', alpha=0.4, ax=axs[0])\n",
    ")\n",
    "(\n",
    "    data_actual_clean[(data_actual_clean['platform'] == 'PS4') & (data_actual_clean['user_score'] > 0)]\n",
    "    .plot(x='user_score', y='total_sales', kind='scatter', alpha=0.4, ax=axs[1])\n",
    ")\n",
    "axs[0].set_title('Оценка критиков') \n",
    "axs[0].set_xlabel('Оценка')\n",
    "axs[1].set_title('Оценка пользователей') \n",
    "axs[1].set_xlabel('Оценка')\n",
    "plt.show()\n",
    "display(\n",
    "    data_actual_clean[data_actual_clean['platform'] == 'PS4'][['total_sales', 'critic_score', 'user_score']]\n",
    "        .corr()\n",
    "        .style.background_gradient(cmap='coolwarm')\n",
    "       )   "
   ]
  },
  {
   "cell_type": "markdown",
   "id": "e9a0a64a",
   "metadata": {},
   "source": [
    "Итоговые продажи PS4 больше зависят от оценок критиков, чем от оценок пользователей, но зависимость слабая. \n",
    "\n",
    "Посмотрим диаграммы рессеивания для остальных популярных платформ."
   ]
  },
  {
   "cell_type": "code",
   "execution_count": 30,
   "id": "11b9607b",
   "metadata": {},
   "outputs": [
    {
     "data": {
      "text/plain": [
       "array(['PS4', '3DS', 'XOne', 'X360', 'PS3', 'WiiU', 'PC', 'PSV', 'Wii',\n",
       "       'PSP'], dtype=object)"
      ]
     },
     "execution_count": 30,
     "metadata": {},
     "output_type": "execute_result"
    }
   ],
   "source": [
    "data_actual_clean['platform'].unique()"
   ]
  },
  {
   "cell_type": "code",
   "execution_count": 31,
   "id": "dbbb5ebf",
   "metadata": {
    "scrolled": false
   },
   "outputs": [
    {
     "data": {
      "image/png": "[encoded data removed]",
      "text/plain": [
       "<Figure size 1080x360 with 2 Axes>"
      ]
     },
     "metadata": {
      "needs_background": "light"
     },
     "output_type": "display_data"
    },
    {
     "data": {
      "text/html": [
       "<style type=\"text/css\">\n",
       "#T_e44f6_row0_col0, #T_e44f6_row1_col1, #T_e44f6_row2_col2 {\n",
       "  background-color: #b40426;\n",
       "  color: #f1f1f1;\n",
       "}\n",
       "#T_e44f6_row0_col1, #T_e44f6_row0_col2, #T_e44f6_row1_col0 {\n",
       "  background-color: #3b4cc0;\n",
       "  color: #f1f1f1;\n",
       "}\n",
       "#T_e44f6_row1_col2 {\n",
       "  background-color: #eb7d62;\n",
       "  color: #f1f1f1;\n",
       "}\n",
       "#T_e44f6_row2_col0 {\n",
       "  background-color: #5977e3;\n",
       "  color: #f1f1f1;\n",
       "}\n",
       "#T_e44f6_row2_col1 {\n",
       "  background-color: #e7745b;\n",
       "  color: #f1f1f1;\n",
       "}\n",
       "</style>\n",
       "<table id=\"T_e44f6\">\n",
       "  <thead>\n",
       "    <tr>\n",
       "      <th class=\"blank level0\" >&nbsp;</th>\n",
       "      <th id=\"T_e44f6_level0_col0\" class=\"col_heading level0 col0\" >total_sales</th>\n",
       "      <th id=\"T_e44f6_level0_col1\" class=\"col_heading level0 col1\" >critic_score</th>\n",
       "      <th id=\"T_e44f6_level0_col2\" class=\"col_heading level0 col2\" >user_score</th>\n",
       "    </tr>\n",
       "  </thead>\n",
       "  <tbody>\n",
       "    <tr>\n",
       "      <th id=\"T_e44f6_level0_row0\" class=\"row_heading level0 row0\" >total_sales</th>\n",
       "      <td id=\"T_e44f6_row0_col0\" class=\"data row0 col0\" >1.000000</td>\n",
       "      <td id=\"T_e44f6_row0_col1\" class=\"data row0 col1\" >0.201976</td>\n",
       "      <td id=\"T_e44f6_row0_col2\" class=\"data row0 col2\" >0.280828</td>\n",
       "    </tr>\n",
       "    <tr>\n",
       "      <th id=\"T_e44f6_level0_row1\" class=\"row_heading level0 row1\" >critic_score</th>\n",
       "      <td id=\"T_e44f6_row1_col0\" class=\"data row1 col0\" >0.201976</td>\n",
       "      <td id=\"T_e44f6_row1_col1\" class=\"data row1 col1\" >1.000000</td>\n",
       "      <td id=\"T_e44f6_row1_col2\" class=\"data row1 col2\" >0.866047</td>\n",
       "    </tr>\n",
       "    <tr>\n",
       "      <th id=\"T_e44f6_level0_row2\" class=\"row_heading level0 row2\" >user_score</th>\n",
       "      <td id=\"T_e44f6_row2_col0\" class=\"data row2 col0\" >0.280828</td>\n",
       "      <td id=\"T_e44f6_row2_col1\" class=\"data row2 col1\" >0.866047</td>\n",
       "      <td id=\"T_e44f6_row2_col2\" class=\"data row2 col2\" >1.000000</td>\n",
       "    </tr>\n",
       "  </tbody>\n",
       "</table>\n"
      ],
      "text/plain": [
       "<pandas.io.formats.style.Styler at 0x156d82b0df0>"
      ]
     },
     "metadata": {},
     "output_type": "display_data"
    },
    {
     "data": {
      "image/png": "[encoded data removed]",
      "text/plain": [
       "<Figure size 1080x360 with 2 Axes>"
      ]
     },
     "metadata": {
      "needs_background": "light"
     },
     "output_type": "display_data"
    },
    {
     "data": {
      "text/html": [
       "<style type=\"text/css\">\n",
       "#T_c9da3_row0_col0, #T_c9da3_row1_col1, #T_c9da3_row2_col2 {\n",
       "  background-color: #b40426;\n",
       "  color: #f1f1f1;\n",
       "}\n",
       "#T_c9da3_row0_col1, #T_c9da3_row0_col2, #T_c9da3_row2_col0 {\n",
       "  background-color: #3b4cc0;\n",
       "  color: #f1f1f1;\n",
       "}\n",
       "#T_c9da3_row1_col0 {\n",
       "  background-color: #7093f3;\n",
       "  color: #f1f1f1;\n",
       "}\n",
       "#T_c9da3_row1_col2 {\n",
       "  background-color: #f29274;\n",
       "  color: #f1f1f1;\n",
       "}\n",
       "#T_c9da3_row2_col1 {\n",
       "  background-color: #f7a688;\n",
       "  color: #000000;\n",
       "}\n",
       "</style>\n",
       "<table id=\"T_c9da3\">\n",
       "  <thead>\n",
       "    <tr>\n",
       "      <th class=\"blank level0\" >&nbsp;</th>\n",
       "      <th id=\"T_c9da3_level0_col0\" class=\"col_heading level0 col0\" >total_sales</th>\n",
       "      <th id=\"T_c9da3_level0_col1\" class=\"col_heading level0 col1\" >critic_score</th>\n",
       "      <th id=\"T_c9da3_level0_col2\" class=\"col_heading level0 col2\" >user_score</th>\n",
       "    </tr>\n",
       "  </thead>\n",
       "  <tbody>\n",
       "    <tr>\n",
       "      <th id=\"T_c9da3_level0_row0\" class=\"row_heading level0 row0\" >total_sales</th>\n",
       "      <td id=\"T_c9da3_row0_col0\" class=\"data row0 col0\" >1.000000</td>\n",
       "      <td id=\"T_c9da3_row0_col1\" class=\"data row0 col1\" >0.234745</td>\n",
       "      <td id=\"T_c9da3_row0_col2\" class=\"data row0 col2\" >0.077125</td>\n",
       "    </tr>\n",
       "    <tr>\n",
       "      <th id=\"T_c9da3_level0_row1\" class=\"row_heading level0 row1\" >critic_score</th>\n",
       "      <td id=\"T_c9da3_row1_col0\" class=\"data row1 col0\" >0.234745</td>\n",
       "      <td id=\"T_c9da3_row1_col1\" class=\"data row1 col1\" >1.000000</td>\n",
       "      <td id=\"T_c9da3_row1_col2\" class=\"data row1 col2\" >0.783893</td>\n",
       "    </tr>\n",
       "    <tr>\n",
       "      <th id=\"T_c9da3_level0_row2\" class=\"row_heading level0 row2\" >user_score</th>\n",
       "      <td id=\"T_c9da3_row2_col0\" class=\"data row2 col0\" >0.077125</td>\n",
       "      <td id=\"T_c9da3_row2_col1\" class=\"data row2 col1\" >0.783893</td>\n",
       "      <td id=\"T_c9da3_row2_col2\" class=\"data row2 col2\" >1.000000</td>\n",
       "    </tr>\n",
       "  </tbody>\n",
       "</table>\n"
      ],
      "text/plain": [
       "<pandas.io.formats.style.Styler at 0x156d8417700>"
      ]
     },
     "metadata": {},
     "output_type": "display_data"
    },
    {
     "data": {
      "image/png": "[encoded data removed]",
      "text/plain": [
       "<Figure size 1080x360 with 2 Axes>"
      ]
     },
     "metadata": {
      "needs_background": "light"
     },
     "output_type": "display_data"
    },
    {
     "data": {
      "text/html": [
       "<style type=\"text/css\">\n",
       "#T_b55d1_row0_col0, #T_b55d1_row1_col1, #T_b55d1_row2_col2 {\n",
       "  background-color: #b40426;\n",
       "  color: #f1f1f1;\n",
       "}\n",
       "#T_b55d1_row0_col1, #T_b55d1_row0_col2, #T_b55d1_row1_col0 {\n",
       "  background-color: #3b4cc0;\n",
       "  color: #f1f1f1;\n",
       "}\n",
       "#T_b55d1_row1_col2 {\n",
       "  background-color: #6a8bef;\n",
       "  color: #f1f1f1;\n",
       "}\n",
       "#T_b55d1_row2_col0 {\n",
       "  background-color: #5d7ce6;\n",
       "  color: #f1f1f1;\n",
       "}\n",
       "#T_b55d1_row2_col1 {\n",
       "  background-color: #8badfd;\n",
       "  color: #000000;\n",
       "}\n",
       "</style>\n",
       "<table id=\"T_b55d1\">\n",
       "  <thead>\n",
       "    <tr>\n",
       "      <th class=\"blank level0\" >&nbsp;</th>\n",
       "      <th id=\"T_b55d1_level0_col0\" class=\"col_heading level0 col0\" >total_sales</th>\n",
       "      <th id=\"T_b55d1_level0_col1\" class=\"col_heading level0 col1\" >critic_score</th>\n",
       "      <th id=\"T_b55d1_level0_col2\" class=\"col_heading level0 col2\" >user_score</th>\n",
       "    </tr>\n",
       "  </thead>\n",
       "  <tbody>\n",
       "    <tr>\n",
       "      <th id=\"T_b55d1_level0_row0\" class=\"row_heading level0 row0\" >total_sales</th>\n",
       "      <td id=\"T_b55d1_row0_col0\" class=\"data row0 col0\" >1.000000</td>\n",
       "      <td id=\"T_b55d1_row0_col1\" class=\"data row0 col1\" >0.113519</td>\n",
       "      <td id=\"T_b55d1_row0_col2\" class=\"data row0 col2\" >0.211697</td>\n",
       "    </tr>\n",
       "    <tr>\n",
       "      <th id=\"T_b55d1_level0_row1\" class=\"row_heading level0 row1\" >critic_score</th>\n",
       "      <td id=\"T_b55d1_row1_col0\" class=\"data row1 col0\" >0.113519</td>\n",
       "      <td id=\"T_b55d1_row1_col1\" class=\"data row1 col1\" >1.000000</td>\n",
       "      <td id=\"T_b55d1_row1_col2\" class=\"data row1 col2\" >0.331295</td>\n",
       "    </tr>\n",
       "    <tr>\n",
       "      <th id=\"T_b55d1_level0_row2\" class=\"row_heading level0 row2\" >user_score</th>\n",
       "      <td id=\"T_b55d1_row2_col0\" class=\"data row2 col0\" >0.211697</td>\n",
       "      <td id=\"T_b55d1_row2_col1\" class=\"data row2 col1\" >0.331295</td>\n",
       "      <td id=\"T_b55d1_row2_col2\" class=\"data row2 col2\" >1.000000</td>\n",
       "    </tr>\n",
       "  </tbody>\n",
       "</table>\n"
      ],
      "text/plain": [
       "<pandas.io.formats.style.Styler at 0x156d8267d60>"
      ]
     },
     "metadata": {},
     "output_type": "display_data"
    },
    {
     "data": {
      "image/png": "[encoded data removed]",
      "text/plain": [
       "<Figure size 1080x360 with 2 Axes>"
      ]
     },
     "metadata": {
      "needs_background": "light"
     },
     "output_type": "display_data"
    },
    {
     "data": {
      "text/html": [
       "<style type=\"text/css\">\n",
       "#T_e4f3d_row0_col0, #T_e4f3d_row1_col1, #T_e4f3d_row2_col2 {\n",
       "  background-color: #b40426;\n",
       "  color: #f1f1f1;\n",
       "}\n",
       "#T_e4f3d_row0_col1, #T_e4f3d_row0_col2, #T_e4f3d_row1_col0 {\n",
       "  background-color: #3b4cc0;\n",
       "  color: #f1f1f1;\n",
       "}\n",
       "#T_e4f3d_row1_col2 {\n",
       "  background-color: #5e7de7;\n",
       "  color: #f1f1f1;\n",
       "}\n",
       "#T_e4f3d_row2_col0 {\n",
       "  background-color: #b5cdfa;\n",
       "  color: #000000;\n",
       "}\n",
       "#T_e4f3d_row2_col1 {\n",
       "  background-color: #ccd9ed;\n",
       "  color: #000000;\n",
       "}\n",
       "</style>\n",
       "<table id=\"T_e4f3d\">\n",
       "  <thead>\n",
       "    <tr>\n",
       "      <th class=\"blank level0\" >&nbsp;</th>\n",
       "      <th id=\"T_e4f3d_level0_col0\" class=\"col_heading level0 col0\" >total_sales</th>\n",
       "      <th id=\"T_e4f3d_level0_col1\" class=\"col_heading level0 col1\" >critic_score</th>\n",
       "      <th id=\"T_e4f3d_level0_col2\" class=\"col_heading level0 col2\" >user_score</th>\n",
       "    </tr>\n",
       "  </thead>\n",
       "  <tbody>\n",
       "    <tr>\n",
       "      <th id=\"T_e4f3d_level0_row0\" class=\"row_heading level0 row0\" >total_sales</th>\n",
       "      <td id=\"T_e4f3d_row0_col0\" class=\"data row0 col0\" >1.000000</td>\n",
       "      <td id=\"T_e4f3d_row0_col1\" class=\"data row0 col1\" >0.123924</td>\n",
       "      <td id=\"T_e4f3d_row0_col2\" class=\"data row0 col2\" >0.444836</td>\n",
       "    </tr>\n",
       "    <tr>\n",
       "      <th id=\"T_e4f3d_level0_row1\" class=\"row_heading level0 row1\" >critic_score</th>\n",
       "      <td id=\"T_e4f3d_row1_col0\" class=\"data row1 col0\" >0.123924</td>\n",
       "      <td id=\"T_e4f3d_row1_col1\" class=\"data row1 col1\" >1.000000</td>\n",
       "      <td id=\"T_e4f3d_row1_col2\" class=\"data row1 col2\" >0.509596</td>\n",
       "    </tr>\n",
       "    <tr>\n",
       "      <th id=\"T_e4f3d_level0_row2\" class=\"row_heading level0 row2\" >user_score</th>\n",
       "      <td id=\"T_e4f3d_row2_col0\" class=\"data row2 col0\" >0.444836</td>\n",
       "      <td id=\"T_e4f3d_row2_col1\" class=\"data row2 col1\" >0.509596</td>\n",
       "      <td id=\"T_e4f3d_row2_col2\" class=\"data row2 col2\" >1.000000</td>\n",
       "    </tr>\n",
       "  </tbody>\n",
       "</table>\n"
      ],
      "text/plain": [
       "<pandas.io.formats.style.Styler at 0x156d8c6af40>"
      ]
     },
     "metadata": {},
     "output_type": "display_data"
    },
    {
     "data": {
      "image/png": "[encoded data removed]",
      "text/plain": [
       "<Figure size 1080x360 with 2 Axes>"
      ]
     },
     "metadata": {
      "needs_background": "light"
     },
     "output_type": "display_data"
    },
    {
     "data": {
      "text/html": [
       "<style type=\"text/css\">\n",
       "#T_7a318_row0_col0, #T_7a318_row1_col1, #T_7a318_row2_col2 {\n",
       "  background-color: #b40426;\n",
       "  color: #f1f1f1;\n",
       "}\n",
       "#T_7a318_row0_col1, #T_7a318_row0_col2, #T_7a318_row2_col0 {\n",
       "  background-color: #3b4cc0;\n",
       "  color: #f1f1f1;\n",
       "}\n",
       "#T_7a318_row1_col0 {\n",
       "  background-color: #688aef;\n",
       "  color: #f1f1f1;\n",
       "}\n",
       "#T_7a318_row1_col2 {\n",
       "  background-color: #f6a283;\n",
       "  color: #000000;\n",
       "}\n",
       "#T_7a318_row2_col1 {\n",
       "  background-color: #f7b396;\n",
       "  color: #000000;\n",
       "}\n",
       "</style>\n",
       "<table id=\"T_7a318\">\n",
       "  <thead>\n",
       "    <tr>\n",
       "      <th class=\"blank level0\" >&nbsp;</th>\n",
       "      <th id=\"T_7a318_level0_col0\" class=\"col_heading level0 col0\" >total_sales</th>\n",
       "      <th id=\"T_7a318_level0_col1\" class=\"col_heading level0 col1\" >critic_score</th>\n",
       "      <th id=\"T_7a318_level0_col2\" class=\"col_heading level0 col2\" >user_score</th>\n",
       "    </tr>\n",
       "  </thead>\n",
       "  <tbody>\n",
       "    <tr>\n",
       "      <th id=\"T_7a318_level0_row0\" class=\"row_heading level0 row0\" >total_sales</th>\n",
       "      <td id=\"T_7a318_row0_col0\" class=\"data row0 col0\" >1.000000</td>\n",
       "      <td id=\"T_7a318_row0_col1\" class=\"data row0 col1\" >0.317729</td>\n",
       "      <td id=\"T_7a318_row0_col2\" class=\"data row0 col2\" >0.198883</td>\n",
       "    </tr>\n",
       "    <tr>\n",
       "      <th id=\"T_7a318_level0_row1\" class=\"row_heading level0 row1\" >critic_score</th>\n",
       "      <td id=\"T_7a318_row1_col0\" class=\"data row1 col0\" >0.317729</td>\n",
       "      <td id=\"T_7a318_row1_col1\" class=\"data row1 col1\" >1.000000</td>\n",
       "      <td id=\"T_7a318_row1_col2\" class=\"data row1 col2\" >0.783475</td>\n",
       "    </tr>\n",
       "    <tr>\n",
       "      <th id=\"T_7a318_level0_row2\" class=\"row_heading level0 row2\" >user_score</th>\n",
       "      <td id=\"T_7a318_row2_col0\" class=\"data row2 col0\" >0.198883</td>\n",
       "      <td id=\"T_7a318_row2_col1\" class=\"data row2 col1\" >0.783475</td>\n",
       "      <td id=\"T_7a318_row2_col2\" class=\"data row2 col2\" >1.000000</td>\n",
       "    </tr>\n",
       "  </tbody>\n",
       "</table>\n"
      ],
      "text/plain": [
       "<pandas.io.formats.style.Styler at 0x156d8d02880>"
      ]
     },
     "metadata": {},
     "output_type": "display_data"
    }
   ],
   "source": [
    "for i in ['3DS', 'XOne', 'X360', 'PS3','PC']:\n",
    "    fig, axs = plt.subplots(1,2)\n",
    "    fig.suptitle(\"Распределение для\"+' '+i)\n",
    "    fig.set_figheight(5)\n",
    "    fig.set_figwidth(15)\n",
    "    (\n",
    "        data_actual_clean[(data_actual_clean['platform'] == i) & (data_actual_clean['critic_score'] > 0)]\n",
    "        .plot(x='critic_score', y='total_sales', kind='scatter', alpha=0.4, ax=axs[0])\n",
    "    )\n",
    "    (\n",
    "        data_actual_clean[(data_actual_clean['platform'] == i) & (data_actual_clean['user_score'] > 0)]\n",
    "        .plot(x='user_score', y='total_sales', kind='scatter', alpha=0.4, ax=axs[1])\n",
    "    )\n",
    "    axs[0].set_title('Оценки критиков') \n",
    "    axs[0].set_xlabel('Оценки')\n",
    "    axs[1].set_title('Оценки пользователей') \n",
    "    axs[1].set_xlabel('Оценки')\n",
    "    plt.show()\n",
    "    display(data_actual_clean[data_actual_clean['platform'] == i]\n",
    "            [['total_sales', 'critic_score', 'user_score']]\n",
    "            .corr().style.background_gradient(cmap='coolwarm'))\n",
    "    "
   ]
  },
  {
   "cell_type": "markdown",
   "id": "fe2e91d4",
   "metadata": {},
   "source": [
    "Исходя из графиков и коэффициентов корреляции можно сделать вывод, что оценки критиков и пользователей в равной степени влияют на продажи, чем выше оценка, тем больше продаж. Общие продажи начинают расти при оценке критиков 60 и более, а пользователей - 5 и более."
   ]
  },
  {
   "cell_type": "markdown",
   "id": "46452995",
   "metadata": {},
   "source": [
    "Посмотрим на распределение игр по жанрам."
   ]
  },
  {
   "cell_type": "code",
   "execution_count": 32,
   "id": "e27e7fd8",
   "metadata": {},
   "outputs": [
    {
     "data": {
      "image/png": "[encoded data removed]",
      "text/plain": [
       "<Figure size 504x504 with 1 Axes>"
      ]
     },
     "metadata": {},
     "output_type": "display_data"
    }
   ],
   "source": [
    "data_actual['genre'].value_counts().plot(kind='pie', figsize=(7,7), autopct='%1.0f%%')\n",
    "plt.title('Распределение по жанрам');"
   ]
  },
  {
   "cell_type": "markdown",
   "id": "762c807c",
   "metadata": {},
   "source": [
    "Больше всего игр в жанре Экшн, далее идут ролевые игры, приключенчиские и спортивыне."
   ]
  },
  {
   "cell_type": "markdown",
   "id": "1233166c",
   "metadata": {},
   "source": [
    "Теперь посмотрим на самые прибыльные жанры."
   ]
  },
  {
   "cell_type": "code",
   "execution_count": 33,
   "id": "1b33c57b",
   "metadata": {},
   "outputs": [
    {
     "data": {
      "text/html": [
       "<div>\n",
       "<style scoped>\n",
       "    .dataframe tbody tr th:only-of-type {\n",
       "        vertical-align: middle;\n",
       "    }\n",
       "\n",
       "    .dataframe tbody tr th {\n",
       "        vertical-align: top;\n",
       "    }\n",
       "\n",
       "    .dataframe thead th {\n",
       "        text-align: right;\n",
       "    }\n",
       "</style>\n",
       "<table border=\"1\" class=\"dataframe\">\n",
       "  <thead>\n",
       "    <tr style=\"text-align: right;\">\n",
       "      <th></th>\n",
       "      <th>count</th>\n",
       "      <th>total_sales</th>\n",
       "      <th>mean_sales</th>\n",
       "      <th>median_sales</th>\n",
       "    </tr>\n",
       "    <tr>\n",
       "      <th>genre</th>\n",
       "      <th></th>\n",
       "      <th></th>\n",
       "      <th></th>\n",
       "      <th></th>\n",
       "    </tr>\n",
       "  </thead>\n",
       "  <tbody>\n",
       "    <tr>\n",
       "      <th>Shooter</th>\n",
       "      <td>128</td>\n",
       "      <td>170.94</td>\n",
       "      <td>1.335469</td>\n",
       "      <td>0.515</td>\n",
       "    </tr>\n",
       "    <tr>\n",
       "      <th>Sports</th>\n",
       "      <td>161</td>\n",
       "      <td>109.48</td>\n",
       "      <td>0.680000</td>\n",
       "      <td>0.180</td>\n",
       "    </tr>\n",
       "    <tr>\n",
       "      <th>Platform</th>\n",
       "      <td>38</td>\n",
       "      <td>18.09</td>\n",
       "      <td>0.476053</td>\n",
       "      <td>0.140</td>\n",
       "    </tr>\n",
       "    <tr>\n",
       "      <th>Fighting</th>\n",
       "      <td>60</td>\n",
       "      <td>28.22</td>\n",
       "      <td>0.470333</td>\n",
       "      <td>0.125</td>\n",
       "    </tr>\n",
       "    <tr>\n",
       "      <th>Role-Playing</th>\n",
       "      <td>221</td>\n",
       "      <td>101.44</td>\n",
       "      <td>0.459005</td>\n",
       "      <td>0.110</td>\n",
       "    </tr>\n",
       "    <tr>\n",
       "      <th>Simulation</th>\n",
       "      <td>44</td>\n",
       "      <td>13.13</td>\n",
       "      <td>0.298409</td>\n",
       "      <td>0.100</td>\n",
       "    </tr>\n",
       "    <tr>\n",
       "      <th>Action</th>\n",
       "      <td>619</td>\n",
       "      <td>199.36</td>\n",
       "      <td>0.322068</td>\n",
       "      <td>0.090</td>\n",
       "    </tr>\n",
       "    <tr>\n",
       "      <th>Misc</th>\n",
       "      <td>113</td>\n",
       "      <td>37.55</td>\n",
       "      <td>0.332301</td>\n",
       "      <td>0.090</td>\n",
       "    </tr>\n",
       "    <tr>\n",
       "      <th>Racing</th>\n",
       "      <td>69</td>\n",
       "      <td>27.52</td>\n",
       "      <td>0.398841</td>\n",
       "      <td>0.090</td>\n",
       "    </tr>\n",
       "    <tr>\n",
       "      <th>Strategy</th>\n",
       "      <td>37</td>\n",
       "      <td>3.96</td>\n",
       "      <td>0.107027</td>\n",
       "      <td>0.060</td>\n",
       "    </tr>\n",
       "    <tr>\n",
       "      <th>Puzzle</th>\n",
       "      <td>14</td>\n",
       "      <td>2.21</td>\n",
       "      <td>0.157857</td>\n",
       "      <td>0.045</td>\n",
       "    </tr>\n",
       "    <tr>\n",
       "      <th>Adventure</th>\n",
       "      <td>185</td>\n",
       "      <td>17.55</td>\n",
       "      <td>0.094865</td>\n",
       "      <td>0.030</td>\n",
       "    </tr>\n",
       "  </tbody>\n",
       "</table>\n",
       "</div>"
      ],
      "text/plain": [
       "              count  total_sales  mean_sales  median_sales\n",
       "genre                                                     \n",
       "Shooter         128       170.94    1.335469         0.515\n",
       "Sports          161       109.48    0.680000         0.180\n",
       "Platform         38        18.09    0.476053         0.140\n",
       "Fighting         60        28.22    0.470333         0.125\n",
       "Role-Playing    221       101.44    0.459005         0.110\n",
       "Simulation       44        13.13    0.298409         0.100\n",
       "Action          619       199.36    0.322068         0.090\n",
       "Misc            113        37.55    0.332301         0.090\n",
       "Racing           69        27.52    0.398841         0.090\n",
       "Strategy         37         3.96    0.107027         0.060\n",
       "Puzzle           14         2.21    0.157857         0.045\n",
       "Adventure       185        17.55    0.094865         0.030"
      ]
     },
     "execution_count": 33,
     "metadata": {},
     "output_type": "execute_result"
    }
   ],
   "source": [
    "top_genre = (data_actual\n",
    "             .groupby('genre', as_index=False)['total_sales']\n",
    "             .agg(['count', 'sum', 'mean', 'median'])\n",
    "             .rename(columns={'sum': 'total_sales', 'mean': 'mean_sales', 'median': 'median_sales'})\n",
    "             .sort_values( 'median_sales', ascending=False)\n",
    "            )\n",
    "top_genre"
   ]
  },
  {
   "cell_type": "markdown",
   "id": "080a6092",
   "metadata": {},
   "source": [
    "Наиболее прибыльный жанр - экшн. Также в топ входят шутеры, спортивные и ролевые игры. Наименьшей популярностью пользуются пазлы и стратегии.\n",
    "\n",
    "Посмотрим на данные в разрезе платформ. Для каждой ли платформы сохранится такое распределение? Создадим датафрейм для наиболее продаваемого жанра для каждой платформы."
   ]
  },
  {
   "cell_type": "code",
   "execution_count": 34,
   "id": "15d3a892",
   "metadata": {},
   "outputs": [
    {
     "data": {
      "text/html": [
       "<div>\n",
       "<style scoped>\n",
       "    .dataframe tbody tr th:only-of-type {\n",
       "        vertical-align: middle;\n",
       "    }\n",
       "\n",
       "    .dataframe tbody tr th {\n",
       "        vertical-align: top;\n",
       "    }\n",
       "\n",
       "    .dataframe thead th {\n",
       "        text-align: right;\n",
       "    }\n",
       "</style>\n",
       "<table border=\"1\" class=\"dataframe\">\n",
       "  <thead>\n",
       "    <tr style=\"text-align: right;\">\n",
       "      <th></th>\n",
       "      <th>platform</th>\n",
       "      <th>genre</th>\n",
       "      <th>total_sales</th>\n",
       "    </tr>\n",
       "  </thead>\n",
       "  <tbody>\n",
       "    <tr>\n",
       "      <th>0</th>\n",
       "      <td>PS4</td>\n",
       "      <td>Action</td>\n",
       "      <td>91.62</td>\n",
       "    </tr>\n",
       "    <tr>\n",
       "      <th>1</th>\n",
       "      <td>3DS</td>\n",
       "      <td>Role-Playing</td>\n",
       "      <td>40.02</td>\n",
       "    </tr>\n",
       "    <tr>\n",
       "      <th>2</th>\n",
       "      <td>PS3</td>\n",
       "      <td>Action</td>\n",
       "      <td>18.10</td>\n",
       "    </tr>\n",
       "    <tr>\n",
       "      <th>3</th>\n",
       "      <td>XOne</td>\n",
       "      <td>Shooter</td>\n",
       "      <td>55.39</td>\n",
       "    </tr>\n",
       "    <tr>\n",
       "      <th>4</th>\n",
       "      <td>X360</td>\n",
       "      <td>Shooter</td>\n",
       "      <td>13.66</td>\n",
       "    </tr>\n",
       "    <tr>\n",
       "      <th>5</th>\n",
       "      <td>PC</td>\n",
       "      <td>Simulation</td>\n",
       "      <td>6.59</td>\n",
       "    </tr>\n",
       "  </tbody>\n",
       "</table>\n",
       "</div>"
      ],
      "text/plain": [
       "  platform         genre  total_sales\n",
       "0      PS4        Action        91.62\n",
       "1      3DS  Role-Playing        40.02\n",
       "2      PS3        Action        18.10\n",
       "3     XOne       Shooter        55.39\n",
       "4     X360       Shooter        13.66\n",
       "5       PC    Simulation         6.59"
      ]
     },
     "execution_count": 34,
     "metadata": {},
     "output_type": "execute_result"
    }
   ],
   "source": [
    "top_genre_by_platforms = pd.DataFrame()\n",
    "\n",
    "for i in ['PS4', '3DS', 'PS3', 'XOne', 'X360', 'PC']:\n",
    "    t1 = (data_actual[data_actual['platform'] == i]\n",
    "         .groupby(['platform', 'genre'], as_index=False)['total_sales']\n",
    "         .sum()\n",
    "         .sort_values('total_sales', ascending=False)\n",
    "         .head(1)\n",
    "        )\n",
    "    top_genre_by_platforms = pd.concat((top_genre_by_platforms, t1))\n",
    "    \n",
    "top_genre_by_platforms.reset_index(drop=True)"
   ]
  },
  {
   "cell_type": "markdown",
   "id": "a45560db",
   "metadata": {},
   "source": [
    "Как мы видим, для разных платформ отличаются самые продаваемые жанры. Для игровых приставок Sony и Xbox, наиболее популярны экшны и шутеры. Для компьютеров и нинтендо - ролевые игры."
   ]
  },
  {
   "cell_type": "markdown",
   "id": "219d54c8",
   "metadata": {},
   "source": [
    "Можно посмотреть на самые непродаваемые жанры по платформам. Воспользуемся тем же алгоритмом, только выведем топ-1 снизу"
   ]
  },
  {
   "cell_type": "code",
   "execution_count": 35,
   "id": "4c4dd8fc",
   "metadata": {},
   "outputs": [
    {
     "data": {
      "text/html": [
       "<div>\n",
       "<style scoped>\n",
       "    .dataframe tbody tr th:only-of-type {\n",
       "        vertical-align: middle;\n",
       "    }\n",
       "\n",
       "    .dataframe tbody tr th {\n",
       "        vertical-align: top;\n",
       "    }\n",
       "\n",
       "    .dataframe thead th {\n",
       "        text-align: right;\n",
       "    }\n",
       "</style>\n",
       "<table border=\"1\" class=\"dataframe\">\n",
       "  <thead>\n",
       "    <tr style=\"text-align: right;\">\n",
       "      <th></th>\n",
       "      <th>platform</th>\n",
       "      <th>genre</th>\n",
       "      <th>total_sales</th>\n",
       "    </tr>\n",
       "  </thead>\n",
       "  <tbody>\n",
       "    <tr>\n",
       "      <th>0</th>\n",
       "      <td>PS4</td>\n",
       "      <td>Puzzle</td>\n",
       "      <td>0.020000</td>\n",
       "    </tr>\n",
       "    <tr>\n",
       "      <th>1</th>\n",
       "      <td>3DS</td>\n",
       "      <td>Adventure</td>\n",
       "      <td>0.074762</td>\n",
       "    </tr>\n",
       "    <tr>\n",
       "      <th>2</th>\n",
       "      <td>Wii</td>\n",
       "      <td>Adventure</td>\n",
       "      <td>0.180000</td>\n",
       "    </tr>\n",
       "    <tr>\n",
       "      <th>3</th>\n",
       "      <td>PS3</td>\n",
       "      <td>Puzzle</td>\n",
       "      <td>0.040000</td>\n",
       "    </tr>\n",
       "    <tr>\n",
       "      <th>4</th>\n",
       "      <td>XOne</td>\n",
       "      <td>Simulation</td>\n",
       "      <td>0.110000</td>\n",
       "    </tr>\n",
       "    <tr>\n",
       "      <th>5</th>\n",
       "      <td>X360</td>\n",
       "      <td>Platform</td>\n",
       "      <td>0.095000</td>\n",
       "    </tr>\n",
       "    <tr>\n",
       "      <th>6</th>\n",
       "      <td>PC</td>\n",
       "      <td>Misc</td>\n",
       "      <td>0.016667</td>\n",
       "    </tr>\n",
       "  </tbody>\n",
       "</table>\n",
       "</div>"
      ],
      "text/plain": [
       "  platform       genre  total_sales\n",
       "0      PS4      Puzzle     0.020000\n",
       "1      3DS   Adventure     0.074762\n",
       "2      Wii   Adventure     0.180000\n",
       "3      PS3      Puzzle     0.040000\n",
       "4     XOne  Simulation     0.110000\n",
       "5     X360    Platform     0.095000\n",
       "6       PC        Misc     0.016667"
      ]
     },
     "execution_count": 35,
     "metadata": {},
     "output_type": "execute_result"
    }
   ],
   "source": [
    "bottom_genre_by_platforms = pd.DataFrame()\n",
    "\n",
    "for i in ['PS4', '3DS', 'Wii', 'PS3', 'XOne', 'X360', 'PC']:\n",
    "    t1 = (data_actual[data_actual['platform'] == i]\n",
    "         .groupby(['platform', 'genre'], as_index=False)['total_sales']\n",
    "         .mean()\n",
    "         .sort_values('total_sales', ascending=False)\n",
    "         .tail(1)\n",
    "        )\n",
    "    bottom_genre_by_platforms = pd.concat((bottom_genre_by_platforms, t1))\n",
    "\n",
    "bottom_genre_by_platforms.reset_index(drop=True)"
   ]
  },
  {
   "cell_type": "markdown",
   "id": "a6c09fe0",
   "metadata": {},
   "source": [
    "Вывод:"
   ]
  },
  {
   "cell_type": "markdown",
   "id": "020bb8d5",
   "metadata": {},
   "source": [
    "Среди пяти наиболее популярных жанров игр находятся экшн, ролевые, приключения, спорт и шутеры. Однако, если рассматривать медианные продажи, то самыми успешными оказываются шутеры, спортивные игры, платформеры, драки и ролевые игры. Несмотря на то, что экшн занимает седьмое место по медианному значению, он остается самым распространенным жанром. Жанры, которые показывают себя менее прибыльными, включают пазлы, стратегии и приключения. Интересно отметить, что приключенческие игры, несмотря на их популярность, оказываются неприбыльным жанром, в то время как платформеры, хоть и не так распространены, показывают хорошие медианные продажи. Таким образом, можно сделать вывод, что самыми прибыльными жанрами являются шутеры и спорт, а экшн остается наиболее популярным жанром. Пазлы и стратегии являются наименее популярными жанрами в терминах продаж, вероятно, потому что большая часть игр этих жанров перешла на мобильные устройства."
   ]
  },
  {
   "cell_type": "markdown",
   "id": "8e78f8ce",
   "metadata": {},
   "source": [
    "## <a name=\"4\"> 4. Составим портрет пользователя каждого региона.</a>"
   ]
  },
  {
   "cell_type": "markdown",
   "id": "e3ea3100",
   "metadata": {},
   "source": [
    "Определим самые популярные платформы и жанры для разных регионов и посмотрим как влияет рейтинг ESRB на продажи в отдельно взятом регионе."
   ]
  },
  {
   "cell_type": "markdown",
   "id": "8cdd1178",
   "metadata": {},
   "source": [
    "Сначала посмотрим на самые популряные платформы в разных регионах. Посмотрим на долю их продаж в регионе и во всем мире."
   ]
  },
  {
   "cell_type": "code",
   "execution_count": 36,
   "id": "6f511352",
   "metadata": {},
   "outputs": [
    {
     "data": {
      "text/plain": [
       "'Популярные платформы для NA'"
      ]
     },
     "metadata": {},
     "output_type": "display_data"
    },
    {
     "data": {
      "text/html": [
       "<div>\n",
       "<style scoped>\n",
       "    .dataframe tbody tr th:only-of-type {\n",
       "        vertical-align: middle;\n",
       "    }\n",
       "\n",
       "    .dataframe tbody tr th {\n",
       "        vertical-align: top;\n",
       "    }\n",
       "\n",
       "    .dataframe thead th {\n",
       "        text-align: right;\n",
       "    }\n",
       "</style>\n",
       "<table border=\"1\" class=\"dataframe\">\n",
       "  <thead>\n",
       "    <tr style=\"text-align: right;\">\n",
       "      <th></th>\n",
       "      <th>platform</th>\n",
       "      <th>na_sales</th>\n",
       "      <th>total_sales</th>\n",
       "      <th>ratio_total</th>\n",
       "      <th>ratio_region</th>\n",
       "    </tr>\n",
       "  </thead>\n",
       "  <tbody>\n",
       "    <tr>\n",
       "      <th>3</th>\n",
       "      <td>PS4</td>\n",
       "      <td>98.61</td>\n",
       "      <td>288.15</td>\n",
       "      <td>0.342218</td>\n",
       "      <td>0.347145</td>\n",
       "    </tr>\n",
       "    <tr>\n",
       "      <th>9</th>\n",
       "      <td>XOne</td>\n",
       "      <td>81.27</td>\n",
       "      <td>140.36</td>\n",
       "      <td>0.579011</td>\n",
       "      <td>0.286102</td>\n",
       "    </tr>\n",
       "    <tr>\n",
       "      <th>8</th>\n",
       "      <td>X360</td>\n",
       "      <td>28.30</td>\n",
       "      <td>48.22</td>\n",
       "      <td>0.586893</td>\n",
       "      <td>0.099627</td>\n",
       "    </tr>\n",
       "    <tr>\n",
       "      <th>0</th>\n",
       "      <td>3DS</td>\n",
       "      <td>22.64</td>\n",
       "      <td>86.68</td>\n",
       "      <td>0.261191</td>\n",
       "      <td>0.079701</td>\n",
       "    </tr>\n",
       "    <tr>\n",
       "      <th>2</th>\n",
       "      <td>PS3</td>\n",
       "      <td>22.05</td>\n",
       "      <td>68.18</td>\n",
       "      <td>0.323409</td>\n",
       "      <td>0.077624</td>\n",
       "    </tr>\n",
       "  </tbody>\n",
       "</table>\n",
       "</div>"
      ],
      "text/plain": [
       "  platform  na_sales  total_sales  ratio_total  ratio_region\n",
       "3      PS4     98.61       288.15     0.342218      0.347145\n",
       "9     XOne     81.27       140.36     0.579011      0.286102\n",
       "8     X360     28.30        48.22     0.586893      0.099627\n",
       "0      3DS     22.64        86.68     0.261191      0.079701\n",
       "2      PS3     22.05        68.18     0.323409      0.077624"
      ]
     },
     "metadata": {},
     "output_type": "display_data"
    },
    {
     "data": {
      "text/plain": [
       "'Популярные платформы для EU'"
      ]
     },
     "metadata": {},
     "output_type": "display_data"
    },
    {
     "data": {
      "text/html": [
       "<div>\n",
       "<style scoped>\n",
       "    .dataframe tbody tr th:only-of-type {\n",
       "        vertical-align: middle;\n",
       "    }\n",
       "\n",
       "    .dataframe tbody tr th {\n",
       "        vertical-align: top;\n",
       "    }\n",
       "\n",
       "    .dataframe thead th {\n",
       "        text-align: right;\n",
       "    }\n",
       "</style>\n",
       "<table border=\"1\" class=\"dataframe\">\n",
       "  <thead>\n",
       "    <tr style=\"text-align: right;\">\n",
       "      <th></th>\n",
       "      <th>platform</th>\n",
       "      <th>eu_sales</th>\n",
       "      <th>total_sales</th>\n",
       "      <th>ratio_total</th>\n",
       "      <th>ratio_region</th>\n",
       "    </tr>\n",
       "  </thead>\n",
       "  <tbody>\n",
       "    <tr>\n",
       "      <th>3</th>\n",
       "      <td>PS4</td>\n",
       "      <td>130.04</td>\n",
       "      <td>288.15</td>\n",
       "      <td>0.451293</td>\n",
       "      <td>0.480420</td>\n",
       "    </tr>\n",
       "    <tr>\n",
       "      <th>9</th>\n",
       "      <td>XOne</td>\n",
       "      <td>46.25</td>\n",
       "      <td>140.36</td>\n",
       "      <td>0.329510</td>\n",
       "      <td>0.170866</td>\n",
       "    </tr>\n",
       "    <tr>\n",
       "      <th>2</th>\n",
       "      <td>PS3</td>\n",
       "      <td>25.54</td>\n",
       "      <td>68.18</td>\n",
       "      <td>0.374597</td>\n",
       "      <td>0.094355</td>\n",
       "    </tr>\n",
       "    <tr>\n",
       "      <th>1</th>\n",
       "      <td>PC</td>\n",
       "      <td>17.97</td>\n",
       "      <td>27.05</td>\n",
       "      <td>0.664325</td>\n",
       "      <td>0.066388</td>\n",
       "    </tr>\n",
       "    <tr>\n",
       "      <th>0</th>\n",
       "      <td>3DS</td>\n",
       "      <td>16.12</td>\n",
       "      <td>86.68</td>\n",
       "      <td>0.185971</td>\n",
       "      <td>0.059554</td>\n",
       "    </tr>\n",
       "  </tbody>\n",
       "</table>\n",
       "</div>"
      ],
      "text/plain": [
       "  platform  eu_sales  total_sales  ratio_total  ratio_region\n",
       "3      PS4    130.04       288.15     0.451293      0.480420\n",
       "9     XOne     46.25       140.36     0.329510      0.170866\n",
       "2      PS3     25.54        68.18     0.374597      0.094355\n",
       "1       PC     17.97        27.05     0.664325      0.066388\n",
       "0      3DS     16.12        86.68     0.185971      0.059554"
      ]
     },
     "metadata": {},
     "output_type": "display_data"
    },
    {
     "data": {
      "text/plain": [
       "'Популярные платформы для JP'"
      ]
     },
     "metadata": {},
     "output_type": "display_data"
    },
    {
     "data": {
      "text/html": [
       "<div>\n",
       "<style scoped>\n",
       "    .dataframe tbody tr th:only-of-type {\n",
       "        vertical-align: middle;\n",
       "    }\n",
       "\n",
       "    .dataframe tbody tr th {\n",
       "        vertical-align: top;\n",
       "    }\n",
       "\n",
       "    .dataframe thead th {\n",
       "        text-align: right;\n",
       "    }\n",
       "</style>\n",
       "<table border=\"1\" class=\"dataframe\">\n",
       "  <thead>\n",
       "    <tr style=\"text-align: right;\">\n",
       "      <th></th>\n",
       "      <th>platform</th>\n",
       "      <th>jp_sales</th>\n",
       "      <th>total_sales</th>\n",
       "      <th>ratio_total</th>\n",
       "      <th>ratio_region</th>\n",
       "    </tr>\n",
       "  </thead>\n",
       "  <tbody>\n",
       "    <tr>\n",
       "      <th>0</th>\n",
       "      <td>3DS</td>\n",
       "      <td>44.24</td>\n",
       "      <td>86.68</td>\n",
       "      <td>0.510383</td>\n",
       "      <td>0.475239</td>\n",
       "    </tr>\n",
       "    <tr>\n",
       "      <th>3</th>\n",
       "      <td>PS4</td>\n",
       "      <td>15.02</td>\n",
       "      <td>288.15</td>\n",
       "      <td>0.052126</td>\n",
       "      <td>0.161349</td>\n",
       "    </tr>\n",
       "    <tr>\n",
       "      <th>5</th>\n",
       "      <td>PSV</td>\n",
       "      <td>14.54</td>\n",
       "      <td>22.40</td>\n",
       "      <td>0.649107</td>\n",
       "      <td>0.156193</td>\n",
       "    </tr>\n",
       "    <tr>\n",
       "      <th>2</th>\n",
       "      <td>PS3</td>\n",
       "      <td>11.22</td>\n",
       "      <td>68.18</td>\n",
       "      <td>0.164564</td>\n",
       "      <td>0.120529</td>\n",
       "    </tr>\n",
       "    <tr>\n",
       "      <th>7</th>\n",
       "      <td>WiiU</td>\n",
       "      <td>7.31</td>\n",
       "      <td>42.98</td>\n",
       "      <td>0.170079</td>\n",
       "      <td>0.078526</td>\n",
       "    </tr>\n",
       "  </tbody>\n",
       "</table>\n",
       "</div>"
      ],
      "text/plain": [
       "  platform  jp_sales  total_sales  ratio_total  ratio_region\n",
       "0      3DS     44.24        86.68     0.510383      0.475239\n",
       "3      PS4     15.02       288.15     0.052126      0.161349\n",
       "5      PSV     14.54        22.40     0.649107      0.156193\n",
       "2      PS3     11.22        68.18     0.164564      0.120529\n",
       "7     WiiU      7.31        42.98     0.170079      0.078526"
      ]
     },
     "metadata": {},
     "output_type": "display_data"
    },
    {
     "data": {
      "image/png": "[encoded data removed]",
      "text/plain": [
       "<Figure size 1080x360 with 3 Axes>"
      ]
     },
     "metadata": {
      "needs_background": "light"
     },
     "output_type": "display_data"
    }
   ],
   "source": [
    "fig, axs = plt.subplots(1,3)\n",
    "fig.set_figheight(5)\n",
    "fig.set_figwidth(15)\n",
    "fig.suptitle('Популярные платформы по регионам', fontsize=14)\n",
    "\n",
    "li = ['na_sales', 'eu_sales', 'jp_sales']\n",
    "\n",
    "for i, j in zip(li, range(len(li))):\n",
    "    platform_sales = (data_actual\n",
    "         .groupby('platform', as_index=False)\n",
    "         .agg({i:'sum', 'total_sales':'sum'})\n",
    "         .assign(ratio_total = (lambda x: x[i]/x['total_sales']), ratio_region = (lambda x: x[i]/x[i].sum()))\n",
    "         .sort_values(i, ascending=False)\n",
    "         .head(5)\n",
    "        )\n",
    "    display(f'Популярные платформы для {i.upper():.2}', platform_sales)     \n",
    "    platform_sales.plot.bar(x='platform', y=i, ax = axs[j])"
   ]
  },
  {
   "cell_type": "markdown",
   "id": "bf6d45eb",
   "metadata": {},
   "source": [
    "Вывод по платформам:\n",
    "\n",
    "В Северной Америке лидирует PS4 с почти 100 млн проданных копий. На втором по популярносте месте XOne, и что характерно - 58% продаж для данной консоли в мире приходится именно на Америку.\n",
    "\n",
    "В Европе также лидирует PS4, но уже с 130 млн проданных копий, что составляет 45% процентов от мирового рынка. На втором месте XOne с 46 млн проданных копий. Также можно заметить, что PC игры проданные в Европе, составляют больше половины от всех игр для PC в мире.\n",
    "\n",
    "У Японцев лидирует 3DS - 44 млн копий и почти 50% от всего рынка. Но что более интересно, PSV, которая расположилась на третьем месте, занимает более 65!% от всего рынка. Можно смело сказать, что рынок Японии - рынок портативных игровых консолей, которые можно брать с собой."
   ]
  },
  {
   "cell_type": "markdown",
   "id": "265bdd63",
   "metadata": {},
   "source": [
    "Теперь посмотрим на ситуацию с продажамми по жанрам в каждом регионе."
   ]
  },
  {
   "cell_type": "code",
   "execution_count": 37,
   "id": "5fe58030",
   "metadata": {},
   "outputs": [
    {
     "data": {
      "text/plain": [
       "'Популярные жанры для NA'"
      ]
     },
     "metadata": {},
     "output_type": "display_data"
    },
    {
     "data": {
      "text/html": [
       "<div>\n",
       "<style scoped>\n",
       "    .dataframe tbody tr th:only-of-type {\n",
       "        vertical-align: middle;\n",
       "    }\n",
       "\n",
       "    .dataframe tbody tr th {\n",
       "        vertical-align: top;\n",
       "    }\n",
       "\n",
       "    .dataframe thead th {\n",
       "        text-align: right;\n",
       "    }\n",
       "</style>\n",
       "<table border=\"1\" class=\"dataframe\">\n",
       "  <thead>\n",
       "    <tr style=\"text-align: right;\">\n",
       "      <th></th>\n",
       "      <th>genre</th>\n",
       "      <th>na_sales</th>\n",
       "      <th>total_sales</th>\n",
       "      <th>ratio_total</th>\n",
       "      <th>ratio_region</th>\n",
       "    </tr>\n",
       "  </thead>\n",
       "  <tbody>\n",
       "    <tr>\n",
       "      <th>8</th>\n",
       "      <td>Shooter</td>\n",
       "      <td>79.02</td>\n",
       "      <td>170.94</td>\n",
       "      <td>0.462267</td>\n",
       "      <td>0.278181</td>\n",
       "    </tr>\n",
       "    <tr>\n",
       "      <th>0</th>\n",
       "      <td>Action</td>\n",
       "      <td>72.53</td>\n",
       "      <td>199.36</td>\n",
       "      <td>0.363814</td>\n",
       "      <td>0.255333</td>\n",
       "    </tr>\n",
       "    <tr>\n",
       "      <th>10</th>\n",
       "      <td>Sports</td>\n",
       "      <td>46.13</td>\n",
       "      <td>109.48</td>\n",
       "      <td>0.421355</td>\n",
       "      <td>0.162395</td>\n",
       "    </tr>\n",
       "    <tr>\n",
       "      <th>7</th>\n",
       "      <td>Role-Playing</td>\n",
       "      <td>33.47</td>\n",
       "      <td>101.44</td>\n",
       "      <td>0.329949</td>\n",
       "      <td>0.117827</td>\n",
       "    </tr>\n",
       "    <tr>\n",
       "      <th>3</th>\n",
       "      <td>Misc</td>\n",
       "      <td>15.05</td>\n",
       "      <td>37.55</td>\n",
       "      <td>0.400799</td>\n",
       "      <td>0.052982</td>\n",
       "    </tr>\n",
       "  </tbody>\n",
       "</table>\n",
       "</div>"
      ],
      "text/plain": [
       "           genre  na_sales  total_sales  ratio_total  ratio_region\n",
       "8        Shooter     79.02       170.94     0.462267      0.278181\n",
       "0         Action     72.53       199.36     0.363814      0.255333\n",
       "10        Sports     46.13       109.48     0.421355      0.162395\n",
       "7   Role-Playing     33.47       101.44     0.329949      0.117827\n",
       "3           Misc     15.05        37.55     0.400799      0.052982"
      ]
     },
     "metadata": {},
     "output_type": "display_data"
    },
    {
     "data": {
      "text/plain": [
       "'Популярные жанры для EU'"
      ]
     },
     "metadata": {},
     "output_type": "display_data"
    },
    {
     "data": {
      "text/html": [
       "<div>\n",
       "<style scoped>\n",
       "    .dataframe tbody tr th:only-of-type {\n",
       "        vertical-align: middle;\n",
       "    }\n",
       "\n",
       "    .dataframe tbody tr th {\n",
       "        vertical-align: top;\n",
       "    }\n",
       "\n",
       "    .dataframe thead th {\n",
       "        text-align: right;\n",
       "    }\n",
       "</style>\n",
       "<table border=\"1\" class=\"dataframe\">\n",
       "  <thead>\n",
       "    <tr style=\"text-align: right;\">\n",
       "      <th></th>\n",
       "      <th>genre</th>\n",
       "      <th>eu_sales</th>\n",
       "      <th>total_sales</th>\n",
       "      <th>ratio_total</th>\n",
       "      <th>ratio_region</th>\n",
       "    </tr>\n",
       "  </thead>\n",
       "  <tbody>\n",
       "    <tr>\n",
       "      <th>0</th>\n",
       "      <td>Action</td>\n",
       "      <td>74.68</td>\n",
       "      <td>199.36</td>\n",
       "      <td>0.374599</td>\n",
       "      <td>0.275898</td>\n",
       "    </tr>\n",
       "    <tr>\n",
       "      <th>8</th>\n",
       "      <td>Shooter</td>\n",
       "      <td>65.52</td>\n",
       "      <td>170.94</td>\n",
       "      <td>0.383292</td>\n",
       "      <td>0.242057</td>\n",
       "    </tr>\n",
       "    <tr>\n",
       "      <th>10</th>\n",
       "      <td>Sports</td>\n",
       "      <td>45.73</td>\n",
       "      <td>109.48</td>\n",
       "      <td>0.417702</td>\n",
       "      <td>0.168945</td>\n",
       "    </tr>\n",
       "    <tr>\n",
       "      <th>7</th>\n",
       "      <td>Role-Playing</td>\n",
       "      <td>28.17</td>\n",
       "      <td>101.44</td>\n",
       "      <td>0.277701</td>\n",
       "      <td>0.104071</td>\n",
       "    </tr>\n",
       "    <tr>\n",
       "      <th>6</th>\n",
       "      <td>Racing</td>\n",
       "      <td>14.13</td>\n",
       "      <td>27.52</td>\n",
       "      <td>0.513445</td>\n",
       "      <td>0.052202</td>\n",
       "    </tr>\n",
       "  </tbody>\n",
       "</table>\n",
       "</div>"
      ],
      "text/plain": [
       "           genre  eu_sales  total_sales  ratio_total  ratio_region\n",
       "0         Action     74.68       199.36     0.374599      0.275898\n",
       "8        Shooter     65.52       170.94     0.383292      0.242057\n",
       "10        Sports     45.73       109.48     0.417702      0.168945\n",
       "7   Role-Playing     28.17       101.44     0.277701      0.104071\n",
       "6         Racing     14.13        27.52     0.513445      0.052202"
      ]
     },
     "metadata": {},
     "output_type": "display_data"
    },
    {
     "data": {
      "text/plain": [
       "'Популярные жанры для JP'"
      ]
     },
     "metadata": {},
     "output_type": "display_data"
    },
    {
     "data": {
      "text/html": [
       "<div>\n",
       "<style scoped>\n",
       "    .dataframe tbody tr th:only-of-type {\n",
       "        vertical-align: middle;\n",
       "    }\n",
       "\n",
       "    .dataframe tbody tr th {\n",
       "        vertical-align: top;\n",
       "    }\n",
       "\n",
       "    .dataframe thead th {\n",
       "        text-align: right;\n",
       "    }\n",
       "</style>\n",
       "<table border=\"1\" class=\"dataframe\">\n",
       "  <thead>\n",
       "    <tr style=\"text-align: right;\">\n",
       "      <th></th>\n",
       "      <th>genre</th>\n",
       "      <th>jp_sales</th>\n",
       "      <th>total_sales</th>\n",
       "      <th>ratio_total</th>\n",
       "      <th>ratio_region</th>\n",
       "    </tr>\n",
       "  </thead>\n",
       "  <tbody>\n",
       "    <tr>\n",
       "      <th>7</th>\n",
       "      <td>Role-Playing</td>\n",
       "      <td>31.16</td>\n",
       "      <td>101.44</td>\n",
       "      <td>0.307177</td>\n",
       "      <td>0.334730</td>\n",
       "    </tr>\n",
       "    <tr>\n",
       "      <th>0</th>\n",
       "      <td>Action</td>\n",
       "      <td>29.58</td>\n",
       "      <td>199.36</td>\n",
       "      <td>0.148375</td>\n",
       "      <td>0.317757</td>\n",
       "    </tr>\n",
       "    <tr>\n",
       "      <th>2</th>\n",
       "      <td>Fighting</td>\n",
       "      <td>6.37</td>\n",
       "      <td>28.22</td>\n",
       "      <td>0.225726</td>\n",
       "      <td>0.068428</td>\n",
       "    </tr>\n",
       "    <tr>\n",
       "      <th>3</th>\n",
       "      <td>Misc</td>\n",
       "      <td>5.61</td>\n",
       "      <td>37.55</td>\n",
       "      <td>0.149401</td>\n",
       "      <td>0.060264</td>\n",
       "    </tr>\n",
       "    <tr>\n",
       "      <th>8</th>\n",
       "      <td>Shooter</td>\n",
       "      <td>4.87</td>\n",
       "      <td>170.94</td>\n",
       "      <td>0.028490</td>\n",
       "      <td>0.052315</td>\n",
       "    </tr>\n",
       "  </tbody>\n",
       "</table>\n",
       "</div>"
      ],
      "text/plain": [
       "          genre  jp_sales  total_sales  ratio_total  ratio_region\n",
       "7  Role-Playing     31.16       101.44     0.307177      0.334730\n",
       "0        Action     29.58       199.36     0.148375      0.317757\n",
       "2      Fighting      6.37        28.22     0.225726      0.068428\n",
       "3          Misc      5.61        37.55     0.149401      0.060264\n",
       "8       Shooter      4.87       170.94     0.028490      0.052315"
      ]
     },
     "metadata": {},
     "output_type": "display_data"
    },
    {
     "data": {
      "image/png": "[encoded data removed]",
      "text/plain": [
       "<Figure size 1080x360 with 3 Axes>"
      ]
     },
     "metadata": {
      "needs_background": "light"
     },
     "output_type": "display_data"
    }
   ],
   "source": [
    "fig, axs = plt.subplots(1,3)\n",
    "fig.set_figheight(5)\n",
    "fig.set_figwidth(15)\n",
    "fig.suptitle(\"Популярные жанры по регионам\", fontsize=14)\n",
    "\n",
    "li = ['na_sales', 'eu_sales', 'jp_sales']\n",
    "\n",
    "for i, j in zip(li, range(len(li))):\n",
    "    genre_sales = (data_actual\n",
    "         .groupby('genre', as_index=False)\n",
    "         .agg({i:'sum', 'total_sales':'sum'})\n",
    "\n",
    "         .assign(ratio_total = (lambda x: x[i]/x['total_sales']), ratio_region = (lambda x: x[i]/x[i].sum()))\n",
    "         .sort_values(i, ascending=False)\n",
    "         .head(5)\n",
    "        )\n",
    "    display(f'Популярные жанры для {i.upper():.2}', genre_sales)     \n",
    "    genre_sales.plot.bar(x='genre', y=i, color='g', ax = axs[j])"
   ]
  },
  {
   "cell_type": "markdown",
   "id": "da546afa",
   "metadata": {},
   "source": [
    "Можно заметить, что в целом рынки Америки и Европы очень схожи. У обоих лидируют экшены и шутеры. Спортивные игры тоже в топе. А вот в Азии более развиты продажи ролевых игр, а шутеры занимают лишь последнее место в топ-5"
   ]
  },
  {
   "cell_type": "markdown",
   "id": "bb4c9a72",
   "metadata": {},
   "source": [
    "Теперь исследуем влияния рейтинга ESRB на продажи в отдельном регионе.\n",
    "Для начала расшифруем рейтинг:\n",
    "\n",
    "«E» («Everyone») — «Для всех»\n",
    "\n",
    "«M» («Mature») — «Для взрослых»\n",
    "\n",
    "«T» («Teen») — «Подросткам»\n",
    "\n",
    "«E10+» («Everyone 10 and older») — «Для всех от 10 лет и старше»\n",
    "\n",
    "«K-A» («Everyone 10 and older») — «Для всех от 10 лет и старше»\n",
    "\n",
    "«АО» («Adults Only 18+») — «Только для взрослых»\n",
    "\n",
    "«EC» («Early childhood») — «Для детей младшего возраста»\n",
    "\n",
    "«RP» («Rating Pending») — «Рейтинг ожидается»"
   ]
  },
  {
   "cell_type": "code",
   "execution_count": 38,
   "id": "357b39da",
   "metadata": {},
   "outputs": [
    {
     "data": {
      "text/plain": [
       "'Ргейтинг ESRB для NA'"
      ]
     },
     "metadata": {},
     "output_type": "display_data"
    },
    {
     "data": {
      "text/html": [
       "<div>\n",
       "<style scoped>\n",
       "    .dataframe tbody tr th:only-of-type {\n",
       "        vertical-align: middle;\n",
       "    }\n",
       "\n",
       "    .dataframe tbody tr th {\n",
       "        vertical-align: top;\n",
       "    }\n",
       "\n",
       "    .dataframe thead th {\n",
       "        text-align: right;\n",
       "    }\n",
       "</style>\n",
       "<table border=\"1\" class=\"dataframe\">\n",
       "  <thead>\n",
       "    <tr style=\"text-align: right;\">\n",
       "      <th></th>\n",
       "      <th>rating</th>\n",
       "      <th>na_sales</th>\n",
       "      <th>total_sales</th>\n",
       "      <th>ratio_total</th>\n",
       "      <th>ratio_region</th>\n",
       "    </tr>\n",
       "  </thead>\n",
       "  <tbody>\n",
       "    <tr>\n",
       "      <th>2</th>\n",
       "      <td>M</td>\n",
       "      <td>96.42</td>\n",
       "      <td>226.54</td>\n",
       "      <td>0.425620</td>\n",
       "      <td>0.339435</td>\n",
       "    </tr>\n",
       "    <tr>\n",
       "      <th>4</th>\n",
       "      <td>Unknown</td>\n",
       "      <td>64.72</td>\n",
       "      <td>198.97</td>\n",
       "      <td>0.325275</td>\n",
       "      <td>0.227839</td>\n",
       "    </tr>\n",
       "    <tr>\n",
       "      <th>0</th>\n",
       "      <td>E</td>\n",
       "      <td>50.74</td>\n",
       "      <td>133.13</td>\n",
       "      <td>0.381131</td>\n",
       "      <td>0.178624</td>\n",
       "    </tr>\n",
       "    <tr>\n",
       "      <th>3</th>\n",
       "      <td>T</td>\n",
       "      <td>38.95</td>\n",
       "      <td>99.13</td>\n",
       "      <td>0.392918</td>\n",
       "      <td>0.137119</td>\n",
       "    </tr>\n",
       "    <tr>\n",
       "      <th>1</th>\n",
       "      <td>E10+</td>\n",
       "      <td>33.23</td>\n",
       "      <td>71.68</td>\n",
       "      <td>0.463588</td>\n",
       "      <td>0.116982</td>\n",
       "    </tr>\n",
       "  </tbody>\n",
       "</table>\n",
       "</div>"
      ],
      "text/plain": [
       "    rating  na_sales  total_sales  ratio_total  ratio_region\n",
       "2        M     96.42       226.54     0.425620      0.339435\n",
       "4  Unknown     64.72       198.97     0.325275      0.227839\n",
       "0        E     50.74       133.13     0.381131      0.178624\n",
       "3        T     38.95        99.13     0.392918      0.137119\n",
       "1     E10+     33.23        71.68     0.463588      0.116982"
      ]
     },
     "metadata": {},
     "output_type": "display_data"
    },
    {
     "data": {
      "text/plain": [
       "'Ргейтинг ESRB для EU'"
      ]
     },
     "metadata": {},
     "output_type": "display_data"
    },
    {
     "data": {
      "text/html": [
       "<div>\n",
       "<style scoped>\n",
       "    .dataframe tbody tr th:only-of-type {\n",
       "        vertical-align: middle;\n",
       "    }\n",
       "\n",
       "    .dataframe tbody tr th {\n",
       "        vertical-align: top;\n",
       "    }\n",
       "\n",
       "    .dataframe thead th {\n",
       "        text-align: right;\n",
       "    }\n",
       "</style>\n",
       "<table border=\"1\" class=\"dataframe\">\n",
       "  <thead>\n",
       "    <tr style=\"text-align: right;\">\n",
       "      <th></th>\n",
       "      <th>rating</th>\n",
       "      <th>eu_sales</th>\n",
       "      <th>total_sales</th>\n",
       "      <th>ratio_total</th>\n",
       "      <th>ratio_region</th>\n",
       "    </tr>\n",
       "  </thead>\n",
       "  <tbody>\n",
       "    <tr>\n",
       "      <th>2</th>\n",
       "      <td>M</td>\n",
       "      <td>93.44</td>\n",
       "      <td>226.54</td>\n",
       "      <td>0.412466</td>\n",
       "      <td>0.345205</td>\n",
       "    </tr>\n",
       "    <tr>\n",
       "      <th>4</th>\n",
       "      <td>Unknown</td>\n",
       "      <td>58.95</td>\n",
       "      <td>198.97</td>\n",
       "      <td>0.296276</td>\n",
       "      <td>0.217785</td>\n",
       "    </tr>\n",
       "    <tr>\n",
       "      <th>0</th>\n",
       "      <td>E</td>\n",
       "      <td>58.06</td>\n",
       "      <td>133.13</td>\n",
       "      <td>0.436115</td>\n",
       "      <td>0.214497</td>\n",
       "    </tr>\n",
       "    <tr>\n",
       "      <th>3</th>\n",
       "      <td>T</td>\n",
       "      <td>34.07</td>\n",
       "      <td>99.13</td>\n",
       "      <td>0.343690</td>\n",
       "      <td>0.125868</td>\n",
       "    </tr>\n",
       "    <tr>\n",
       "      <th>1</th>\n",
       "      <td>E10+</td>\n",
       "      <td>26.16</td>\n",
       "      <td>71.68</td>\n",
       "      <td>0.364955</td>\n",
       "      <td>0.096645</td>\n",
       "    </tr>\n",
       "  </tbody>\n",
       "</table>\n",
       "</div>"
      ],
      "text/plain": [
       "    rating  eu_sales  total_sales  ratio_total  ratio_region\n",
       "2        M     93.44       226.54     0.412466      0.345205\n",
       "4  Unknown     58.95       198.97     0.296276      0.217785\n",
       "0        E     58.06       133.13     0.436115      0.214497\n",
       "3        T     34.07        99.13     0.343690      0.125868\n",
       "1     E10+     26.16        71.68     0.364955      0.096645"
      ]
     },
     "metadata": {},
     "output_type": "display_data"
    },
    {
     "data": {
      "text/plain": [
       "'Ргейтинг ESRB для JP'"
      ]
     },
     "metadata": {},
     "output_type": "display_data"
    },
    {
     "data": {
      "text/html": [
       "<div>\n",
       "<style scoped>\n",
       "    .dataframe tbody tr th:only-of-type {\n",
       "        vertical-align: middle;\n",
       "    }\n",
       "\n",
       "    .dataframe tbody tr th {\n",
       "        vertical-align: top;\n",
       "    }\n",
       "\n",
       "    .dataframe thead th {\n",
       "        text-align: right;\n",
       "    }\n",
       "</style>\n",
       "<table border=\"1\" class=\"dataframe\">\n",
       "  <thead>\n",
       "    <tr style=\"text-align: right;\">\n",
       "      <th></th>\n",
       "      <th>rating</th>\n",
       "      <th>jp_sales</th>\n",
       "      <th>total_sales</th>\n",
       "      <th>ratio_total</th>\n",
       "      <th>ratio_region</th>\n",
       "    </tr>\n",
       "  </thead>\n",
       "  <tbody>\n",
       "    <tr>\n",
       "      <th>4</th>\n",
       "      <td>Unknown</td>\n",
       "      <td>56.90</td>\n",
       "      <td>198.97</td>\n",
       "      <td>0.285973</td>\n",
       "      <td>0.611236</td>\n",
       "    </tr>\n",
       "    <tr>\n",
       "      <th>3</th>\n",
       "      <td>T</td>\n",
       "      <td>14.78</td>\n",
       "      <td>99.13</td>\n",
       "      <td>0.149097</td>\n",
       "      <td>0.158771</td>\n",
       "    </tr>\n",
       "    <tr>\n",
       "      <th>0</th>\n",
       "      <td>E</td>\n",
       "      <td>8.94</td>\n",
       "      <td>133.13</td>\n",
       "      <td>0.067152</td>\n",
       "      <td>0.096036</td>\n",
       "    </tr>\n",
       "    <tr>\n",
       "      <th>2</th>\n",
       "      <td>M</td>\n",
       "      <td>8.01</td>\n",
       "      <td>226.54</td>\n",
       "      <td>0.035358</td>\n",
       "      <td>0.086046</td>\n",
       "    </tr>\n",
       "    <tr>\n",
       "      <th>1</th>\n",
       "      <td>E10+</td>\n",
       "      <td>4.46</td>\n",
       "      <td>71.68</td>\n",
       "      <td>0.062221</td>\n",
       "      <td>0.047911</td>\n",
       "    </tr>\n",
       "  </tbody>\n",
       "</table>\n",
       "</div>"
      ],
      "text/plain": [
       "    rating  jp_sales  total_sales  ratio_total  ratio_region\n",
       "4  Unknown     56.90       198.97     0.285973      0.611236\n",
       "3        T     14.78        99.13     0.149097      0.158771\n",
       "0        E      8.94       133.13     0.067152      0.096036\n",
       "2        M      8.01       226.54     0.035358      0.086046\n",
       "1     E10+      4.46        71.68     0.062221      0.047911"
      ]
     },
     "metadata": {},
     "output_type": "display_data"
    },
    {
     "data": {
      "image/png": "[encoded data removed]",
      "text/plain": [
       "<Figure size 1080x360 with 3 Axes>"
      ]
     },
     "metadata": {
      "needs_background": "light"
     },
     "output_type": "display_data"
    }
   ],
   "source": [
    "fig, axs = plt.subplots(1,3)\n",
    "fig.set_figheight(5)\n",
    "fig.set_figwidth(15)\n",
    "fig.suptitle(\"Рейтинг ESRB для регионов\", fontsize=14)\n",
    "\n",
    "li = ['na_sales', 'eu_sales', 'jp_sales']\n",
    "\n",
    "for i, j in zip(li, range(len(li))):\n",
    "    rating_sales = (data_actual\n",
    "         .groupby('rating', as_index=False)\n",
    "         .agg({i:'sum', 'total_sales':'sum'})\n",
    "\n",
    "         .assign(ratio_total = (lambda x: x[i]/x['total_sales']), ratio_region = (lambda x: x[i]/x[i].sum()))\n",
    "         .sort_values(i, ascending=False)\n",
    "        )\n",
    "    display(f'Ргейтинг ESRB для {i.upper():.2}', rating_sales)     \n",
    "    rating_sales.plot.bar(x='rating', y=i, color='c', ax = axs[j])"
   ]
  },
  {
   "cell_type": "markdown",
   "id": "a23b7c95",
   "metadata": {},
   "source": [
    "Вывод по рейтингу следующий: \n",
    "В Америке и Европе распредление практически одинаково. Игры для взрослых, игры с неизвестным рейтингом - почти треть продаж, игры для всех, затем игры для подростков и игры для детей старше 10 лет. А в Японии игры для взрослых занимают лишь четвертую строчку и всего лишь 3% от мирового рынка. Зато лидирует здесь именно продажи игр с неизвестным рейтингом."
   ]
  },
  {
   "cell_type": "markdown",
   "id": "948e4dc1",
   "metadata": {},
   "source": [
    "Вывод:"
   ]
  },
  {
   "cell_type": "markdown",
   "id": "2b926caa",
   "metadata": {},
   "source": [
    "Можно составить портрет среднестатистического пользователя по регионам:\n",
    "\n",
    "Для Североамериканце характерны игры на консолях PS4 в жанре Шутер и рейтинг \"для взрослых\"\n",
    "\n",
    "Для Европейца характерны игры на консолях PS4 в жанре Экшн и рейтинг \"для взрослых\"\n",
    "\n",
    "Для Азии характерны игры для портативных консолей в жанре ролевых игр и с неизвестным рейтингом. Жанр спорт в азии практически не пользуются популярностью."
   ]
  },
  {
   "cell_type": "markdown",
   "id": "48e526b0",
   "metadata": {},
   "source": [
    "## <a name=\"5\"> 5. Проверка гипотез</a>"
   ]
  },
  {
   "cell_type": "markdown",
   "id": "9ae05e6f",
   "metadata": {},
   "source": [
    "Необходимо проверить следующие гипотезы:\n",
    "\n",
    "1.Средние пользовательские рейтинги платформ Xbox One и PC одинаковые;\n",
    "\n",
    "2.Средние пользовательские рейтинги жанров Action (англ. «действие», экшен-игры) и Sports (англ. «спортивные соревнования») разные."
   ]
  },
  {
   "cell_type": "markdown",
   "id": "ddc848e2",
   "metadata": {},
   "source": [
    "1.Сформулируем нулевую и альтернативные гипотезы:\n",
    "\n",
    "H0 - Средние пользовательские рейтинги платформ Xbox One и PC одинаковые\n",
    "\n",
    "H1 - Средние пользовательские рейтинги платформ Xbox One и PC отличаются"
   ]
  },
  {
   "cell_type": "markdown",
   "id": "f9c4f142",
   "metadata": {},
   "source": [
    "Создадим два датасета применив фильтр к ранее очищенным данным и проверим являются ли наши выборки однородными (с равными дисперсиями)."
   ]
  },
  {
   "cell_type": "code",
   "execution_count": 39,
   "id": "e7cd71c5",
   "metadata": {},
   "outputs": [
    {
     "name": "stdout",
     "output_type": "stream",
     "text": [
      "False\n"
     ]
    }
   ],
   "source": [
    "xbox = data_actual_clean[(data_actual_clean['platform'] == 'XOne') & (data_actual_clean['user_score'] > 0)]['user_score']\n",
    "pc = data_actual_clean[(data_actual_clean['platform'] == 'PC') & (data_actual_clean['user_score'] > 0)]['user_score']\n",
    "if np.var(xbox)==np.var(pc):\n",
    "    print('True')\n",
    "else:\n",
    "    print('False')"
   ]
  },
  {
   "cell_type": "code",
   "execution_count": 40,
   "id": "ffb6d1c5",
   "metadata": {},
   "outputs": [
    {
     "data": {
      "image/png": "[encoded data removed]",
      "text/plain": [
       "<Figure size 432x288 with 1 Axes>"
      ]
     },
     "metadata": {
      "needs_background": "light"
     },
     "output_type": "display_data"
    },
    {
     "data": {
      "image/png": "[encoded data removed]",
      "text/plain": [
       "<Figure size 432x288 with 1 Axes>"
      ]
     },
     "metadata": {
      "needs_background": "light"
     },
     "output_type": "display_data"
    }
   ],
   "source": [
    "sns.distplot(xbox)\n",
    "plt.show()\n",
    "sns.distplot(pc)\n",
    "plt.show()"
   ]
  },
  {
   "cell_type": "markdown",
   "id": "96e6a82c",
   "metadata": {},
   "source": [
    "Чаще всего для проверки равенства средних значений в двух выборках используется критерий Стьюдента. Именно такая задача стоит перед нами, поэтому мы применяем данный критерий. Применим параметр equal_var= False, предполагая, что выборки у нас разного размера и дисперсии у генеральных совокупностей разные. Уровень статистической значимости установим - 5%."
   ]
  },
  {
   "cell_type": "code",
   "execution_count": 41,
   "id": "24baa794",
   "metadata": {},
   "outputs": [
    {
     "name": "stdout",
     "output_type": "stream",
     "text": [
      "p-значение: 0.1604769404962498\n",
      "Не получилось отвергнуть нулевую гипотезу\n"
     ]
    }
   ],
   "source": [
    "alpha = 0.05\n",
    "results = scipy.stats.ttest_ind(xbox, pc, equal_var = False)\n",
    "print('p-значение:', results.pvalue)\n",
    "\n",
    "if (results.pvalue < alpha):\n",
    "    print(\"Отвергаем нулевую гипотезу\")\n",
    "else:\n",
    "    print(\"Не получилось отвергнуть нулевую гипотезу\")"
   ]
  },
  {
   "cell_type": "markdown",
   "id": "734ea19f",
   "metadata": {},
   "source": [
    "Значение p-value более 5%. Можно сказать, что с вероятностью в 16% отвергнуть нулевую гипотезу будет ошибкой."
   ]
  },
  {
   "cell_type": "markdown",
   "id": "6cafd2bb",
   "metadata": {},
   "source": [
    "2.Сформулируем нулевую и альтернативные гипотезы:\n",
    "\n",
    "H0 - Средние пользовательские рейтинги жанров Action (англ. «действие») и Sports (англ. «виды спорта») одинаковы.\n",
    "\n",
    "H1 - Средние пользовательские рейтинги жанров Action (англ. «действие») и Sports (англ. «виды спорта») разные."
   ]
  },
  {
   "cell_type": "code",
   "execution_count": 42,
   "id": "73a12850",
   "metadata": {},
   "outputs": [
    {
     "name": "stdout",
     "output_type": "stream",
     "text": [
      "False\n"
     ]
    }
   ],
   "source": [
    "action = data_actual_clean[(data_actual_clean['genre'] == 'Action') & (data_actual_clean['user_score'] > 0)]['user_score']\n",
    "sports = data_actual_clean[(data_actual_clean['genre'] == 'Sports') & (data_actual_clean['user_score'] > 0)]['user_score']\n",
    "if np.var(action)==np.var(sports):\n",
    "    print('True')\n",
    "else:\n",
    "    print('False')"
   ]
  },
  {
   "cell_type": "code",
   "execution_count": 43,
   "id": "bb7f5eec",
   "metadata": {},
   "outputs": [
    {
     "data": {
      "image/png": "[encoded data removed]",
      "text/plain": [
       "<Figure size 432x288 with 1 Axes>"
      ]
     },
     "metadata": {
      "needs_background": "light"
     },
     "output_type": "display_data"
    },
    {
     "data": {
      "image/png": "[encoded data removed]",
      "text/plain": [
       "<Figure size 432x288 with 1 Axes>"
      ]
     },
     "metadata": {
      "needs_background": "light"
     },
     "output_type": "display_data"
    }
   ],
   "source": [
    "sns.distplot(action)\n",
    "plt.show()\n",
    "sns.distplot(sports)\n",
    "plt.show()"
   ]
  },
  {
   "cell_type": "code",
   "execution_count": 44,
   "id": "ead7ec36",
   "metadata": {},
   "outputs": [
    {
     "name": "stdout",
     "output_type": "stream",
     "text": [
      "p-значение: 5.895287968702648e-10\n",
      "Отвергаем нулевую гипотезу\n"
     ]
    }
   ],
   "source": [
    "alpha = 0.05\n",
    "results=scipy.stats.ttest_ind(action, sports, equal_var = False)\n",
    "print('p-значение:', results.pvalue)\n",
    "\n",
    "if (results.pvalue < alpha):\n",
    "    print(\"Отвергаем нулевую гипотезу\")\n",
    "else:\n",
    "    print(\"Не получилось отвергнуть нулевую гипотезу\")"
   ]
  },
  {
   "cell_type": "markdown",
   "id": "a334b221",
   "metadata": {},
   "source": [
    "Уровень p-значимости невероятно мал. Это значит, что вероятность получить такой результат или более далекий от предполагаемого ничтожно мала. Здесь мы отвергаем нулевую гипотезу."
   ]
  },
  {
   "cell_type": "markdown",
   "id": "e16b0e43",
   "metadata": {},
   "source": [
    "## <a name=\"6\"> 6. Вывод.</a>"
   ]
  },
  {
   "cell_type": "markdown",
   "id": "55d4d631",
   "metadata": {},
   "source": [
    "В ходе исследования был выполнен обширный объем работы:\n",
    "\n",
    "1. Познакомились с данными.\n",
    "2. Выполнили предобработку данных, включающую:\n",
    "   - Приведение в порядок названий колонок.\n",
    "   - Преобразование типов данных.\n",
    "   - Проверку наличия дубликатов и аномалий.\n",
    "   - Заполнение пропущенных значений.\n",
    "3. Выполнили рассчеты, в том числе:\n",
    "   - Подсчет суммарных продаж для каждой игры.\n",
    "4. Провели исследовательский анализ данных:\n",
    "   - Изучили зависимость продаж от регионов, жанров, платформ и оценок.\n",
    "   - Проанализировали количество выпускаемых игр по годам.\n",
    "   - Определили \"срок жизни\" платформ и выбрали актуальный период для анализа данных.\n",
    "   - Изучили данные на наличие выбросов и обработали их.\n",
    "   - Составили потенциальные портреты пользователей в разных регионах.\n",
    "5. Проверили гипотезы:\n",
    "   - Сравнили средние оценки пользователей для двух платформ и двух жанров игр.\n",
    "\n",
    "Несколько выводов, которые можно сделать на основе проведенной работы:\n",
    "\n",
    "1. Количество игр, выпускаемых для всех платформ, резко уменьшается начиная с 2010 года, что объясняется развитием рынка мобильных устройств.\n",
    "2. Средний срок жизни популярных платформ составляет около 10 лет, а пик их популярности приходится на 5-й год.\n",
    "3. Продажи игр прямо пропорционально зависят от оценок, независимо от того, кто их выставил - пользователи или критики. Также высокие оценки критиков ведут к более высоким продажам.\n",
    "4. Самыми популярными жанрами являются экшн, шутеры, спортивные и ролевые игры.\n",
    "5. Предпочтения по платформам отличаются в разных регионах: в Америке и Европе популярны Xbox и PlayStation, в то время как в Азии более популярны портативные консоли, такие как Nintendo и PSP.\n",
    "6. В разных регионах также наблюдаются различия в предпочитаемых жанрах игр. В Америке и Европе популярны экшн и шутеры, а в Азии - ролевые игры. Шутеры и спортивные игры в Азии не пользуются большой популярностью.\n",
    "7. Игры с рейтингом \"для взрослых\" не являются перспективными в Азии, составляя всего 3% от мирового рынка.\n",
    "8. Средние оценки пользователей для PC и Xbox One не отличаются, но средние оценки пользователей в жанрах экшн и спорт различаются.\n",
    "\n",
    "Таким образом, закономерности, определяющие успешность игры:\n",
    "\n",
    "- В регионах Америки и Европы на платформе PS4 в жанрах Экшн, Спорт и Шутеры\n",
    "- В регионе Азии на платформе 3DS на игре в жанре Ролевые игры"
   ]
  }
 ],
 "metadata": {
  "ExecuteTimeLog": [
   {
    "duration": 74,
    "start_time": "2023-03-07T11:59:46.748Z"
   },
   {
    "duration": 1612,
    "start_time": "2023-03-07T11:59:59.762Z"
   },
   {
    "duration": 284,
    "start_time": "2023-03-07T12:00:01.381Z"
   },
   {
    "duration": 43,
    "start_time": "2023-03-07T12:00:01.671Z"
   },
   {
    "duration": 277,
    "start_time": "2023-03-07T12:00:01.716Z"
   },
   {
    "duration": 156,
    "start_time": "2023-03-07T12:00:01.997Z"
   },
   {
    "duration": 143,
    "start_time": "2023-03-07T12:00:02.154Z"
   },
   {
    "duration": 76,
    "start_time": "2023-03-07T12:00:02.299Z"
   },
   {
    "duration": 45,
    "start_time": "2023-03-07T12:00:02.377Z"
   },
   {
    "duration": 86,
    "start_time": "2023-03-07T12:00:02.424Z"
   },
   {
    "duration": 90,
    "start_time": "2023-03-07T12:00:02.513Z"
   },
   {
    "duration": 37,
    "start_time": "2023-03-07T12:00:02.604Z"
   },
   {
    "duration": 87,
    "start_time": "2023-03-07T12:00:02.643Z"
   },
   {
    "duration": 110,
    "start_time": "2023-03-07T12:00:02.739Z"
   },
   {
    "duration": 64,
    "start_time": "2023-03-07T12:00:02.851Z"
   },
   {
    "duration": 74,
    "start_time": "2023-03-07T12:00:02.917Z"
   },
   {
    "duration": 25,
    "start_time": "2023-03-07T12:00:02.994Z"
   },
   {
    "duration": 56,
    "start_time": "2023-03-07T12:00:03.020Z"
   },
   {
    "duration": 42,
    "start_time": "2023-03-07T12:00:03.078Z"
   },
   {
    "duration": 94,
    "start_time": "2023-03-07T12:00:03.122Z"
   },
   {
    "duration": 103,
    "start_time": "2023-03-07T12:00:03.217Z"
   },
   {
    "duration": 428,
    "start_time": "2023-03-07T12:00:03.321Z"
   },
   {
    "duration": 338,
    "start_time": "2023-03-07T12:00:03.755Z"
   },
   {
    "duration": 16,
    "start_time": "2023-03-07T12:00:04.098Z"
   },
   {
    "duration": 402,
    "start_time": "2023-03-07T12:00:04.115Z"
   },
   {
    "duration": 84,
    "start_time": "2023-03-07T12:00:04.519Z"
   },
   {
    "duration": 663,
    "start_time": "2023-03-07T12:00:04.605Z"
   },
   {
    "duration": 376,
    "start_time": "2023-03-07T12:00:05.279Z"
   },
   {
    "duration": 9,
    "start_time": "2023-03-07T12:00:05.663Z"
   },
   {
    "duration": 424,
    "start_time": "2023-03-07T12:00:05.677Z"
   },
   {
    "duration": 6,
    "start_time": "2023-03-07T12:00:06.106Z"
   },
   {
    "duration": 1802,
    "start_time": "2023-03-07T12:00:06.114Z"
   },
   {
    "duration": 376,
    "start_time": "2023-03-07T12:00:07.918Z"
   },
   {
    "duration": 17,
    "start_time": "2023-03-07T12:00:08.297Z"
   },
   {
    "duration": 48,
    "start_time": "2023-03-07T12:00:08.316Z"
   },
   {
    "duration": 97,
    "start_time": "2023-03-07T12:00:08.366Z"
   },
   {
    "duration": 462,
    "start_time": "2023-03-07T12:00:08.465Z"
   },
   {
    "duration": 526,
    "start_time": "2023-03-07T12:00:08.928Z"
   },
   {
    "duration": 500,
    "start_time": "2023-03-07T12:00:09.456Z"
   },
   {
    "duration": 24,
    "start_time": "2023-03-07T12:00:09.959Z"
   },
   {
    "duration": 342,
    "start_time": "2023-03-07T12:00:09.985Z"
   },
   {
    "duration": 20,
    "start_time": "2023-03-07T12:00:10.329Z"
   },
   {
    "duration": 57,
    "start_time": "2023-03-07T12:00:10.351Z"
   },
   {
    "duration": 414,
    "start_time": "2023-03-07T12:00:10.410Z"
   },
   {
    "duration": 5,
    "start_time": "2023-03-07T12:00:10.825Z"
   },
   {
    "duration": 16,
    "start_time": "2023-03-07T12:01:53.505Z"
   },
   {
    "duration": 27,
    "start_time": "2023-03-07T12:04:52.441Z"
   },
   {
    "duration": 97,
    "start_time": "2023-03-07T12:06:19.111Z"
   },
   {
    "duration": 112,
    "start_time": "2023-03-07T12:06:33.107Z"
   },
   {
    "duration": 21,
    "start_time": "2023-03-07T12:06:45.601Z"
   },
   {
    "duration": 19,
    "start_time": "2023-03-07T12:06:54.162Z"
   },
   {
    "duration": 179,
    "start_time": "2023-03-07T12:13:14.264Z"
   },
   {
    "duration": 50,
    "start_time": "2023-03-07T12:13:44.702Z"
   },
   {
    "duration": 21,
    "start_time": "2023-03-07T12:22:08.895Z"
   },
   {
    "duration": 43,
    "start_time": "2023-03-07T12:22:41.626Z"
   },
   {
    "duration": 21,
    "start_time": "2023-03-07T12:22:52.099Z"
   },
   {
    "duration": 45,
    "start_time": "2023-03-07T12:23:07.518Z"
   },
   {
    "duration": 41,
    "start_time": "2023-03-07T12:23:49.153Z"
   },
   {
    "duration": 4,
    "start_time": "2023-03-07T12:25:23.773Z"
   },
   {
    "duration": 41,
    "start_time": "2023-03-07T12:25:40.243Z"
   },
   {
    "duration": 16,
    "start_time": "2023-03-07T12:33:34.556Z"
   },
   {
    "duration": 14,
    "start_time": "2023-03-07T12:38:14.674Z"
   },
   {
    "duration": 1412,
    "start_time": "2023-03-07T13:17:55.324Z"
   },
   {
    "duration": 129,
    "start_time": "2023-03-07T13:17:56.745Z"
   },
   {
    "duration": 59,
    "start_time": "2023-03-07T13:17:56.876Z"
   },
   {
    "duration": 36,
    "start_time": "2023-03-07T13:17:56.939Z"
   },
   {
    "duration": 79,
    "start_time": "2023-03-07T13:17:56.977Z"
   },
   {
    "duration": 14,
    "start_time": "2023-03-07T13:17:57.059Z"
   },
   {
    "duration": 7,
    "start_time": "2023-03-07T13:17:57.075Z"
   },
   {
    "duration": 7,
    "start_time": "2023-03-07T13:17:57.084Z"
   },
   {
    "duration": 22,
    "start_time": "2023-03-07T13:17:57.093Z"
   },
   {
    "duration": 30,
    "start_time": "2023-03-07T13:17:57.138Z"
   },
   {
    "duration": 12,
    "start_time": "2023-03-07T13:17:57.170Z"
   },
   {
    "duration": 56,
    "start_time": "2023-03-07T13:17:57.185Z"
   },
   {
    "duration": 20,
    "start_time": "2023-03-07T13:17:57.243Z"
   },
   {
    "duration": 6,
    "start_time": "2023-03-07T13:17:57.265Z"
   },
   {
    "duration": 29,
    "start_time": "2023-03-07T13:17:57.273Z"
   },
   {
    "duration": 43,
    "start_time": "2023-03-07T13:17:57.304Z"
   },
   {
    "duration": 8,
    "start_time": "2023-03-07T13:17:57.348Z"
   },
   {
    "duration": 9,
    "start_time": "2023-03-07T13:17:57.358Z"
   },
   {
    "duration": 9,
    "start_time": "2023-03-07T13:17:57.369Z"
   },
   {
    "duration": 33,
    "start_time": "2023-03-07T13:17:57.380Z"
   },
   {
    "duration": 364,
    "start_time": "2023-03-07T13:17:57.415Z"
   },
   {
    "duration": 314,
    "start_time": "2023-03-07T13:17:57.780Z"
   },
   {
    "duration": 18,
    "start_time": "2023-03-07T13:17:58.096Z"
   },
   {
    "duration": 376,
    "start_time": "2023-03-07T13:17:58.117Z"
   },
   {
    "duration": 41,
    "start_time": "2023-03-07T13:17:58.496Z"
   },
   {
    "duration": 601,
    "start_time": "2023-03-07T13:17:58.540Z"
   },
   {
    "duration": 325,
    "start_time": "2023-03-07T13:17:59.145Z"
   },
   {
    "duration": 8,
    "start_time": "2023-03-07T13:17:59.475Z"
   },
   {
    "duration": 380,
    "start_time": "2023-03-07T13:17:59.485Z"
   },
   {
    "duration": 6,
    "start_time": "2023-03-07T13:17:59.868Z"
   },
   {
    "duration": 1706,
    "start_time": "2023-03-07T13:17:59.876Z"
   },
   {
    "duration": 366,
    "start_time": "2023-03-07T13:18:01.585Z"
   },
   {
    "duration": 18,
    "start_time": "2023-03-07T13:18:01.954Z"
   },
   {
    "duration": 94,
    "start_time": "2023-03-07T13:18:01.975Z"
   },
   {
    "duration": 91,
    "start_time": "2023-03-07T13:18:02.072Z"
   },
   {
    "duration": 456,
    "start_time": "2023-03-07T13:18:02.167Z"
   },
   {
    "duration": 463,
    "start_time": "2023-03-07T13:18:02.631Z"
   },
   {
    "duration": 474,
    "start_time": "2023-03-07T13:18:03.096Z"
   },
   {
    "duration": 9,
    "start_time": "2023-03-07T13:18:03.572Z"
   },
   {
    "duration": 310,
    "start_time": "2023-03-07T13:18:03.582Z"
   },
   {
    "duration": 7,
    "start_time": "2023-03-07T13:18:03.895Z"
   },
   {
    "duration": 36,
    "start_time": "2023-03-07T13:18:03.904Z"
   },
   {
    "duration": 453,
    "start_time": "2023-03-07T13:18:03.942Z"
   },
   {
    "duration": 7,
    "start_time": "2023-03-07T13:18:04.397Z"
   },
   {
    "duration": 74,
    "start_time": "2023-03-07T13:19:07.450Z"
   },
   {
    "duration": 99,
    "start_time": "2023-03-07T13:19:14.554Z"
   },
   {
    "duration": 1227,
    "start_time": "2023-03-07T13:22:38.876Z"
   },
   {
    "duration": 94,
    "start_time": "2023-03-07T13:22:40.105Z"
   },
   {
    "duration": 42,
    "start_time": "2023-03-07T13:22:40.201Z"
   },
   {
    "duration": 17,
    "start_time": "2023-03-07T13:22:40.249Z"
   },
   {
    "duration": 82,
    "start_time": "2023-03-07T13:22:40.269Z"
   },
   {
    "duration": 16,
    "start_time": "2023-03-07T13:22:40.354Z"
   },
   {
    "duration": 8,
    "start_time": "2023-03-07T13:22:40.373Z"
   },
   {
    "duration": 5,
    "start_time": "2023-03-07T13:22:40.382Z"
   },
   {
    "duration": 49,
    "start_time": "2023-03-07T13:22:40.389Z"
   },
   {
    "duration": 33,
    "start_time": "2023-03-07T13:22:40.441Z"
   },
   {
    "duration": 15,
    "start_time": "2023-03-07T13:22:40.477Z"
   },
   {
    "duration": 22,
    "start_time": "2023-03-07T13:22:40.495Z"
   },
   {
    "duration": 25,
    "start_time": "2023-03-07T13:22:40.532Z"
   },
   {
    "duration": 5,
    "start_time": "2023-03-07T13:22:40.561Z"
   },
   {
    "duration": 20,
    "start_time": "2023-03-07T13:22:40.568Z"
   },
   {
    "duration": 44,
    "start_time": "2023-03-07T13:22:40.590Z"
   },
   {
    "duration": 10,
    "start_time": "2023-03-07T13:22:40.637Z"
   },
   {
    "duration": 12,
    "start_time": "2023-03-07T13:22:40.655Z"
   },
   {
    "duration": 8,
    "start_time": "2023-03-07T13:22:40.669Z"
   },
   {
    "duration": 40,
    "start_time": "2023-03-07T13:22:40.679Z"
   },
   {
    "duration": 428,
    "start_time": "2023-03-07T13:22:40.733Z"
   },
   {
    "duration": 345,
    "start_time": "2023-03-07T13:22:41.163Z"
   },
   {
    "duration": 30,
    "start_time": "2023-03-07T13:22:41.510Z"
   },
   {
    "duration": 315,
    "start_time": "2023-03-07T13:22:41.542Z"
   },
   {
    "duration": 40,
    "start_time": "2023-03-07T13:22:41.860Z"
   },
   {
    "duration": 603,
    "start_time": "2023-03-07T13:22:41.903Z"
   },
   {
    "duration": 382,
    "start_time": "2023-03-07T13:22:42.508Z"
   },
   {
    "duration": 15,
    "start_time": "2023-03-07T13:22:42.893Z"
   },
   {
    "duration": 359,
    "start_time": "2023-03-07T13:22:42.910Z"
   },
   {
    "duration": 5,
    "start_time": "2023-03-07T13:22:43.271Z"
   },
   {
    "duration": 1671,
    "start_time": "2023-03-07T13:22:43.278Z"
   },
   {
    "duration": 371,
    "start_time": "2023-03-07T13:22:44.950Z"
   },
   {
    "duration": 32,
    "start_time": "2023-03-07T13:22:45.323Z"
   },
   {
    "duration": 45,
    "start_time": "2023-03-07T13:22:45.360Z"
   },
   {
    "duration": 80,
    "start_time": "2023-03-07T13:22:45.407Z"
   },
   {
    "duration": 571,
    "start_time": "2023-03-07T13:22:45.489Z"
   },
   {
    "duration": 562,
    "start_time": "2023-03-07T13:22:46.062Z"
   },
   {
    "duration": 532,
    "start_time": "2023-03-07T13:22:46.627Z"
   },
   {
    "duration": 10,
    "start_time": "2023-03-07T13:22:47.161Z"
   },
   {
    "duration": 326,
    "start_time": "2023-03-07T13:22:47.173Z"
   },
   {
    "duration": 7,
    "start_time": "2023-03-07T13:22:47.504Z"
   },
   {
    "duration": 33,
    "start_time": "2023-03-07T13:22:47.513Z"
   },
   {
    "duration": 381,
    "start_time": "2023-03-07T13:22:47.547Z"
   },
   {
    "duration": 7,
    "start_time": "2023-03-07T13:22:47.930Z"
   }
  ],
  "kernelspec": {
   "display_name": "Python 3 (ipykernel)",
   "language": "python",
   "name": "python3"
  },
  "language_info": {
   "codemirror_mode": {
    "name": "ipython",
    "version": 3
   },
   "file_extension": ".py",
   "mimetype": "text/x-python",
   "name": "python",
   "nbconvert_exporter": "python",
   "pygments_lexer": "ipython3",
   "version": "3.9.12"
  },
  "toc": {
   "base_numbering": 1,
   "nav_menu": {},
   "number_sections": true,
   "sideBar": true,
   "skip_h1_title": true,
   "title_cell": "Table of Contents",
   "title_sidebar": "Contents",
   "toc_cell": false,
   "toc_position": {},
   "toc_section_display": true,
   "toc_window_display": false
  }
 },
 "nbformat": 4,
 "nbformat_minor": 5
}
